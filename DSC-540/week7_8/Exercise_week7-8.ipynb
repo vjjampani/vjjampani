{
 "cells": [
  {
   "cell_type": "markdown",
   "metadata": {},
   "source": [
    "## DSC 540: Week 9&10 Exercises\n",
    "## DATE : JUL-24-2022"
   ]
  },
  {
   "cell_type": "markdown",
   "metadata": {},
   "source": [
    "## Activity 9"
   ]
  },
  {
   "cell_type": "code",
   "execution_count": 1,
   "metadata": {},
   "outputs": [],
   "source": [
    "## 1. Import the necessary libraries, including regex and beautifulsoup.\n",
    "import urllib.request, urllib.parse, urllib.error\n",
    "\n",
    "import requests\n",
    "\n",
    "from bs4 import BeautifulSoup\n",
    "\n",
    "import ssl\n",
    "\n",
    "import re"
   ]
  },
  {
   "cell_type": "code",
   "execution_count": 2,
   "metadata": {},
   "outputs": [],
   "source": [
    "## 2. Check SSl certificate\n",
    "## Ignore SSL certificate errors\n",
    "\n",
    "ctx = ssl.create_default_context()\n",
    "\n",
    "ctx.check_hostname = False\n",
    "\n",
    "ctx.verify_mode = ssl.CERT_NONE"
   ]
  },
  {
   "cell_type": "code",
   "execution_count": 3,
   "metadata": {},
   "outputs": [],
   "source": [
    "## 3. Read HTML from the URL and pass on to BeautifulSoup\n",
    "\n",
    "top100url = 'https://www.gutenberg.org/browse/scores/top'\n",
    "\n",
    "response = requests.get(top100url)"
   ]
  },
  {
   "cell_type": "code",
   "execution_count": 4,
   "metadata": {},
   "outputs": [],
   "source": [
    "## 4. Write a small function to check the status of the web request.\n",
    "def status_check(res):\n",
    "    if res.status_code==200:\n",
    "        print('Success!')\n",
    "        return 1\n",
    "    else:\n",
    "        print('Failed!')\n",
    "        return -1"
   ]
  },
  {
   "cell_type": "code",
   "execution_count": 5,
   "metadata": {},
   "outputs": [
    {
     "name": "stdout",
     "output_type": "stream",
     "text": [
      "Success!\n"
     ]
    },
    {
     "data": {
      "text/plain": [
       "1"
      ]
     },
     "execution_count": 5,
     "metadata": {},
     "output_type": "execute_result"
    }
   ],
   "source": [
    "## 4. check status response, its success from the result.\n",
    "status_check(response)\n"
   ]
  },
  {
   "cell_type": "code",
   "execution_count": 6,
   "metadata": {},
   "outputs": [],
   "source": [
    "## 5. Decode response and pass to beautifulsoup for HTML parsing.\n",
    "\n",
    "contents_resp = response.content.decode(response.encoding)\n",
    "\n",
    "soup_contents = BeautifulSoup(contents_resp, 'html.parser')"
   ]
  },
  {
   "cell_type": "code",
   "execution_count": 7,
   "metadata": {},
   "outputs": [
    {
     "data": {
      "text/plain": [
       "['/',\n",
       " '/about/',\n",
       " '/about/',\n",
       " '/policy/collection_development.html',\n",
       " '/about/contact_information.html',\n",
       " '/about/background/',\n",
       " '/policy/permission.html',\n",
       " '/policy/privacy_policy.html',\n",
       " '/policy/terms_of_use.html',\n",
       " '/ebooks/',\n",
       " '/ebooks/',\n",
       " '/ebooks/bookshelf/',\n",
       " '/browse/scores/top',\n",
       " '/ebooks/offline_catalogs.html',\n",
       " '/help/',\n",
       " '/help/',\n",
       " '/help/copyright.html',\n",
       " '/help/errata.html',\n",
       " '/help/file_formats.html',\n",
       " '/help/faq.html',\n",
       " '/policy/',\n",
       " '/help/public_domain_ebook_submission.html',\n",
       " '/help/submitting_your_own_work.html',\n",
       " '/help/mobile.html',\n",
       " '/attic/',\n",
       " '/donate/',\n",
       " '/donate/',\n",
       " '#books-last1',\n",
       " '#authors-last1',\n",
       " '#books-last7']"
      ]
     },
     "execution_count": 7,
     "metadata": {},
     "output_type": "execute_result"
    }
   ],
   "source": [
    "## 6. Find all the href tags and store them in the list of links. \n",
    "## Check what the list looks like – print the first 30 elements.\n",
    "\n",
    "list_links=[]\n",
    "\n",
    "## Find all the href tags and store them in the list of links\n",
    "\n",
    "for link in soup_contents.find_all('a'):\n",
    "    list_links.append(link.get('href'))\n",
    "## print all the links\n",
    "list_links[:30]"
   ]
  },
  {
   "cell_type": "code",
   "execution_count": 8,
   "metadata": {},
   "outputs": [
    {
     "name": "stdout",
     "output_type": "stream",
     "text": [
      "\n",
      "The file numbers for the top 100 ebooks on Gutenberg are shown below\n",
      "----------------------------------------------------------------------\n",
      "[1, 1, 7, 7, 30, 30, 1342, 4300, 1661, 11, 33283, 105, 2701, 68639, 345, 174, 1184, 98, 68641, 84, 68642, 2600, 2554, 2591, 5200, 6130, 1952, 30254, 64317, 1400, 768, 1260, 45, 1080, 4980, 38600, 68640, 32449, 76, 74, 1232, 120, 158, 27827, 58585, 514, 844, 1399, 28054, 996, 135, 35, 4363, 5740, 43, 2680, 46, 1497, 67098, 43453, 205, 16, 161, 25717, 219, 3206, 244, 10, 31284, 36, 68636, 27107, 55, 8492, 68638, 2852, 766, 2848, 2542, 2814, 730, 41, 68646, 863, 408, 1998, 8800, 236, 10007, 1727, 113, 68650]\n"
     ]
    }
   ],
   "source": [
    "## 7,8. Use a regular expression to find the numeric digits in these links. \n",
    "## These are the file numbers for the top 100 eBooks.\n",
    "booknum=[]\n",
    "for i in range(19,119):\n",
    "    link=list_links[i]\n",
    "    link=link.strip()\n",
    "## Regular expression to find the numeric digits in the link (href) string\n",
    "    n=re.findall('[0-9]+',link)\n",
    "    if len(n)==1:\n",
    "        # Append the filenumber casted as integer\n",
    "        booknum.append(int(n[0]))\n",
    "\n",
    "## Printing the file numbers\n",
    "print ('\\nThe file numbers for the top 100 ebooks on Gutenberg are shown below\\n'+'-'*70)\n",
    "\n",
    "## print the numbers\n",
    "print(booknum)\n",
    "\n"
   ]
  },
  {
   "cell_type": "code",
   "execution_count": 9,
   "metadata": {},
   "outputs": [
    {
     "name": "stdout",
     "output_type": "stream",
     "text": [
      "\n",
      "\n",
      "\n",
      "\n",
      "Top 100 | Project Gutenberg\n",
      "\n",
      "\n",
      "\n",
      "\n",
      "\n",
      "\n",
      "\n",
      "\n",
      "\n",
      "\n",
      "\n",
      "\n",
      "\n",
      "\n",
      "\n",
      "\n",
      "\n",
      "\n",
      "\n",
      "\n",
      "\n",
      "\n",
      "\n",
      "\n",
      "\n",
      "\n",
      "\n",
      "Menu▾\n",
      "\n",
      "\n",
      "\n",
      "About\n",
      "          ▾\n",
      "\n",
      "▾\n",
      "\n",
      "\n",
      "About Project Gutenberg\n",
      "Collection Development\n",
      "Contact Us\n",
      "History & Philosophy\n",
      "Permissions & License\n",
      "Privacy Policy\n",
      "Terms of Use\n",
      "\n",
      "\n",
      "\n",
      "Search and Browse\n",
      "      \t  ▾\n",
      "\n",
      "▾\n",
      "\n",
      "\n",
      "Book Search\n",
      "Bookshelves\n",
      "Frequently Downloaded\n",
      "Offline Catalogs\n",
      "\n",
      "\n",
      "\n",
      "Help\n",
      "          ▾\n",
      "\n",
      "▾\n",
      "\n",
      "\n",
      "All help topics →\n",
      "Copyright Procedures\n",
      "Errata, Fixes and Bug Reports\n",
      "File Formats\n",
      "Frequently Asked Questions\n",
      "Policies →\n",
      "Public Domain eBook Submission\n",
      "Submitting Your Own Work\n",
      "Tablets, Phones and eReaders\n",
      "The Attic →\n",
      "\n",
      "\n",
      "Donate\n",
      "\n",
      "\n",
      "\n",
      "\n",
      "\n",
      "\n",
      "\n",
      "\n",
      "\n",
      "\n",
      "Donation\n",
      "\n",
      "\n",
      "\n",
      "\n",
      "\n",
      "\n",
      "\n",
      "Frequently Viewed or Downloaded\n",
      "These listings are based on the number of times each eBook gets downloaded.\n",
      "      Multiple downloads from the same Internet address on the same day count as one download, and addresses that download more than 100 eBooks in a day are considered robots and are not counted.\n",
      "\n",
      "Downloaded Books\n",
      "2022-07-30166339\n",
      "last 7 days1089191\n",
      "last 30 days4465455\n",
      "\n",
      "\n",
      "\n",
      "Top 100 EBooks yesterday\n",
      "Top 100 Authors yesterday\n",
      "Top 100 EBooks last 7 days\n",
      "Top 100 Authors last 7 days\n",
      "Top 100 EBooks last 30 days\n",
      "Top 100 Authors last 30 days\n",
      "\n",
      "\n",
      "Top 100 EBooks yesterday\n",
      "\n",
      "Pride and Prejudice by Jane Austen (1411)\n",
      "Ulysses by James Joyce (1386)\n",
      "The Adventures of Sherlock Holmes by Arthur Conan Doyle (771)\n",
      "Alice's Adventures in Wonderland by Lewis Carroll (640)\n",
      "Calculus Made Easy by Silvanus P.  Thompson (602)\n",
      "Persuasion by Jane Austen (597)\n",
      "Moby Dick; Or, The Whale by Herman Melville (524)\n",
      "Poems we all love by Various Various (511)\n",
      "Dracula by Bram Stoker (462)\n",
      "The Picture of Dorian Gray by Oscar Wilde (461)\n",
      "The Count of Monte Cristo, Illustrated by Alexandre Dumas (406)\n",
      "A Tale of Two Cities by Charles Dickens (400)\n",
      "The descent of the Sun: A cycle of birth by Unknown Unknown (398)\n",
      "Frankenstein; Or, The Modern Prometheus by Mary Wollstonecraft Shelley (395)\n",
      "The little white gate by Florence Hoatson (388)\n",
      "War and Peace by graf Leo Tolstoy (376)\n",
      "Crime and Punishment by Fyodor Dostoyevsky (370)\n"
     ]
    },
    {
     "ename": "NameError",
     "evalue": "name 'top' is not defined",
     "output_type": "error",
     "traceback": [
      "\u001b[1;31m---------------------------------------------------------------------------\u001b[0m",
      "\u001b[1;31mNameError\u001b[0m                                 Traceback (most recent call last)",
      "\u001b[1;32mC:\\Users\\JAGADE~1\\AppData\\Local\\Temp/ipykernel_17612/4088862840.py\u001b[0m in \u001b[0;36m<module>\u001b[1;34m\u001b[0m\n\u001b[0;32m      3\u001b[0m \u001b[0mprint\u001b[0m\u001b[1;33m(\u001b[0m\u001b[0msoup_contents\u001b[0m\u001b[1;33m.\u001b[0m\u001b[0mtext\u001b[0m\u001b[1;33m[\u001b[0m\u001b[1;33m:\u001b[0m\u001b[1;36m2000\u001b[0m\u001b[1;33m]\u001b[0m\u001b[1;33m)\u001b[0m\u001b[1;33m\u001b[0m\u001b[1;33m\u001b[0m\u001b[0m\n\u001b[0;32m      4\u001b[0m \u001b[1;33m\u001b[0m\u001b[0m\n\u001b[1;32m----> 5\u001b[1;33m \u001b[1;32mif\u001b[0m \u001b[1;33m(\u001b[0m\u001b[0mtop\u001b[0m \u001b[1;33m!=\u001b[0m \u001b[0mself\u001b[0m\u001b[1;33m)\u001b[0m\u001b[1;33m:\u001b[0m\u001b[1;33m\u001b[0m\u001b[1;33m\u001b[0m\u001b[0m\n\u001b[0m\u001b[0;32m      6\u001b[0m     \u001b[0mtop\u001b[0m\u001b[1;33m.\u001b[0m\u001b[0mlocation\u001b[0m\u001b[1;33m.\u001b[0m\u001b[0mreplace\u001b[0m\u001b[1;33m(\u001b[0m\u001b[1;34m\"http://www.gutenberg.org\"\u001b[0m\u001b[1;33m)\u001b[0m\u001b[1;33m\u001b[0m\u001b[1;33m\u001b[0m\u001b[0m\n\u001b[0;32m      7\u001b[0m     \u001b[0malert\u001b[0m\u001b[1;33m(\u001b[0m\u001b[1;34m'Project Gutenberg is a FREE service with NO membership required. If you paid somebody else to get here,make them give you your money back!'\u001b[0m\u001b[1;33m)\u001b[0m\u001b[1;33m\u001b[0m\u001b[1;33m\u001b[0m\u001b[0m\n",
      "\u001b[1;31mNameError\u001b[0m: name 'top' is not defined"
     ]
    }
   ],
   "source": [
    "## 9. What does the soup object's text look like? Use the .text method and print only the first 2,000 characters (do not\n",
    "## print the whole thing, as it is too long).\n",
    "print(soup_contents.text[:2000])\n",
    "\n",
    "if (top != self):\n",
    "    top.location.replace(\"http://www.gutenberg.org\")\n",
    "    alert('Project Gutenberg is a FREE service with NO membership required. If you paid somebody else to get here,make them give you your money back!')\n"
   ]
  },
  {
   "cell_type": "code",
   "execution_count": 10,
   "metadata": {},
   "outputs": [
    {
     "name": "stdout",
     "output_type": "stream",
     "text": [
      "\n",
      "Pride and Prejudice by Jane Austen \n",
      "Ulysses by James Joyce \n",
      "The Adventures of Sherlock Holmes by Arthur Conan Doyle \n",
      "Alice\n",
      "Calculus Made Easy by Silvanus P\n",
      "Persuasion by Jane Austen \n",
      "Moby Dick\n",
      "Poems we all love by Various Various \n",
      "Dracula by Bram Stoker \n",
      "The Picture of Dorian Gray by Oscar Wilde \n",
      "The Count of Monte Cristo\n",
      "A Tale of Two Cities by Charles Dickens \n",
      "The descent of the Sun\n",
      "Frankenstein\n",
      "The little white gate by Florence Hoatson \n",
      "War and Peace by graf Leo Tolstoy \n",
      "Crime and Punishment by Fyodor Dostoyevsky \n",
      "Grimms\n",
      "Metamorphosis by Franz Kafka \n",
      "The Iliad by Homer \n",
      "The Yellow Wallpaper by Charlotte Perkins Gilman \n",
      "The Romance of Lust\n",
      "The Great Gatsby by F\n",
      "Great Expectations by Charles Dickens \n",
      "Wuthering Heights by Emily Bront\n",
      "Jane Eyre\n",
      "Anne of Green Gables by L\n",
      "A Modest Proposal by Jonathan Swift \n",
      "Old Granny Fox by Thornton W\n",
      "The World\n",
      "The Chutney lyrics\n",
      "Japanese Girls and Women by Alice Mabel Bacon \n",
      "Adventures of Huckleberry Finn by Mark Twain \n",
      "The Adventures of Tom Sawyer\n",
      "The Prince by Niccol\n",
      "Treasure Island by Robert Louis Stevenson \n",
      "Emma by Jane Austen \n",
      "The Kama Sutra of Vatsyayana by Vatsyayana \n",
      "The Prophet by Kahlil Gibran \n",
      "Little Women by Louisa May Alcott \n",
      "The Importance of Being Earnest\n",
      "Anna Karenina by graf Leo Tolstoy \n",
      "The Brothers Karamazov by Fyodor Dostoyevsky \n",
      "Don Quixote by Miguel de Cervantes Saavedra \n",
      "Les Mis\n",
      "The Time Machine by H\n",
      "Beyond Good and Evil by Friedrich Wilhelm Nietzsche \n",
      "Tractatus Logico\n",
      "The Strange Case of Dr\n",
      "Meditations by Emperor of Rome Marcus Aurelius \n",
      "A Christmas Carol in Prose\n",
      "The Republic by Plato \n",
      "Winnie\n",
      "A Pickle for the Knowing Ones by Timothy Dexter \n",
      "Walden\n",
      "Peter Pan by J\n",
      "Sense and Sensibility by Jane Austen \n",
      "The History of the Decline and Fall of the Roman Empire by Edward Gibbon \n",
      "Heart of Darkness by Joseph Conrad \n",
      "Moby Multiple Language Lists of Common Words by Grady Ward \n",
      "A Study in Scarlet by Arthur Conan Doyle \n",
      "The King James Version of the Bible \n",
      "Josefine Mutzenbacher by Felix Salten \n",
      "The War of the Worlds by H\n",
      "Napol\n",
      "\n",
      "The Wonderful Wizard of Oz by L\n",
      "The King in Yellow by Robert W\n",
      "The Philistine\n",
      "The Hound of the Baskervilles by Arthur Conan Doyle \n",
      "David Copperfield by Charles Dickens \n",
      "Antiquities of the Jews by Flavius Josephus \n",
      "A Doll\n",
      "Dubliners by James Joyce \n",
      "Oliver Twist by Charles Dickens \n",
      "The Legend of Sleepy Hollow by Washington Irving \n",
      "Hours with the Mystics\n",
      "The Mysterious Affair at Styles by Agatha Christie \n",
      "The Souls of Black Folk by W\n",
      "Thus Spake Zarathustra\n",
      "An Index of The Divine Comedy by Dante by Dante Alighieri \n",
      "The Jungle Book by Rudyard Kipling \n",
      "Carmilla by Joseph Sheridan Le Fanu \n",
      "The Odyssey by Homer \n",
      "The Secret Garden by Frances Hodgson Burnett \n",
      "Harper\n",
      "Gulliver\n",
      "Middlemarch by George Eliot \n",
      "The Scarlet Letter by Nathaniel Hawthorne \n",
      "Essays of Michel de Montaigne \n",
      "Beowulf\n",
      "Through the Looking\n",
      "Twenty Thousand Leagues under the Sea by Jules Verne \n",
      "The Confessions of St\n",
      "Noli Me Tangere by Jos\n",
      "The Works of Edgar Allan Poe \n",
      "The Art of War by active \n",
      "The Slang Dictionary\n",
      "Leaves of Grass by Walt Whitman \n"
     ]
    }
   ],
   "source": [
    "## 10,11,12,13. Search in the extracted text (using a regular expression) from the soup object to find the names of the top 100 eBooks\n",
    "## (yesterday's ranking).\n",
    "\n",
    "list_titles_temp=[]\n",
    "start_idx=soup_contents.text.splitlines().index('Top 100 EBooks yesterday')\n",
    "for i in range(100):\n",
    "    list_titles_temp.append(soup_contents.text.splitlines()[start_idx+9+i])\n",
    "\n",
    "list_titles=[]\n",
    "\n",
    "for i in range(100):\n",
    "    id1,id2=re.match('^[a-zA-Z ]*',list_titles_temp[i]).span()\n",
    "    list_titles.append(list_titles_temp[i][id1:id2])\n",
    "\n",
    "for l in list_titles:\n",
    "    print(l)"
   ]
  },
  {
   "cell_type": "markdown",
   "metadata": {},
   "source": [
    "## Activity 10"
   ]
  },
  {
   "cell_type": "code",
   "execution_count": 11,
   "metadata": {},
   "outputs": [],
   "source": [
    "## import required modules\n",
    "import urllib.request, urllib.parse, urllib.error\n",
    "\n",
    "import json"
   ]
  },
  {
   "cell_type": "code",
   "execution_count": 12,
   "metadata": {
    "scrolled": false
   },
   "outputs": [],
   "source": [
    "# Load the secret API key, create APIkey.jspn file with the key obtained fromm omdb url.\n",
    "with open('APIkey.json') as f:\n",
    "    keys = json.load(f)\n",
    "    omdbapi = keys['OMDBapi']\n",
    "\n",
    "## assigning the url\n",
    "serviceurl = 'http://www.omdbapi.com/?'\n",
    "\n",
    "## creating a variable called apikey\n",
    "apikey = '&apikey='+omdbapi"
   ]
  },
  {
   "cell_type": "code",
   "execution_count": null,
   "metadata": {},
   "outputs": [],
   "source": []
  },
  {
   "cell_type": "code",
   "execution_count": 13,
   "metadata": {},
   "outputs": [],
   "source": [
    "# Writing a utility function called print_json to print the movie data from a JSON file\n",
    "\n",
    "def print_json(json_file):\n",
    "    #List of the categories in the JSON files returned by the OMDb API\n",
    "    json_categories = ['Title', 'Year', 'Rated', 'Released', 'Runtime', 'Genre', 'Director', 'Writer', 'Actors', 'Plot', \n",
    "                 'Language', 'Country', 'Awards', 'Ratings', 'Metascore', 'imdbRating', 'imdbVotes', 'imdbID']\n",
    "    \n",
    "    #Iterating over the list to print each category followed by its value from the JSON file\n",
    "    for k in json_categories:\n",
    "        print(f'{k} : {json_file[k]}')"
   ]
  },
  {
   "cell_type": "code",
   "execution_count": 14,
   "metadata": {},
   "outputs": [],
   "source": [
    "import os\n",
    "\n",
    "#Function to download the poster\n",
    "def download_poster(json_file):\n",
    "    #Pulling the movie title and poster link from the JSON file\n",
    "    title = str(json_file['Title'])\n",
    "    poster_link = json_file['Poster']\n",
    "    \n",
    "    #Reading the poster image data by passing the poster link through the urllib.request library\n",
    "    poster = UR.urlopen(poster_link).read()\n",
    "    \n",
    "    #Defining the image file's save location in the current working directory\n",
    "    save_location = os.getcwd() + '\\\\'\n",
    "    \n",
    "    #Getting the file extension from the poster URL by grabbing the last value from the URL split by its dots\n",
    "    #Usually images will end in '.JPEG' or '.PNG' so the last set of characters after the last dot should be the extension.\n",
    "    poster_file_extension = poster_link.split('.')[-1]\n",
    "    \n",
    "    #If the file extension is one of the most common image extensions, the file will be downloaded\n",
    "    if poster_file_extension.upper() == 'JPEG' or poster_file_extension.upper() == 'JPG' or poster_file_extension.upper() == 'PNG':\n",
    "        #Defining what the saved file will be named\n",
    "        filename = '{}{}{}{}'.format(save_location, title, '.', poster_file_extension)\n",
    "\n",
    "        #Opening a brand new file, writing the image data to it, then closing it\n",
    "        with open(filename,'wb') as f:\n",
    "            f.write(poster)\n",
    "            f.close()"
   ]
  },
  {
   "cell_type": "code",
   "execution_count": 15,
   "metadata": {},
   "outputs": [],
   "source": [
    "## utility function for searching\n",
    "def search_movie(title):\n",
    "    try:\n",
    "        url = serviceurl + urllib.parse.urlencode({'t': str(title)})+apikey\n",
    "        print(f'Retrieving the data of {title} now... ')\n",
    "        print(url)\n",
    "        uh = urllib.request.urlopen(url)\n",
    "        data = uh.read()\n",
    "        json_data=json.loads(data)\n",
    "        if json_data['Response']=='True':\n",
    "            print_json(json_data)\n",
    "            # Asks user whether to download the poster of the movie\n",
    "\n",
    "        if json_data['Poster']!='N/A':\n",
    "            save_poster(json_data)\n",
    "        else:\n",
    "            print('Error encountered: ',json_data['Error'])\n",
    "\n",
    "    except urllib.error.URLError as e:\n",
    "        print(f'ERROR: {e.reason}')"
   ]
  },
  {
   "cell_type": "code",
   "execution_count": 16,
   "metadata": {},
   "outputs": [],
   "source": [
    "#Writing a function to display the downloaded poster directly in Jupyter Notebook.\n",
    "\n",
    "def show_image(movie_name):\n",
    "    try:\n",
    "        from IPython.display import Image, display\n",
    "        display(Image(filename = '{}.jpg'.format(movie_name)))\n",
    "    except:\n",
    "        print('ERROR!')"
   ]
  },
  {
   "cell_type": "code",
   "execution_count": 17,
   "metadata": {},
   "outputs": [
    {
     "name": "stdout",
     "output_type": "stream",
     "text": [
      "Retrieving the data of Titanic now... \n",
      "http://www.omdbapi.com/?t=Titanic&apikey=c8797fd9\n",
      "Title : Titanic\n",
      "Year : 1997\n",
      "Rated : PG-13\n",
      "Released : 19 Dec 1997\n",
      "Runtime : 194 min\n",
      "Genre : Drama, Romance\n",
      "Director : James Cameron\n",
      "Writer : James Cameron\n",
      "Actors : Leonardo DiCaprio, Kate Winslet, Billy Zane\n",
      "Plot : A seventeen-year-old aristocrat falls in love with a kind but poor artist aboard the luxurious, ill-fated R.M.S. Titanic.\n",
      "Language : English, Swedish, Italian, French\n",
      "Country : United States\n",
      "Awards : Won 11 Oscars. 125 wins & 83 nominations total\n",
      "Ratings : [{'Source': 'Internet Movie Database', 'Value': '7.9/10'}, {'Source': 'Rotten Tomatoes', 'Value': '87%'}, {'Source': 'Metacritic', 'Value': '75/100'}]\n",
      "Metascore : 75\n",
      "imdbRating : 7.9\n",
      "imdbVotes : 1,147,994\n",
      "imdbID : tt0120338\n"
     ]
    },
    {
     "ename": "NameError",
     "evalue": "name 'save_poster' is not defined",
     "output_type": "error",
     "traceback": [
      "\u001b[1;31m---------------------------------------------------------------------------\u001b[0m",
      "\u001b[1;31mNameError\u001b[0m                                 Traceback (most recent call last)",
      "\u001b[1;32mC:\\Users\\JAGADE~1\\AppData\\Local\\Temp/ipykernel_17612/944566023.py\u001b[0m in \u001b[0;36m<module>\u001b[1;34m\u001b[0m\n\u001b[0;32m      1\u001b[0m \u001b[1;31m#Testing the functions on the movie Titanic\u001b[0m\u001b[1;33m\u001b[0m\u001b[1;33m\u001b[0m\u001b[0m\n\u001b[0;32m      2\u001b[0m \u001b[0mtitanic\u001b[0m \u001b[1;33m=\u001b[0m \u001b[1;34m'Titanic'\u001b[0m\u001b[1;33m\u001b[0m\u001b[1;33m\u001b[0m\u001b[0m\n\u001b[1;32m----> 3\u001b[1;33m \u001b[0msearch_movie\u001b[0m\u001b[1;33m(\u001b[0m\u001b[0mtitanic\u001b[0m\u001b[1;33m)\u001b[0m\u001b[1;33m\u001b[0m\u001b[1;33m\u001b[0m\u001b[0m\n\u001b[0m\u001b[0;32m      4\u001b[0m \u001b[0mshow_image\u001b[0m\u001b[1;33m(\u001b[0m\u001b[0mtitanic\u001b[0m\u001b[1;33m)\u001b[0m\u001b[1;33m\u001b[0m\u001b[1;33m\u001b[0m\u001b[0m\n\u001b[0;32m      5\u001b[0m \u001b[0mprint\u001b[0m\u001b[1;33m(\u001b[0m\u001b[1;34m' '\u001b[0m\u001b[1;33m)\u001b[0m\u001b[1;33m\u001b[0m\u001b[1;33m\u001b[0m\u001b[0m\n",
      "\u001b[1;32mC:\\Users\\JAGADE~1\\AppData\\Local\\Temp/ipykernel_17612/3993515096.py\u001b[0m in \u001b[0;36msearch_movie\u001b[1;34m(title)\u001b[0m\n\u001b[0;32m     13\u001b[0m \u001b[1;33m\u001b[0m\u001b[0m\n\u001b[0;32m     14\u001b[0m         \u001b[1;32mif\u001b[0m \u001b[0mjson_data\u001b[0m\u001b[1;33m[\u001b[0m\u001b[1;34m'Poster'\u001b[0m\u001b[1;33m]\u001b[0m\u001b[1;33m!=\u001b[0m\u001b[1;34m'N/A'\u001b[0m\u001b[1;33m:\u001b[0m\u001b[1;33m\u001b[0m\u001b[1;33m\u001b[0m\u001b[0m\n\u001b[1;32m---> 15\u001b[1;33m             \u001b[0msave_poster\u001b[0m\u001b[1;33m(\u001b[0m\u001b[0mjson_data\u001b[0m\u001b[1;33m)\u001b[0m\u001b[1;33m\u001b[0m\u001b[1;33m\u001b[0m\u001b[0m\n\u001b[0m\u001b[0;32m     16\u001b[0m         \u001b[1;32melse\u001b[0m\u001b[1;33m:\u001b[0m\u001b[1;33m\u001b[0m\u001b[1;33m\u001b[0m\u001b[0m\n\u001b[0;32m     17\u001b[0m             \u001b[0mprint\u001b[0m\u001b[1;33m(\u001b[0m\u001b[1;34m'Error encountered: '\u001b[0m\u001b[1;33m,\u001b[0m\u001b[0mjson_data\u001b[0m\u001b[1;33m[\u001b[0m\u001b[1;34m'Error'\u001b[0m\u001b[1;33m]\u001b[0m\u001b[1;33m)\u001b[0m\u001b[1;33m\u001b[0m\u001b[1;33m\u001b[0m\u001b[0m\n",
      "\u001b[1;31mNameError\u001b[0m: name 'save_poster' is not defined"
     ]
    }
   ],
   "source": [
    "\n",
    "#Testing the functions on the movie Titanic\n",
    "titanic = 'Titanic'\n",
    "search_movie(titanic)\n",
    "show_image(titanic)\n",
    "print(' ')\n",
    "\n",
    "#Testing to see if an error occurs\n",
    "#search_movie('No Movie Found')\n",
    "show_image('No Movie Found')"
   ]
  },
  {
   "cell_type": "markdown",
   "metadata": {},
   "source": [
    "# TASK-3"
   ]
  },
  {
   "cell_type": "code",
   "execution_count": 3,
   "metadata": {},
   "outputs": [
    {
     "name": "stdout",
     "output_type": "stream",
     "text": [
      "Collecting python-twitter\n",
      "  Downloading python_twitter-3.5-py2.py3-none-any.whl (67 kB)\n",
      "Requirement already satisfied: requests in c:\\programdata\\anaconda3\\lib\\site-packages (from python-twitter) (2.26.0)\n",
      "Requirement already satisfied: future in c:\\programdata\\anaconda3\\lib\\site-packages (from python-twitter) (0.18.2)\n",
      "Collecting requests-oauthlib\n",
      "  Using cached requests_oauthlib-1.3.1-py2.py3-none-any.whl (23 kB)\n",
      "Requirement already satisfied: charset-normalizer~=2.0.0 in c:\\programdata\\anaconda3\\lib\\site-packages (from requests->python-twitter) (2.0.4)\n",
      "Requirement already satisfied: idna<4,>=2.5 in c:\\programdata\\anaconda3\\lib\\site-packages (from requests->python-twitter) (3.2)\n",
      "Requirement already satisfied: urllib3<1.27,>=1.21.1 in c:\\programdata\\anaconda3\\lib\\site-packages (from requests->python-twitter) (1.26.7)\n",
      "Requirement already satisfied: certifi>=2017.4.17 in c:\\programdata\\anaconda3\\lib\\site-packages (from requests->python-twitter) (2021.10.8)\n",
      "Collecting oauthlib>=3.0.0\n",
      "  Using cached oauthlib-3.2.0-py3-none-any.whl (151 kB)\n",
      "Installing collected packages: oauthlib, requests-oauthlib, python-twitter\n",
      "Successfully installed oauthlib-3.2.0 python-twitter-3.5 requests-oauthlib-1.3.1\n",
      "Note: you may need to restart the kernel to use updated packages.\n"
     ]
    },
    {
     "name": "stderr",
     "output_type": "stream",
     "text": [
      "WARNING: Ignoring invalid distribution - (c:\\programdata\\anaconda3\\lib\\site-packages)\n",
      "WARNING: Ignoring invalid distribution -arkupsafe (c:\\programdata\\anaconda3\\lib\\site-packages)\n",
      "WARNING: Ignoring invalid distribution - (c:\\programdata\\anaconda3\\lib\\site-packages)\n",
      "WARNING: Ignoring invalid distribution -arkupsafe (c:\\programdata\\anaconda3\\lib\\site-packages)\n",
      "WARNING: Ignoring invalid distribution - (c:\\programdata\\anaconda3\\lib\\site-packages)\n",
      "WARNING: Ignoring invalid distribution -arkupsafe (c:\\programdata\\anaconda3\\lib\\site-packages)\n",
      "WARNING: Ignoring invalid distribution - (c:\\programdata\\anaconda3\\lib\\site-packages)\n",
      "WARNING: Ignoring invalid distribution -arkupsafe (c:\\programdata\\anaconda3\\lib\\site-packages)\n",
      "WARNING: Ignoring invalid distribution - (c:\\programdata\\anaconda3\\lib\\site-packages)\n",
      "WARNING: Ignoring invalid distribution -arkupsafe (c:\\programdata\\anaconda3\\lib\\site-packages)\n",
      "WARNING: Ignoring invalid distribution - (c:\\programdata\\anaconda3\\lib\\site-packages)\n",
      "WARNING: Ignoring invalid distribution -arkupsafe (c:\\programdata\\anaconda3\\lib\\site-packages)\n",
      "WARNING: Ignoring invalid distribution - (c:\\programdata\\anaconda3\\lib\\site-packages)\n",
      "WARNING: Ignoring invalid distribution -arkupsafe (c:\\programdata\\anaconda3\\lib\\site-packages)\n",
      "WARNING: Ignoring invalid distribution - (c:\\programdata\\anaconda3\\lib\\site-packages)\n",
      "WARNING: Ignoring invalid distribution -arkupsafe (c:\\programdata\\anaconda3\\lib\\site-packages)\n",
      "WARNING: Ignoring invalid distribution - (c:\\programdata\\anaconda3\\lib\\site-packages)\n",
      "WARNING: Ignoring invalid distribution -arkupsafe (c:\\programdata\\anaconda3\\lib\\site-packages)\n"
     ]
    }
   ],
   "source": [
    "pip install python-twitter"
   ]
  },
  {
   "cell_type": "code",
   "execution_count": 34,
   "metadata": {},
   "outputs": [],
   "source": [
    "import twitter\n",
    "api = twitter.Api(consumer_key='eItVn2dtLIdgqTCrEAnhMiqj5',\n",
    "  consumer_secret='AIJA07AAgzjKvhFnBRsw6obX2ffvJR9z6GrGao0uehmBUHw2mC',\n",
    "    access_token_key='1417488597683482624-PGms7rg6q3KU24BkrJm0WlfFBN63z4',\n",
    "    access_token_secret='NFdrBAAanRmrAddNKQAfcD7ygc4Yv5zYVBaSM9tUW1Ubx')"
   ]
  },
  {
   "cell_type": "code",
   "execution_count": 35,
   "metadata": {},
   "outputs": [
    {
     "name": "stdout",
     "output_type": "stream",
     "text": [
      "{\"created_at\": \"Tue Jul 20 14:16:46 +0000 2021\", \"default_profile\": true, \"default_profile_image\": true, \"favourites_count\": 7, \"followers_count\": 1, \"friends_count\": 23, \"id\": 1417488597683482624, \"id_str\": \"1417488597683482624\", \"listed_count\": 4, \"name\": \"AB1285\", \"profile_background_color\": \"F5F8FA\", \"profile_image_url\": \"http://abs.twimg.com/sticky/default_profile_images/default_profile_normal.png\", \"profile_image_url_https\": \"https://abs.twimg.com/sticky/default_profile_images/default_profile_normal.png\", \"profile_link_color\": \"1DA1F2\", \"profile_sidebar_border_color\": \"C0DEED\", \"profile_sidebar_fill_color\": \"DDEEF6\", \"profile_text_color\": \"333333\", \"profile_use_background_image\": true, \"screen_name\": \"AB12851\", \"status\": {\"created_at\": \"Mon Jan 03 01:44:17 +0000 2022\", \"id\": 1477818063336714242, \"id_str\": \"1477818063336714242\", \"in_reply_to_screen_name\": \"bag_hunters\", \"in_reply_to_status_id\": 1435908125815558149, \"in_reply_to_user_id\": 3248940135, \"lang\": \"en\", \"source\": \"<a href=\\\"http://twitter.com/download/iphone\\\" rel=\\\"nofollow\\\">Twitter for iPhone</a>\", \"text\": \"@bag_hunters When I try to join the telegram group, it says \\u201cgroup is private\\u201d. Is there a way to join this group.\\u2026 https://t.co/h4IiWVr5Om\", \"truncated\": true}, \"statuses_count\": 25, \"withheld_in_countries\": []}\n"
     ]
    }
   ],
   "source": [
    "print(api.VerifyCredentials())"
   ]
  },
  {
   "cell_type": "code",
   "execution_count": 36,
   "metadata": {},
   "outputs": [
    {
     "name": "stdout",
     "output_type": "stream",
     "text": [
      "['A bachelor’s and two master’s degrees from Bellevue University — Jeremy is crushing it! #goals https://t.co/AmB3Ba9wQu', 'Disabilities aren’t always visible. #DisabilityIndependenceDay https://t.co/replXv3ZDd', 'This week on Tuesday Take•Aways...\\nInsights From Being the Weakest Link on Your Team!  🤔\\nTune in EVERY Tuesday at 1… https://t.co/yuW24cdtQB', \"To my professors: THANK YOU! You've made my experience at Bellevue University an awesome one.\\n\\nFrom: Ryan Avery\\n\\nGi… https://t.co/9P3ML1kEtU\", 'This week on Tuesday Take•Aways...\\nInsights from feeling unhealthy. 🙃\\nTune in EVERY Tuesday at 11 AM CST for Tuesda… https://t.co/SQyYIfKGpa', \"It's more than just earning the grade, it's about learning the content to use in your professional and personal lif… https://t.co/4cZw3eTVN5\", \"Bellevue University is proud to be part of Guild Education's academic network and support students like Del Carpio… https://t.co/XW099Wy3qw\", 'This week on Tuesday Take•Aways...\\nInsights from feeling stuck.   💭🤨🛑\\n\\nTune in EVERY Tuesday at 11 AM CST for Tuesd… https://t.co/pEaWyuAlaZ', 'Proud of our #BUGrads! Tag us with highlights from your big day. 🎉 https://t.co/VjSihQSbaI', \"If you are feeling overwhelmed whether it's school or life, communicate with your professors! \\n\\n#BellevueUniversity… https://t.co/iSHaFhwlrz\", 'Check out Bellevue University graduate, Michelle Robertson. The 2022 G.I. Jobs Student Veteran Leadership Award Neb… https://t.co/k9Uqw6LlBV', 'Happy 4th of July! Have a fun and safe holiday! 🎆🇺🇸🎇 https://t.co/UqyveoCyi1', \"What do you do when you get overwhelmed? 😲\\n\\nRyan makes lists when he's overwhelmed. It calms him and it's a reminde… https://t.co/Cuvb93tdq9\", 'This week on Tuesday Take•Aways...\\n\\nNEW DREAMS! 💭😌🌎\\n\\nTune in EVERY Tuesday at 11 AM CST for Tuesday Take•Aways with… https://t.co/C9VdBCdWbm', 'The original Pride flag was created in 1978. Today’s version features additional colors symbolizing the need for in… https://t.co/ZD7teHOX7y', \"Ryan Avery's best piece of advice when completing a tough course: Take it one step at a time, ask for guidance from… https://t.co/R1U1oNImRl\", 'Taking a break is vital for productivity. What are some tips for managing your workload? https://t.co/NaBu4SknIe', 'This week on Tuesday Take•Aways...\\n\\nNEW PERSPECTIVE! 🤔💭⚖️  \\n\\nTune in EVERY Tuesday at 11 AM CST for Tuesday Take•Aw… https://t.co/Qvv2XK6PsA', 'Just one supportive person can make a difference. \\n\\nAccording to the @TrevorProject, LGBTQ+ youth who have at least… https://t.co/kfd2DyZirK', 'Happy Father’s Day to all the “papa bears” out there working to earn their degrees while caring for their families!… https://t.co/QkDQSMxxAW']\n"
     ]
    }
   ],
   "source": [
    "## Downlaoded user time line\n",
    "statuses = api.GetUserTimeline(screen_name='@BellevueU')\n",
    "print([s.text for s in statuses])"
   ]
  },
  {
   "cell_type": "code",
   "execution_count": 37,
   "metadata": {},
   "outputs": [
    {
     "name": "stdout",
     "output_type": "stream",
     "text": [
      "['Tess (ONE & ONLY)']\n"
     ]
    }
   ],
   "source": [
    "# users/followers -- \n",
    "followers = api.GetFollowers(total_count=100)\n",
    "print([f.name for f in followers])"
   ]
  },
  {
   "cell_type": "code",
   "execution_count": 38,
   "metadata": {},
   "outputs": [
    {
     "name": "stdout",
     "output_type": "stream",
     "text": [
      "['Emily', 'USL Championship', 'Alyson Stoner', 'USL League One', 'United Soccer League', 'U.S. Office of Personnel Management', 'Air & Space Forces Association', 'CyberPatriot', 'Trish Siedlik', 'mattburns963', 'Renee Burns', 'John Panaghi', 'AC', 'Shannon Story', 'Kirk Nelson', 'Brian Bristlin', 'YellowFS ⬆️', 'SFCC', 'NSA/CSS', 'Homeland Security', 'Martie J. Cordaro', 'Misty Sidel', 'Hùng Leoteo', 'Stephen Ghostley', 'CCAC Student Life and Engagement', 'CCAC Community College of Allegheny County', 'kayc', 'wdwmom', 'Bellevue Chamber of Commerce', 'Hawkins Construction Company', 'Hy-Vee Smiles', 'Randy Essex', 'Mark Heath-Preston', 'Karl W. White 🌻', 'Tarrant Area Food Bank', 'TarrantCountyCollege', 'InEight', 'Kevin Melcher', 'Pamela Jean Mass', 'Shawn Sigala', 'Kayla Kaye 🏁', 'Ashley Weiss', 'CLO Exchange', 'John (Wears a 😷) Rokes', 'Nataliia Berezhna, PMP', 'Walters State', 'Ronnie', 'Sara Fishbane (Weaver)', 'Bailey R Blanchard', 'ash💛', 'kris hennings', 'madison machacek', 'Mark wallingford', 'Dorothy Davis Morrow', 'kristi phillipson wilson', 'Jacob Frazier', '🇲🇽🇲🇽 Adrian Viveros 🇸🇻🇸🇻', 'The City University of New York', 'PatiMoore@BellevueU', 'The League for Innovation', 'Sonic Automotive', 'Dollar General', 'Ralston Schools', 'Ralston High School', 'RPS_blueprint', 'CCL Nebraska', 'Cassling', '⭐️ Union Omaha', 'New Mexico EPSCoR', 'John Mueller, CISSP', 'Chandra ☮️🌈\\U0001fae7', 'Delby Powless', 'Krystal Sidzyik', 'JeanneRunsDisney', 'JOJO_GAUTIER', 'Girls Inc. of Omaha', 'HR Exchange Network', 'Ken Dang', 'dwitten82', 'RabbitHoleRedux', 'Kimberly Ross', 'Tony Samuel - Dad/Author/Entrepreneur/Leader', 'Kyrabe Stories', 'Ivan Arguello', 'FutureKids', 'Brenda Mechels', 'Cyber Security Feed', 'OnlineEducation.com', 'Women in CyberSecurity (WiCyS)', 'National Cyber League (NCL)', 'Student Life at NCTC', 'Wausau Chamber', 'NCTC Completion Center', 'Bellevue University XC and Track and Field', 'Eli 🔥🇵🇷', 'DBCooper', 'Frederick Chambers', 'College Factual', 'Alex McLoon KETV', 'VPP', 'Stephanie Nostrom', 'Nicole', 'Chipotle Careers', 'Chipotle', 'Nikki Haley', 'SKI (He/Him) 🏳️\\u200d🌈', 'Cody Banks', 'Max Leibman', 'Cassie Holdsworth', 'Latino Center of the Midlands', 'ECTC', 'Bill Mullins', 'Josh Adams', 'Dan Witte', 'Dr. Lorraine', 'Walt Disney Company', 'Amanda', 'Freeway Ministries', 'Hillside Elementary', 'Dr. Ali O’Malley', 'Cheyenne Alexis', 'Jordan', 'Project Never Again', '@ShopSVDPOmaha', 'Rodney Brown', 'cgwalwyn@gmail.com', 'NE Library Commisson', 'History Nebraska', 'Shannon Lucille', 'John Patterson', 'Zahraa Al Jboori', 'TaMya McKinney', 'Anthony Kava', 'Do Space', 'EJ Rodriguez', 'Clif Mason', 'RubesDS', 'em', 'Robin', 'Military Families Magazine', 'Omaha Fire Fest', 'Arkansas NSF EPSCoR', 'D.L. Jennings', 'black on black', 'Rikki Nicole', 'Alexis Olivo', 'Cassandra Yates', 'The Knowledge Review', 'Blazynbær2020HR', 'Grand Junction PD', 'Benjamin Vogt', 'Lauren S', 'rick galusha, PhD', 'Think Whole Person Healthcare', 'Jack', '💜𝙼𝚛𝚜. 𝙷𝚞𝚏𝚏𝚖𝚊𝚗', 'Dawn Ediger', 'Kelly Gomez', 'Tori Parde', 'Fairview Elementary', 'Stephanie Toelle', 'Taylan Murphey', 'Shannon mcintosh', 'Beth Hurd', 'SHARE Omaha', 'United Way Omaha', 'Joe Anson', 'Natasha Holton', 'Sydney Jensen', 'couture romain', 'BD', 'Nina Grant', 'Harmony SEL', 'Goat', 'Cathy Davidson', 'Russell Middle', 'Molly Erickson', 'Kristen Job', 'Millard Public Schools K-12 HAL', 'Rock Valley College', 'Riverside City College', 'RCC Outreach', 'Rio Salado College', \"Godfather's Pizza\", 'Michael Robinson. #20', 'SUNY Empire State College', 'Kayla Thomas 🌞', 'Project K9 Hero', 'BU Hall of Fame Golf Outing', 'JCCC Career Development Center', 'StraighterLine', 'Zimmatic US/CA', 'Molly Nance', 'Diverse: Issues In Higher Education', 'Wynston Nowak', 'Careerlink', 'Lincoln Fire & Rescue (LFR)', 'City of Lincoln, Nebraska', 'Lincoln Police', 'NSP Dog Division', 'Johnny Riccos', 'Nebraska State Patrol', 'Debra vines', 'Carrie H Olerich🌃🎶', 'SBA Iowa', 'Eli Rigatuso SAY GAY', 'Eric White', 'NWS Omaha', 'Alex Eischen', 'Nebraska EPSCoR', 'Mike Tobias', 'Cody💬', 'P.O. Sports', 'Comet Athletics', 'Watertown Intermediate School', 'Gretna Boys Soccer', 'Kids Can', 'Kevin Burkhardt', 'Kerri Brown', 'Teacher Education @ Bellevue University', 'Scott', 'Dinosew formerly shawnSMASH 🐼🦖🦕', 'Ty Lambert', 'Peter Cohen', 'samantha vanblaricon ✌🏻', 'Ricky Reyes', 'Kortlan', 'Tom White', 'Graeme Eaglesham', 'Gretna Elite Academy', 'AP', 'Lauren Peterson', 'Uptownbakery', 'Bright Mountain', 'Sheri Pauley', 'Robert Moore, Ed.D', 'Kelley Fraaza', 'Lexi Allen', 'N.', 'Capt. Jeremy Kinsey', 'Jean Claude', 'Allie Mancuso', 'Eric Ramos', 'Debbie', 'Team IMPACT', \"Gamers' Choice Awards\", 'Shannon Hilaire ♥️', 'madi', 'Mallory Peterson', 'Thomas Whisinnand', 'AUM Athletics', 'Maria Buckner', 'TEDxOmaha', 'Jon Borton', 'OPD Backgrounds Unit', 'Mitchell S. Nesler', 'Rebecca Corbin, Ed.D.', 'World-Herald Sports', 'Mr87Anderson', 'Joslyn Castle & Gardens', 'Liz Lord', 'SCCNeb', 'Walden University', 'Bryan Middle School', 'Bryan Middle XC', 'Bryan Athletics', 'Charlie Cuddy', 'Penn State Softball', 'OPS Accelere Program', 'Aaron Sanderford', 'Omaha NW Counselors', \"Grief's Journey\", 'Universidad Juárez del Estado de Durango', 'Sports Illustrated', 'Bimini Biological Field Station Foundation', 'PaladinsPro', 'Bold Type News', 'William Muldoon', 'NSAA Board of Student-Athletes (BOSA)', 'Joshua Narofsky', 'Walmart World', 'WesleyPipes', 'Washington Monthly', 'Ryan Cantello', 'Robin Towle-Fecso', 'Hire and Inspire LLC', 'BPSF', 'PRSA Nebraska', 'Christopher Medeiros', 'Alexandra Stone', 'Methodist Health System', 'Salvation Army USA', 'Disabled American Veterans (DAV)', 'CalvinTheGreat', 'Sarpy County', 'The Strawhecker Group', 'Arturo Antonio Enzo Porfavorny', 'Association for Computing Machinery', 'ACM Ethics', 'ARVis Institute', 'AACN', 'GreenBeret', 'Afromaha', 'Penn State Great Valley', 'Penn State Mont Alto', 'PennStateScranton', 'PSU Brandywine', 'PSU New Kensington', 'Penn State Greater Allegheny', 'Penn State Shenango', 'PSU Wilkes-Barre', 'Penn State Hazleton', 'Penn State Fayette', 'Penn State Behrend', 'PennStateDuBois', 'Penn State College of IST', 'NCC', 'Penn State', 'Penn State Beaver', 'Penn State Altoona', 'Penn State Abington', 'Penn State Schuylkill', 'PSU Lehigh Valley', 'PennStateHarrisburg', 'PVCC_Official', 'Park University', 'Northwest Florida State College', 'NOVA Manassas', 'NOVA Loudoun Campus', 'NOVA Woodbridge Campus', 'NOVAcommcollege', 'Northern State U.', 'Northeast State', 'NIACC', 'NorthCentralState', 'Norco College', 'NCCC', 'Nebraska Wesleyan University', 'Nebraska Indian CC', 'Nebraska Christian', 'North American University', 'NAUniversity', 'Owens CC', 'OCC', 'Omaha Storm Chasers', 'Creighton University', 'Completely KIDS', 'Twitch', 'Fortnite', 'timthetatman👑', 'L🔪🖤', 'UNO College of IS&T', 'Robin Gandhi', 'Matt Hale', 'DrLupo', 'Accelerated Degree', 'Quest Forward Academy Omaha', 'Mt. SAC', 'MWCC', 'Morningside University', 'Moreno Valley College', 'MontgomeryCountyCC', 'Monroe Community College', 'Missouri Western', 'MGCCC Athletics', 'Minnesota West', 'Minnesota State Mankato', 'Midlands Technical College', 'MTSU News', 'Miami Dade College', 'MCC Kansas City', 'Mesa Community College', 'McLennan Community College', 'Maricopa Community Colleges', 'Louisiana Tech University', 'Lorainccc', 'LB City College', 'Lee College', 'Lassen College', 'Laramie County C.C.', 'LakeAreaTech', 'Kirkwood Community College', 'Kennesaw State', 'K-State Salina', 'K-State', 'KCKCC', 'Johnson County Community College', 'Jefferson CC', 'Steve Liewer', 'NCAN', 'Mediaplanet USA', 'Preston Love Jr.', 'FIDM', 'Estrella Mountain Community College', 'Embry-Riddle Univ', 'EPCC', 'Eastern Florida State College', 'Eastern Arizona College', 'EMCC', 'Doane Alumni', 'Doane University', 'DACC', 'Dakota State University', 'Dakota State University Arts and Sciences', 'Eugene Curtin', 'NE National Guard', 'National Guard', 'SAGE Publishing', 'International Leadership Association', 'Senator Deb Fischer', 'NowThis', 'Mid-America Center', 'FORTUNE', 'Walmart.org', 'Guild Education', 'UMass Global', 'FLORIDA', 'UpSkill America', 'The Washington Post', 'Walmart Inc.', 'Walmart', 'ACI Worldwide', \"Stella's Hamburgers\", 'Heartland CASA', 'Sarpy County CASA', 'Green MCC', 'Goalcast', 'Clint Porter', 'Coach_Hep', 'Malissa Roberts', 'Jan Spain', 'Barry Jarvis', 'Kimberly Kryzda', 'heather allen', 'Ofc. Frank Matyja #480', 'Steve Saunders', 'The Morning Blend', 'Twitter Verified', 'NSP Troop A', 'NE Methodist College', 'Midland University', 'Heider Business', 'Claremont Lincoln University', 'University of Missouri–St. Louis', 'UMSL International Students', 'Sarpy CrimeStoppers', 'Ralston Police', 'Lt. Dan Golda', 'La Vista Police', \"Sarpy County Sheriff's Office\", 'Jose Merced', 'Horses of Honor', 'EAB Daily Briefing', 'Brittany Rindone', 'Sgt James Shade', 'Kelsey Murphy', 'Zachary Sam Zaiss', 'ICAN', 'Eunice', 'Mitch Mitchell', 'CIC', 'BPD Capt. Jashinske', 'Chief Bryan Waugh', 'James Wilcox', 'SBA Nebraska', 'Ryan Sainio', 'Unified', 'Ivy Tech Richmond', 'MCC', 'SWCC', 'MCC', 'Iowa State University', 'Iowa Lakes', 'Indian River State College', 'Indian Hills College', 'ICC.edu', 'Houston Community College Official', 'HCC Florida', 'Highland (HCC)', 'Herkimer College', 'Henry Ford College', 'Hawkeye Community College', 'HPU Alumni', 'Hawaii Pacific Univ.', 'HACC', 'Hagerstown CC', 'Gulf Coast State College', 'Grossmont College', 'Greenville Tech', 'University of Arkansas Grantham', 'Grace University', 'Glendale College CA', 'Germanna Community College', 'Perimeter College', 'Georgia Military College', 'GateWay CC', 'Frederick CC', 'Fox Valley Technical College', 'FSCJ', 'Fayetteville Tech', 'Hastings College', 'Purple Heart Foundation', 'The Purple Heart', 'NAIA Ball', 'Viterbo V-Hawks', 'Marsha Graesser', 'Megan Berry Barlow', 'ChristensenInstitute', 'Michael B. Horn', 'Chief Learning Officer', 'Elliott Masie', 'Katie Lawlor', 'BCTC', 'Commerce Lexington Inc.', 'Steph Hall', 'Birchcrest School', 'CAEL', 'The Hartford', 'City & Guilds', 'Your Acclaim', 'ACE', 'Jonathan Finkelstein', 'Daniel Doktori', 'Oak Ridge Chamber', 'Audubon Society of Omaha', 'St. Margaret Mary School', 'Q95 FM', 'BSCTC05', 'Avant Garb Mascots', 'Rick Chinn', 'Chris Whaley', 'P Holds', 'Guitars For Vets', 'Tobacco Free Hall Co', 'SkillsUSA Nebraska', 'Patricia Sweeney Pakiz', 'Roger Hamer WOWT', 'Mike McKnight WOWT', 'Jessica Gill NMHS', 'Rusty Lord WOWT', 'Serese Cole', 'Brian Mastre WOWT', 'PSCC Foundation', 'NACCE', 'KX969', 'Outlook Enrichment', 'Cinco de Mayo Omaha', 'Solution Tree', 'Eric Olson', 'Tyler Moore', 'Renea Gernant', 'Fin', 'Nasrin Fatima', 'intelligentHQ.com', 'ISFSI', 'iExaminer', 'Butler Community College', 'Broward College - CE', 'Broward College', 'BYU-Idaho', 'Briar Cliff', 'Boise State University', 'Bob Jones University', 'Blinn College District', 'Black Hills State', 'Bellevue College Community Education', 'Bellevue College', 'Barton', 'Austin Peay State University', 'Upward Bound Austin Community College', 'UAGC - The University of Arizona Global Campus', 'Arapahoe CC', 'AACC', 'Angelina College', 'American InterContinental University', 'Altierus Career College', 'AllanHancockCollege', 'WITCC Alumni Assoc', 'Jennifer Woodard', 'Darlene Carmona', 'Omaha Diversity Week', 'Candace L. T. Walton, Ph.D.', 'Damian Hanft', 'Jon Titus, MBA, CPLP', 'Emily Redinbaugh', 'HigherPurposeCo', 'Twitter Moments', 'Abrial Lafiel', 'Sandhills Global', 'Deliveron', 'med', 'Graphic Kraken', 'Mads.', 'Amine Ayad', 'Jimmie Flores', 'Jimmie Flores', 'Casey Reason', 'Tom Eakin', 'Bret Richards, Ph.D.', 'John Kyndt', 'Inc.', 'Warren Buffett', 'Bill Gates', 'Business Insider', 'Omaha Kroc Center', 'lordnietfeldt ∴', 'Keith W. McIntosh', 'Matt Weiberg', 'Beth Shott', 'Jean Hodge, MSCC', 'First Data Jobs', 'Finance Weekly', 'U.S. News Money', 'IT Careers', 'Cybersecurity', 'Olde Towne Bellevue', 'Brittany', 'AMA | Omaha', 'Iowa Western Reivers', 'Iowa Western', 'Omaha Police Dept', 'Beau McCoy', 'Stickalicious Pops', 'NAIA World Series', 'D2 Center', 'Bob Greco', 'Hazydrummer', 'Doug Rausch', 'Ingra Winkler Anderson', 'Nebraska eSports', 'Lahaina Joy', 'Dr. Michelle Schulze', 'Mike', 'Michael Zeigle', 'OrthoNebraska', 'NCAA', 'NCAA March Madness', 'KANSASWORKS', 'Beardmore Subaru', 'Beardmore Chevrolet', 'Jennifer Griswold', 'Omaha Nebraska', 'Melissa Young', 'HeartlandWomen', 'Storage Depot', 'David Kelly #DevLearn #LSCon #Learning22', 'ATD Nebraska', 'Tricia Danielsen', 'Parsons House', 'SupplyChainX', 'Consulmex Omaha', 'Creighton Law', 'Avis Car Rental', 'Husch Blackwell', 'RSM US LLP', 'FNBO', 'Sandra Barkevich, MA.LET', 'Streck', 'BSSHS Jags AFJROTC', 'OnlineColleges.com', '@cityoflavista', 'BPS Foundation', 'NE Safety Council', 'Omaha Public Library', 'Bellevue West Marching Arts', 'Chieftain Bands', 'Sarpy Blotter', 'College of Saint Mary', 'Offutt Collision', 'Bellevue East Vocal Music', 'BPS-Lied Center', 'Green Bellevue', 'OPPDCares', 'Werner Park', 'College Possible Omaha', 'Bellevue West Football', 'Matt Johnson', 'SAU Cougars Baseball', 'Neal Grusczynski', 'Judson Athletics', 'Jadis White', 'DouglasCountyNE', 'Sanford Pentagon', 'NFM', 'Omaha Digest', 'Joannie Harmon', 'U.S. Commerce Dept.', 'The Economist', 'Forbes', 'Hootsuite 🦉', 'Strictly Business Lincoln', \"Nebraska Department of Veterans' Affairs\", 'Omaha Magazine', 'Sam Petto', 'Sgt. Dan German BPD', 'Koshka Foundation', 'Sgt. Jessica Swanson', 'Capt. Chris Culler', 'the Alliance', 'Zachary Barnes', 'WARP Worldwide', 'Sra. Ehrke', 'JACKIE SUZETTE', 'Guadalupe Sánchez', 'Nebraska Golf Passport', 'College Possible', 'Architecture at HDR', 'Jeff Kutash', 'Jody Horner', 'Union Pacific', 'Amanda Yarbrough', 'Nebraska Library Association', 'Bellevue Library', 'Millard South Activities', 'Millard South HS Counseling', 'Kristina Anderson', 'Rick Ruggles', 'Natty K', 'Wesleyan University', 'NAIAADA', 'Angela Roeber', 'Golficity', 'Mike Randleman', 'Logan Mullen', 'SportsAsToldByAGirl', 'GOLF.com', 'Kyle Porter', 'Caitlyn Holroyd', 'ESPN', 'Bleacher Report', 'NACE', 'Benjamin Button', 'Craig Christians', 'Bellevue First', 'Shayla', 'Ed Lehotak', 'Austin J. Moore', 'liv', 'The Fulbright Program', 'Joseph LoCicero', 'Leia Baez', 'Nebraska DHHS', 'Gov. Pete Ricketts', 'Rita Sanders', 'Secretary Acosta', 'U.S. Department of Labor', 'National Association of Workforce Boards (NAWB)', 'NASWA', 'NE Dept. of Labor', 'Odie Donald II', 'DOL OIG', 'Bellevue University', 'Andrea Eisner', 'Offutt Force Support', 'North End Teleservices', 'Continental Athletics', 'NE Hispanic Chamber', 'Open Door Mission', 'Siena Francis House', 'Backyard Sports LLC', 'BLACKHEARTED ♠️', 'Alex Bader 🧞\\u200d♀️', 'TC 🌺', 'University of DC', 'Behavioral Health Education Center of Nebraska', 'AmerSecurityToday', 'Faith Ross', 'USHCC', 'Sarpy Chamber', 'TeamMates Mentoring', 'AACC', 'Phi Theta Kappa Honor Society', 'J&J', 'In The Game Sports', 'AM', 'Latasha Harris', '@noterecorder', 'College Choice', 'NAIA', 'Colten Barnes', 'Kayla', 'billy loera', 'michaela miller†', 'Kimberly Brehm', 'Ashley Gigax', 'Travis Hurd', 'Frederick Cornelius', 'John Timmins', 'Blair Mcgeough', 'Joe Moran', 'Rachel Wald', 'Jeff Packer', 'Hope Carr', 'Colin Rubino', 'Shayla Scanlan', 'Lauren Colpitts', 'Whitney', 'KA', 'Mads', 'Bellevue Nebraska', 'Sydney', 'Jake Aylward', 'E.', 'Maddie Squiers', 'Cole Loehr', 'Riley Baasch', 'Elexis Martinez', 'diego a iribarren', 'Jalen Hall', 'NAIA Showcase', 'Aj Jarvis', 'Caleb', 'Made In Nebraska', 'Jayda Noble 🐘', 'Allison Temple', 'Abby', 'Harry Wray', 'Brandon Fagins', 'Morgan Bruzek', 'Hailey Stolze', 'Omaha Now', '𝖙𝖍𝖙 ₲ƗɌⱠ ᵇᵒᵒᵏᵉʷᵒʳˡᵈ ❤️\\u200d🔥', 'Bronco Burgers', 'Zaiss & Company', 'BEAST Volleyball', 'Eastside Hoops', 'Sarpy County 911', 'Papillion Police', 'City of Bellevue', 'COACH ICE/Bellevue University/RETRO HOOPS', 'Phil Chapman+', 'Greg Wagner', 'Bellevue Police', 'UMA', 'SEBASTIAN', 'Edric', 'Steve Junker', 'Michael Cardenas 🏀', 'Ted De-Bear', 'Bellevue WBB', 'Coach Flo - Jillian Flores Bennett', 'Jack Nelson', 'Cris Hay-Merchant, APR', 'Twitter Creators', 'FL2OK_Patriot_18', 'Dave Denly', 'MAC 2018', 'Fender', 'lconley', 'North Star', 'Sgt. Kyle Percifield', 'Jackie Klein', 'Lauren', 'Michelle Gleason', 'Allison', 'Alvino', 'Autumn Moore', 'Craig Hayes', 'Ashley P.', 'Garry Floyd', 'Jeff Rippe', 'Jess Collicott', 'Shonna Dorsey', 'Tim Lampkin', 'Roane State', 'Ivy Tech Community College of Indiana-Lafayette', 'Ivy Tech', 'Lehigh CarbonCC', 'Weatherford College', 'BergenCC', 'Cerro Coso CC', 'Pellissippi State', 'Mid Michigan College', 'Mott Community College', 'My_BCCC', 'Fairchild AFB', 'Santiago Canyon Coll', 'sunyrockland', 'SUNY JCC', 'MSJC', 'OCC', 'Gateway Tech College', 'NTC', 'Southeast Technical College', 'DMACC', 'Western Iowa Tech', 'Northeast Community College', 'WNCC', 'MPCC.edu', 'Bellevue U. Baseball', 'Bellevue University Career Services', 'Bellevue Basketball', 'Elizabeth Luras, MBA', 'Central Community Co', 'Kevin Eikenberry', 'MVCC Mohawk Valley', 'Get My Vet a Job', 'Brad Ashford', \"Bellevue University Women's Soccer\", 'Uncommitted Athletes', 'Jenny Murnane-Rainey', 'GuerrillaArtGallery', 'The Balancing Act', 'ANejezchleb', 'b ford', 'Southwest University', 'U.S. Veterans Magazine', 'Ali Spagnola', 'operformingarts', 'Omaha Community Playhouse', 'MCC', 'Victory Sports', 'Under Armour', 'YouTube Creators', 'All About Omaha', 'Danville Community College', 'Randa Zalman', 'Late Night with Seth Meyers', 'Seth Meyers', 'Simply Measured', 'Woodhouse Auto Family', 'Platte Institute', 'Bellevue Chamber', 'Bellevue Leader', 'LinkedIn Help', 'CFA Institute', 'CollegeAffordability', 'iSportz Athletics', 'First Data OfferWise', 'Doug Daubert', 'Brandon L. Raddish', 'Star 104.5', 'Studenttimes Staffing Solutions Inc.', 'Bo Bice', 'GetEducated.com', 'Project Harmony', 'CommunityForce', 'Scout Military Discounts', 'Henry J. Evans', 'KSNB Local4', 'Carl Grubb', 'Twitter Support', 'Lessiter Media', 'SmartAsset', 'Coach Chet', 'Operation Save Lives', 'CivitasLearning', \"NPR's Education Team\", 'Sarpy County Habitat', 'Hello Beautiful', 'eSchool News', 'HuffPost College', 'Derek Noehren', 'Security Today', 'National Guard', 'U.S. Army Reserve', 'U.S. Army', 'Iowa Central', 'Military Times', 'Dr Rick Sanchez', 'Kevin McDermott', 'Aaron Bressman', 'Hispanic Outlook', 'aksarben / ARS', 'BAT Logistics', 'Sport Clips Haircuts', 'Brian Kear', 'John Ratzenberger', 'College Counselors', 'Christopher Bergeron, EdD', 'OPS Foundation', 'Coach Chrissy Carew', 'NEA', 'Teach For America', 'Dave Price', 'VizVal', 'BUBruinsVB', 'Embassy La Vista', 'Bryan Bender', 'Amazon Prime Student', 'The Simple Dollar', 'Soundz of Freedom', 'David E. Miller', 'Mainstay', 'Bread & Olive Social', 'Reid Whitaker CP', 'Instagram', 'Mikala', 'CHP Golden Gate Division Recruitment', 'Taylor Wessels', 'Naomi See 🤖👩🏻\\u200d🎤❤️🤦\\u200d♀️🤷🏻\\u200d♀️', 'Lisa C Jorgensen', 'Kim Sellmeyer', 'Say Hey There', 'HopeInTheHeartland', 'NE Arts Council', 'OffuttAFB', 'Spirit of Bellevue', 'SAC Aerospace Museum', \"We Don't Coast\", 'Blue Angels', 'Blackboard', 'Country DJ Renee DuBay', 'Nebraska Game and Parks', 'HLC', 'Candace CAS Walton', 'Athabasca University', 'Hanover HigherEd', 'JED', 'College Statistics', 'Smart Degree', 'Ready Education', 'Nebraska Association of School Boards', 'University Business', 'Westside Community Schools', 'Bryan High School', 'Bellevue West', 'Bellevue East', 'Daktronics', 'Hy-Vee', 'Montreat Cavaliers', 'NFCA', 'Lemon Fresh Day', 'B & B Grill and Arcade', 'Urban League of Nebraska', 'Lauritzen Gardens', 'Joslyn Art Museum', 'The Salvation Army of Omaha', 'NLS', 'OHB', 'Approved Colleges', 'Campus Maps', \"BU Women's Golf\", 'ArtFest Midwest', 'Inside NTT Security', 'Lyft', 'AHS CollegeCareerCtr', 'HeartlandFamilySvs', 'Thomas Dodson', 'Derek', 'Dale Eesley, Ph.D.', 'NMC Recruiting', 'Kaleigh Young', 'Adara tosin', 'Margot Cook', 'iWorld', 'Omaha At Night', 'Veterans Affairs', 'VA Careers', 'NFCV', 'Interview Success', 'Jennifer Moss', 'Gary Green', 'National Sexual Violence Resource Center', 'BHHSA Sunshine Kids', 'Midlands Community', 'TRB', 'Papillion La Vista Community Schools Foundation', 'Kelly Giese', 'The Key Group', 'A. D.', 'Steven', 'HMHS Counseling', 'Omaha reBarCamp', 'Murray Krambeer', 'Julie💎✨', 'Jamie Waters', 'ACXCinemas', 'Bailey Henderson', 'BEastSB', 'Erin Fogarty Owen', 'Mallerie Woodson', 'Five Nines', 'Farmers Insurance', 'DMSi', 'Boys Town', 'Summer Sanders', 'Aziz Ansari', 'Leonardo DiCaprio', 'Joseph Gordon-Levitt', 'zooey deschanel', 'Boys Town National Training', 'B.J. Novak', 'Mindy Kaling', 'John Krasinski', 'Steve Carell', 'RainnWilson', 'Midtown Crossing', 'Mary Hawkins', 'Bryce Kelly', 'Millard Public Schools', 'Kiewit', 'Frank Haskett', 'C.M. Loofe, Ed. D', 'Zack Clark', 'Omaha Public Schools', 'PLC Schools', 'Papillion LV South', 'Monarch Basketball', 'PLHS ACTIVITIES', 'Omaha MetroAthletics', 'Omaha North Baseball', 'Omaha North Hoops', 'Mike Echols', 'SJB_CAA', 'Omaha North High School', 'Central High School', 'Gross Catholic High School', 'John Oakey KETV', 'Mutual of Omaha', 'Melissa Fry', 'Rob McCartney', '🦋', 'T Y', 'johnknicely', 'Tola Tee', 'Bailey Sanders', 'Russ Lane (F3 Hooah)', 'Sarpy County Tourism', 'Bellevue Softball', 'Sgt. Sean Vest BPD', 'VIA', 'Emad Rahim', 'Ari Ditkofsky', 'Tyrice Porter', 'Ralston Papillion LaVista Jazzercise', 'Christopher P Levy', 'Gergely Takács', 'Chase Moffitt', 'NAIA', 'eCampus News', 'Wired Campus', 'Matthew T. Fritz', 'jen', 'Career Virgin', 'Tweeting Univs', 'Education Online', 'Noelle Birchfield ', 'Chip Luman', 'TeAnna Leigh', 'Modern Day Overthinker', 'Lifehacker', 'campusclix@gmail.com', 'Bailey Lauerman', 'Danny D', 'Wendy Wiseman', '.eduGuru', 'meganL', \"Godfather's Pizza\", 'Jodi Schaefer', 'Rick Schneider', 'Game Studies', 'Given Kalipinde', 'Dinis Guarda', 'Kate Howard', 'Veteran Journal', 'Department of Defense 🇺🇸', \"BU Men's Golf\", 'USMC Recruiting', 'Naval Special Warfare', 'U.S. Air Force', 'U.S. Navy', 'kurousagi', 'Dala Alphonso', 'Cammie Palatas', 'MCAC', 'AtticCapital', 'Chico State Hoops', \"Omaha's Zoo\", 'PrepTalk', 'WWP', 'Got Your 6', 'Hire Heroes USA', 'Hiring Our Heroes', 'The Reader', 'Fontenelle Forest', 'Yale University', 'Princeton University', 'jontvrdik', 'Donna Dostal', 'Dave Price', '₲₳☈Ɏ ₭Ø฿ⱠɆ 🇺🇸🇺🇦', 'Mike Livergood', 'Bellevue University Men’s Soccer', 'Bellevue Soccer Club', 'EducationQuest', 'OmahaGameDev', 'Legal Aid of Nebraska', 'Dream It. Do It. NE', 'Omaha Community Foundation', 'NebraskaAIDSProject', 'The Bellows Studio', 'InclusiveCommunities', 'The Durham Museum', 'NESciFest', 'Hear Nebraska', 'Goodwill Omaha', 'Film Streams', 'Conservation Fusion', 'Federal Student Aid', 'Unigo Scholarships', 'Fastweb Scholarships', 'NSPA', 'U.S. Department of Education', 'mahafestival', 'Street Pianos', 'Tito “El Jefe” Santa Cruz', 'Vine Creators', 'Omaha Public Radio 🎙', 'Strayer University', 'Matty Johnson', 'Nebraska Problems', 'becca kalskett', 'JRossi🇺🇸', 'Michelle 🇺🇦', 'Andy Smolinski', 'Jim Nekuda', 'Kenny McKee', 'Jacob Cawsey', 'Alex Myers', 'Bellevue University', 'Mike Freel', 'Kate Brown', 'CyberRon (Training, Awareness, Advising, vCISO)', 'Jennifer Keesee', 'MarcyD', 'Squid', 'D:\\\\Daniel', 'Chris Aucella', 'Jeff Coleman', 'Jesse Vance', 'SYBIL JACKSON', 'Amanda Albers', 'Dr. Ezekiel Nichols, Ph.D.', 'Krysti Eggert, LIMHP, LPC,LADC, RYT-200', 'Psychic/Medium Kelli', 'Adam Long', 'cassady williams', 'Nik Ditzler', 'Тanishia Brown', 'Trent Mengel', 'Ona', 'NEgolfman', 'Trevor Johnson', 'kelly watson', 'Bryan Thomas', 'Jeff Ditzler', 'Alicia Palmer', 'Betsy Roche', 'Dustin Runcie', 'Alex Bones', 'Mara Wilson', 'Joshua Buechler', 'Jenisha', 'OMADOGLVR', 'cristen white', 'Megan', 'Dr.Besh', 'Courtney LaDai', 'frankdertank', 'Mrs. Alford, MSM', 'antoine dade', 'Will Stringer', 'Ken Ingle', 'Ian Welham', 'Patrick J Williamson', 'Amplify Arts', 'Michael Coughlin', 'WS - Blessings', 'Alysia Clary', 'BBB | NE, SD, KS, IA', 'Jason Davis', 'Jonathan Nichols', 'JCeternity', 'Robyn Poggi', 'AvaBovary', 'O', \"Joe 'iDea Guy' Frost\", 'Nebraska Commission on Latino-Americans', 'Pearson+', 'ᗡℲ˥˥', 'Andrea Johnson', 'Bellevue RN to BSN', 'Twubs', 'Joshua Michael Burk 🇺🇸 🏴\\u200d☠️', 'Nichelle Moore', 'Amy L Peck', 'US Strategic Command', 'Bryan (Skip) Quint', 'Julie Hawkins', 'megan hunt', 'Rhegan', 'Tom Argy Spada', 'AFP Nebraska', 'DorkSlayer', 'KJ Arvie', 'Sonya Leeds', 'H.D', 'U.S. Census Bureau', 'Bellevue Public Schools', 'Danelle Schlegelmilch', 'Sarpy County Museum', 'Travis Johnson', 'Rachel Lake', 'La Vista Chamber', 'libertittees', 'Firebone', 'AIM Institute', 'MBJ Publications', 'Jake Wasikowski', 'Arts & Sciences', 'Andrea Maleki', 'Go Back to College', 'Partnership4Kids', 'Ken Riter', 'Daisy Curtis', 'Josh Funk', 'Milligan University Athletics', 'Stephen Olson', 'LaRue Pen', 'Natalie Hurd', 'Nicole Overkamp', 'Lee Terry', 'Lora Vohl', 'M Eppler. 米歇尔. 艾普勒', 'SIDEARM Sports', 'DoctorLarry', 'Omaha Qpon Mom', 'Robin Bernstein', 'Andrea Rodgers', 'NE Feminist Network', 'Hannah Bolte', 'Brent Slone', 'Wayne Sutton', 'LFS of Nebraska', 'Katina Granger', 'Jessica Peak', 'PEP Program', 'Terry Mohler', 'Peru State College', 'Denizen Seven', 'UNICEF', 'Geri Mason', 'Eduthusiast', 'Ashley Wurdeman', 'Sweet Stop Bakery', 'Naomi Buckta', 'Kathie Gerber', 'Nebraska Society DC', 'Colorado College', 'Big Des Moines', 'Silicon Prairie News', 'Rebecca Williford', 'Joe Olsen', 'Noah', 'Bellevue Bruins', 'OmahaYP', 'The UFL', 'YouTube', 'KETV NewsWatch 7', 'Ethical Insights', 'Kimberly Bishop', 'NCMA', 'The Go-To', 'Filthy Dripped', 'I.AM Payton', 'Scott McLeod', 'SUBMIT SERVE', 'Cajun from eLearners', 'USC Rossier Master of Arts in Teaching online', 'David Meerman Scott', 'The Daily Stat', 'Christi L Koch ACP', 'Lindsay Schmitt', 'Josh Bersin ✨', 'Human Capital Lab', 'Lealan M. Zaccone', 'Gary James SR', 'MROstop', 'Dr Nice', 'Kris Colvin', 'Red and Black Attack', 'Reuters Pictures', 'Penn Alumni', \"Sheila O'Connor\", 'Alan Krashesky', 'A New Mode', 'Chris Kilcullen', 'SCA', 'OrangeHRM', 'CityYear', 'Ed Schlesinger', 'Chicago News Feed', 'Bill Stoller', 'andrea curley', 'E. Gordon Gee', 'Mike Wesch', 'Scott McLeod', 'Dan Cohen', 'David Parry', '(((Howard Rheingold)))', 'Jay Rosen', 'Guliamo MG', 'Texas A&M University', 'William & Mary', 'Seth Alebtc', 'J Frew', 'graduate 2 success', 'fearless.org', 'NattieH', 'RGVSports.com', 'Tulips on Troost', 'Sandra Centorino', 'David Harkins Group', 'Jeff Keen', 'Steve Farnsworth', 'Melody', 'parth lalcheta', 'Sugar Cubes Tea Room', 'Star Haddix', 'What Cheer', 'Nate Bechtel', 'Allen Klosowski', 'Perpetual Life', 'AmazingPizzaMachine', 'BizKidz.com', 'Visit Omaha', 'Omaha by Design', 'REBEL INTERACTIVE', 'City of Papillion', 'Schenectady County', 'Kentucky.gov', 'Women in Higher Ed', 'StudyAbroad.com', 'Lloyd Faulk', 'Richard Krawczyk', 'Theme Hunter', 'Veteran Careers', 'Lawl Media', 'The Weekly Grind', 'Aso', 'SUNY Buffalo', 'brad', 'Jen Jones', '大香蕉', 'Simplex Creative', 'Max Griffiths', 'TopUSevents', 'Respectful Workplace', \"Women's Refugee Commission\", 'Bill Hoke', 'SmallCanBeBig.org', 'NCSTL', 'Magnets USA', 'TipTop Technologies', 'Biz Konceptz', 'All Over Albany', 'NNY360 & Watertown Daily Times', 'American Lung Association', 'readMedia Newswire', 'Quinnipiac Alumni', 'Shannon Cherry', 'Kansas State Fair', 'mosseygroup', 'Evil Genius Group', 'Times Union', 'SUNY Online Learning', 'SUNY Cobleskill', 'SUNY Binghamton', 'SUNY Delhi eLearning', 'Binghamton University', 'BeNewsworthy', 'Popeyes', 'CRM', 'destinationCRM', 'LeTourneauUniversity', 'UT Graduate Student Assembly', 'Monster', 'Nebraska Jobs', 'Stratford Career', 'bz', 'Skeeter Hansen', 'Louisville tweetup', 'Louisville Magazine', 'Kentucky State Fair', 'Courier Journal', 'Twitterrific', 'Refresh Louisville', 'B. Scott Minor', 'CareerEco', 'Scyan', 'Leadership Louisville', 'Fast Company', 'The Tack', 'KBVU', 'GREENBEAVER', 'LAGtv', 'SouthDakotaMagazine', 'Game, Fish & Parks Outdoor Campus - Sioux Falls', 'SoDkNetworking', 'SE South Dakota', 'Des Moines Register', 'CNN Newsroom', 'NTV News', 'Erik Totten', 'Data Resource Center', 'Institute of Agriculture and Natural Resources', 'New Horizons Omaha - Computer Learning', 'Grinn&amp;Barrett Ta', 'Omaha Famous', 'KHAS Radio', 'Aromas Coffeehouse', 'publiclibrary@southsiouxcity.org', 'Boys Town Hotline', 'Salon Gallerie', 'Civic Nebraska', 'Dan Danford, CFP®', 'JoAnne Young', 'The Daily Nebraskan', 'Buena Vista University', 'Nebraska Appleseed', 'Omaha Blue Waves', 'H&H CHEVROLET', 'OmahaChildrensMuseum', 'Project Interfaith', 'Bickford Bakery', 'Red Letter Festival', 'Twin Creek', 'Lincoln Journal Star', 'KETV Weather', 'Jeff Fortenberry', 'Midland Lutheran', 'Downtown Lincoln', 'ServeNebraska', 'SBT Omaha', 'Benson High News', 'Kearney Area Chamber of Commerce', 'Brian Murzyn', \"Gandolfo's NY Deli\", 'Husker Nation', 'MyOnlineKey Pages', 'amazingdeals', 'Oracle Certification', 'Kansas City Weather', 'Kansas City IT Jobs', 'Omaha IT Jobs', 'SD Times', 'Oracle Groundbreakers', 'Big Omaha', 'Tony Hawk', 'Robby Gordon', 'Iowa Speedway', 'Kevin Harvick', 'Katie', 'Kansas City Royals', 'Kansas City Chiefs', 'twi5.com', 'Profit Online', 'Oracle CloudWorld', '90.5 The Night', \"Scooter's Coffee\", 'LiveJournal', 'Adam Lambert Fans', 'Pennies for Patients', 'Curtis Cline', 'KPBS News', 'San Diego', 'YNPN San Diego', 'San Diego 6 News', 'Idealist', 'USDSOLES', 'Brokers for Charity', 'Steve Braker', 'Project Happiness', 'ARNOVA', 'CNM', 'Pledgie', 'SimpleTuition', 'Chegg Admissions', 'Towson University', 'Academic Info', 'Rob Mizrahi', 'Campus Crossings', 'UO College of Design', 'UW-Madison Transportation Services', 'The History Faculty', 'softscriptsolutions', 'Autism Classroom.com', 'Dr. Linda Irby', 'Times Higher Education', 'MIS', 'Compass Knowledge', 'My College Admission Counselors', 'eCampus Tours', 'NoteShuffle', 'Eco-Design Thinking', 'skwibble', 'John-Bryan Hopkins', 'Website Grader | 2020 Update', 'Starbucks Coffee', 'DrexelCAB', 'Iowa Memorial Union', 'UW Tacoma Admissions', 'Student Affairs', 'WKNC 88.1 FM HD-1/HD-2', 'Ev', 'Whole Foods Market', 'Padmasree', 'UK Prime Minister', 'TWT.FM', 'Pitchfork', 'Business Insider Tech', 'DaveJMatthews', 'Woot!', 'Al Gore', 'Lance Armstrong', 'T Magazine', 'Coldplay', 'The New York Times', 'Tara Calishain', 'JOBS_USA ♦  🇺🇸', 'Evento EBE', 'Tweetup Badges', 'BBB Skateshop', '1222north', 'one percent', 'Madeira PR', 'Ignite Omaha', 'Donovan Beery', 'OmahaTweetUp', 'WordPress', 'Hulu', 'hulu_com', 'Jailbreak Omaha', 'boxee', 'SHAQ', 'Wefollow', 'Jenny Jenkins', \"Sarelli's Catering\", 'Places4Students', 'Bridge To Science', 'Matt Kassner', 'ChannelOmaha.com', 'The Brown Institutes', 'Nebraska Golf Tour', 'DIOSA Communications', 'TSTC Waco', 'UTC Alumni', 'Center for Media & Social Impact (CMSI)', 'Bluffton University', 'Algonquin College', 'WBS', 'Ithaca College Alumni', 'UVA Alumni', 'Arkansas Alumni Association', 'Colgate University', 'cdolaw', 'Great Lakes Echo', 'AzusaPacificNow', 'Mizzou Board', 'UT Alumni Career Services', 'Carlow University', 'Berkeley Haas Alumni Network', 'Citadel Alumni Assoc', 'U Iowa Alumni Assc.', 'MIT Alumni', 'BYU Alumni', 'scrantonalumni', 'Kellogg Alumni', 'Academy Art U Alumni', 'Berkshire School Alumni', 'UWCSEA Alumni', 'PCAlumni', 'Princeton Alumni', 'WilliamJewellCollege', 'RAIT Alumni Assoc.', 'AGSE Alumni Assoc', 'Edinburgh Alumni', 'SU Alumni', 'Business 3.0', 'UST Career', 'UCLA Giving', 'BR_ASUSunDevils', 'USC', 'Cleveland State University', 'Excelsior University', 'DCDS Athletics', 'Arts & Technology', 'JMU SGA', 'Nevada U Cast', 'The Iowa Hawkeyes', 'SAIT', 'FSU College of Motion Picture Arts', 'Lenoir-Rhyne University', 'Detroit Country Day', 'The University of Houston-Victoria', 'UT Knoxville', 'William & Mary School of Business', 'Okstate AS Advisor', 'Northwest Missouri State University', 'MEA Online', 'Mount Mercy University', 'Hebrew College', 'UNSW Built Environment', 'AzusaPacific', 'S.C. State University Fans', 'OSU-Oklahoma City', 'RIT Alumni Association', 'ATEP', 'Full Sail University', 'GVSU Student Senate', 'Midway University', 'James Barker', 'Harper Adams University', 'UPSU', 'Queen Mary University of London', 'LeedsStudentLife', 'Christ Church SU', 'Bangor University', 'University of Portsmouth', 'Study at LSE', 'LSE Events', 'KCL Doctoral Studies', 'Aberystwyth University', 'Georgetown University', \"Queen's University\", 'Kingston University', 'Cranfield University', 'University of Aberdeen', 'EKU', 'UPEI Business', 'PittCommunityCollege', 'maconcampus', 'Concordia University', 'uLethbridge', 'Western University', 'McMaster Alumni', 'Temple Law School', 'U of T Law', 'National Louis University Alumni', 'The Nonprofit Institute', 'Palm Beach Atlantic', 'Lancaster University', 'Lancaster Management School', 'University of Iowa', 'Baylor Law School', 'Western Governors U.', 'socioambiental', 'Earth House', 'Elena Sandoval', 'Reuters Business', 'Michigan Business', 'NBC News Business', 'UB Experiential Learning Network', 'Sheraton PHL UCity', 'Walrus Saloon', 'One World 365', 'xwqgsterry', 'MuellerTime Promos', 'Practice Marketing', 'alec rosen', 'GrowNebraska', 'ExploreNebraska', 'Beacon', 'John McGlothlen', 'Ann Handley', 'Somerset Bobbie', 'BasicGolf', 'Arnold', 'WUSC - EUMC', 'Geocast TV', 'DetentionSlip.org', 'Nebraska Tourism', 'Nebraska Public Media', 'Nebraska.gov', 'Visit Philly', 'thereaderdotcom', 'metroMAGAZINE', 'Nebraska Netroots', 'Omaha Concerts', 'newsbraska', 'Visit Omaha', 'Earth Day Omaha', 'KMTV 3 News Now', 'Chuck', '6 News WOWT', 'Pamela McLaughlin', 'Safe Kids Worldwide', 'Parenting Today', 'Nebraska Cornhuskers', 'Good Morning America', 'Follow Friday', 'Omaha Downtown Plan', 'Spartan Media', 'Classy', 'scholarchannel', 'Rex7', 'TIME', 'Mashable', 'ivolunteers.org', 'BR Design Online', 'StudentUK', 'Rick Whitley', 'KoLo', 'James F', 'MBA Highway', 'Class Homework', 'Washington State Dept. of Natural Resources', 'PrismStream Inc.', 'Houston_Texas', 'Texas US', 'FitnessTown', 'TweetSocial.com', 'Brad Howard', 'Green Media', 'Daniel Damian', 'College Fashion', '@HackCollege', 'CollegeWeekLive', 'I ❤️\\u200d College', 'myCollegeSTAT', 'NASA', 'College Mogul', 'Bard College JSO', 'Vassar College Munch', 'Cornwall College', 'Jennifer Little', 'Luther College', 'College Savings', 'The College Store', 'Klesse College at UTSA', 'UGA College of Veterinary Medicine', 'Northwestern College', 'Stephens College', 'Langara College', 'Ontario Veterinary College', 'trios college', 'My College Agent', '敬和学園大学/KeiwaCollege', 'Education.com', 'Education Generation', 'Pulse of Education', 'NFER Classroom', 'Topics Education', 'Quant Schools', 'Landmark News', 'Ann Williams-Maughan', 'CNN', 'Marketing Guru', 'TweetSmarter', 'Education is Freedom', 'Kyle Jameson', 'oceanfilmfest', 'MarketingInsights', 'Writers Write', 'Internet Track', 'Tracy Repchuk', 'Chloe Walker PhD', 'Data Axle', 'Kalamazoo College', 'Rainmaker Network', 'Carthage College', 'Daily Herald', 'Chicago Tribune', 'The Chronicle', 'Brent Csutoras', 'ScottMonty.com', 'Rand McNally', 'WGN Morning News', 'WGN TV News', 'FOX 32 News', 'ESPNChicago', 'Midwest Living', 'LIFETUBERS', 'Babson College', 'College Support', 'College Publisher', 'State College Police', 'Centenary College', 'St. Norbert College', 'Sterling College', 'College of Business', 'Cornell College', 'Tusculum University', 'College Finder', 'Dickinson College', 'Tim Hawks', 'Cayuga Comm College', 'Wayne State College', 'Small College Hoops', 'Niagara College', 'Dartmouth College', 'PioCareers', 'Westminster College', 'Whittier College', 'Your Career', 'Online Classes', 'Walt', 'Bob Johnson', 'North Central College', 'Butler University', 'Purple Growl', 'VTV ART', 'Fun in Omaha', 'Andrew Stewart', 'Bearcast Media', 'NBA', 'World Economic Forum', 'La Trobe University', 'Rogue Red Lantern', 'Student Union Activities Board', 'globalgreen', 'The Agency Group', 'Jennifer Fahlsing', 'Google Voice', 'NFL Scores', 'tweducation', 'The Office on Peacock', 'Workers Work', 'SHRM', 'WorldWideLearn.com', 'studentrentals', 'Meg Kilmer', 'USFWS Pacific Region', 'My University Space', 'Arbor Day Foundation', 'SmokeAlarm', 'LAFD', 'MySpace Users', 'Shout House Dueling Pianos Mpls', 'U.S. Army Materiel Command', 'Shadow Lake TowneCtr', 'StudentHacks', 'Dateline NBC', 'TODAY', 'MSNBC', 'Google', 'Perfect Grammar', 'ScholarBuys', 'Universityof Atlanta', 'Clemson University', 'Office of Student Involvement', 'NBC News', 'USA TODAY', 'LA Times Education', 'Microsoft Education', 'RateMyProfessors', 'Josh Kaufman', 'NMCC Library', 'IllinoisPSM', 'CU Denver', 'Cornell Olin & Uris Libraries', 'Baruch Zicklin', 'Schoolcraft College', 'University of North Alabama', 'Purdue Admission', 'CU Housing', 'Rutgers Parent & Family Programs - New Brunswick', 'ITweetUSF', 'Oklahoma City Univ.', 'UCI Giving', 'Carlos Albizu Univ.', 'IU East', 'LSEC Greenwich', \"Hawaii's Law School\", 'Colorado Daily', 'UH Media Relations', 'Virginia Tech News', 'Grand Valley State', 'News from K-State', 'William & Mary News', 'U of MN Press', 'Harvard Extension School', 'CSTEP @ Syracuse U', 'North Dakota State University', 'ECS Academic Advisor', 'Univ. of the Ozarks', 'Slippery Rock University Alumni Association', 'William Jessup University', 'Nicholls State University', 'Fairmont State University', 'Univ of Scranton', 'North Carolina Central University', 'Univ. of Tennessee', 'Devry SGA', 'Texas A&M SGA', 'VCUarts', 'UVA Law School', 'UVA', 'Yale School of Music', 'FSU Education', 'Midland College', 'UC Irvine', 'CityU of Seattle', 'Marnix College', 'MiraCosta College', 'Luther College', 'Carnegie Mellon University', 'UT Tyler', 'Lewis & Clark College', 'College of Design', 'UT Tyler Grad School', 'bingadmissions', 'Univ. of La Verne', 'UW-Whitewater', 'UIC Admissions', 'Macomb College', 'OWU Admission', 'UC Davis GSM', 'Rosemont College', 'Dartmouth Throwup', 'Boise State Career Services', \"St. Mary's University\", 'UOW', 'hofstracareer', 'Sonography at FHCHS', 'Illinois Tech', 'BlueFuego', 'Julie Stewart', 'BU-CorporateLearning', 'Oklahoma State Univ.', 'Nightline', 'GoldenGateUniversity', 'Georgia MBA', 'Gradware', 'Flinders University', 'Lipscomb University', 'Abertay University', 'University Circle', 'University of Bradford', 'University College at WashU', 'Radford University', 'WW Parents', 'FOX4 News', 'Jenzabar Foundation', 'Imperial Valley College', 'Choice Degree', 'Upromise', 'College Magazine', 'WPLG Local 10 News', 'Educational Marketing Group, Inc.', 'Mascot Search', 'The Harvard Crimson', 'Harvard Graduate School of Education (HGSE)', 'The Onion', 'Meta', 'eOffice', 'Kingsborough CC', 'University of Nebraska Medical Center', 'NebNetworking', 'National Safety Council- Nebraska Chapter', 'home_depot_', 'Verizon Wireless', 'CHI Health', 'Western Illinois University', 'WPI News', 'WPI', 'Big Red Network', '𝕃𝕒𝕦𝕤𝕒𝕟𝕟𝕖', 'NC State OIT', 'University of Westminster', 'Manchester Metropolitan Uni', 'SMU', 'NJIT', 'UT Brownsville', 'Modul University Vienna', 'University of Notre Dame', 'The University Club', 'UMD_MITH', '@nonprofitorgs / Nonprofit Tech for Good', 'Small Businesses', 'Sherese Duncan', 'Uni of Birmingham', 'Yeshiva University', 'MESA', 'Counseling & Health', 'UWGB Learning Center', 'Student Accessibility Services', \"UWGB Bursar's Office\", 'Student Affairs', 'Dean of Students', 'UW-Green Bay Admissions', 'UW-Green Bay Academic Advising', 'UWGB Financial Aid', 'UCIbrenICS', 'UC Berkeley Admissions', 'umiamiedu', 'Blogs@Baruch', 'WSU Vancouver', 'North Park University', 'Western New England University', 'Blue Ridge Community College', 'Charter Oak State', 'OSU Career Services', 'LIT Tipperary', 'OkACE', 'MCPHS', 'UMKC', 'USanDiegoLaw', 'Columbia Basin College', 'UC Web Communication', 'Diederich College', 'Gies Business', 'VCU Education', 'AU Media Relations', 'USC Rossier', 'AsburyU', 'Cal', 'RIT Admissions', 'St. Olaf College', 'Sacramento City College', 'University of PEI', 'Formerly Known As ..', 'TSTC in West Texas', 'OCU School of Law', 'OSU College of Education and Human Sciences', 'Georgia Tech CoA', 'Lee University', 'Franklin University', 'Sunderland College', 'Harvard University Press', 'Washburn Law', 'U of Hawai‘i Alumni', 'Oregon State University', 'College of Fine Arts at Carnegie Mellon', 'NUI Galway', 'UCC Ireland', 'Simpson University', 'UCF Business', 'WTAMU', 'Web Editor', 'Coles College at KSU', 'Alabama Crimson Tide', 'OaktonCollege', 'University of Charleston, South Carolina at CofC', 'UMass Dartmouth', 'Dartmouth', 'Bramson ORT College', 'Daemen University', 'Hamilton College', 'Miller Center', '#EIU', 'Vancouver Film School', 'PennWest Edinboro', 'Terry College | UGA', 'Dallas College Brookhaven Campus', 'Dallas College Richland Campus', 'aikcu', 'CSU Alumni', 'Aims Community College', 'LethCollege Alumni', 'University of Minnesota Crookston', 'Bethel University', 'Mercy College', 'UC Davis Ambassador', \"NY's Independent Colleges & Universities\", 'Leeward CC', 'RPInews', 'Independent Colleges of Washington', 'NAICU News Roundup', 'Mizzou News', 'Dartmouth Engineering', 'University of Rochester', 'HIAS Scholarship', 'OpenDor Media', 'NACADA', 'NEBHE', '.', 'Graduate Admissions', 'webster_u', 'Nevada Bound', 'ODUAdmissions', 'The University of Akron Office of Admissions', 'JCCCAdmissions', 'valjensen', 'Elgin Community College', 'University of Illinois Springfield', 'uwebd', 'higheredexperts', 'Parkway Schools', 'Washington University in St. Louis', 'bloghighed', 'Walker School', 'Inside Higher Ed', 'Baker College', 'Troy University', 'BBC Education', 'Education Week', 'Scholarships.com', 'Immersive Education', 'Pearson Professional Books', 'Careers & Education', 'Education Futures', 'Education Executive', 'Research-live.com', 'BlackBerry', 'Forrester', 'University of Sussex', 'University of Surrey', 'The University of Sheffield', 'Monash University', 'Toronto Metropolitan University', 'Stetson University', 'Fluke University', 'University of Glasgow', 'Autodesk University', 'Study Abroad MiamiOH', 'Coventry University', 'Ulster University', 'Brand University', 'University of Guelph', 'Teesside University', 'University Christian', 'Miami University ASG', 'University of London', 'Carnell Urban 🇺🇸 #FBA #B1', 'University of Bath', 'Floggers University', 'Online University', 'Twitter', 'Concordia University', 'mylearningspace', 'asu_it', 'University at Buffalo School of Law', 'New Mexico State', 'Center for Innovatio', 'MBA Sphere', 'Jennifer Barbee', 'Omaha Ad Network', 'Omaha World-Herald', 'Ozarka College', \"Regent's University London\", 'Drexel Online', 'Edmonds College', 'Freed-Hardeman U', 'Franklin College', 'Hiram College', 'Millsaps College', 'Morehead State', 'UniMelb Newsroom', 'Liberty University', 'Capella University', 'Howard University', 'Boston University', '-', 'الولـيد بن عبـدالرحمن', 'Brandeis', 'あい', 'xey', 'Princeton University', 'Rice University', 'Seneca College', 'Pitzer College', 'Hope College', 'College Degrees', 'Concordia College', 'Middlebury Institute', 'Sinclair360', 'sunyoswego', 'TEXAS Moody', 'Western Theological Seminary', 'Western Carolina University', 'Dunwoody College', 'CCM @ Univ of Cinti', 'Tarleton State University', 'NEBHE Tuition Break', 'McGraw-Hill A/E/C', 'Guy Kawasaki', 'Desiree Kane (She/They)', 'Dave Van de Walle', 'The Grand Island Independent', 'College Life', 'Harvard Law School', 'Harvard Alumni Association', 'Yale Law Library', 'UCAdvocacy', 'The Dartmouth', 'UC Merced', 'CSU Dominguez Hills', 'CSU Channel Islands', 'Cal State Monterey Bay', 'College Grazing', 'Poor College Student', 'Imperial College London', 'Smith College', 'Aquinas College', 'Niche', 'Ringling College', 'University of Lynchburg', 'San Diego State University', 'Study Hall', 'DegreeGo', 'Cal State Long Beach', 'Saint Leo University', 'WiseCampus.com', 'Cal Poly Humboldt', 'Cal State Northridge', 'The College Press', 'Harvard Kennedy School', 'NSCS', 'Wofford College', 'Bates College', 'Roanoke College', 'UCLA Newsroom', 'Marquette University', 'Siena College', 'The CSU', 'Ohio University', 'Jonathan Fung', 'davenportu', 'UniversityJunction', 'American Academy of Distance Learning', 'Hanna Kassis', 'Texas Tech University', \"UC Santa Barbara's College of Engineering\", 'IU Bloomington', 'UD Admissions', 'Rogers State U.', 'Regent University', 'Gettysburg College', 'University of the Pacific', 'Harvard Business Review', 'CU Boulder Arts and Sciences', 'USC Upstate', 'CSUSB Admissions', 'UT Austin', 'CollegeGrad.com', 'South Dakota Mines', 'The Elliott School', 'TeacherTube.com', 'New City College | Ardleigh Green', 'College of Education', 'Ole Miss', 'Rollins College', 'Drexel U. News', 'Ithaca College', 'Harvard Business School', 'Boston College', 'Auburn University', 'Aston University', 'Stanford H&S', 'Westminster College', 'PalmerCollege', 'WVU Davis College', 'College Outreach', 'Randolph College', 'Bow Valley College', 'University of Richmond', 'Cal Poly PRSSA', 'Oklahoma Christian University', 'McGill University', 'Northeastern Graduate Programs', 'URI', 'Texas McCombs', 'Mays Business School', 'UChicago Law School', 'McGovern Med School', 'University of Minnesota', 'Cardiff University', 'Univ. of Maryland', 'University of Hawaii System', 'The University of Akron', 'University of Miami', 'Edge Hill University', 'Oakland University', 'Monmouth University', 'Drexel University', 'Winthrop University', 'Whitworth University', 'Duquesne University', 'U360', 'NUAdmissions', 'Roger Williams University', 'Brandeis University', 'Trinity University', 'Suffolk University', 'Simmons University', 'Butler Admission', 'Bryant Admission', 'Wheaton College', 'Stonehill College', 'Lasell University', 'Tufts University', 'Johns Hopkins University', 'Penn State News', 'The Chronicle of Higher Education', 'Brown University', 'Cornell University', 'Anderson University', 'Butler University', 'President Satish K. Tripathi, University @ Buffalo', 'Multnomah University', 'Lawrence University', 'cuaa', 'Stanford University', 'Yale University', 'ducigs@duke.edu', 'The Wall Street Journal', 'CampusEcology', 'University of Warwick', 'uSurvive.com', 'Brock University', 'George Fox University', 'York University Students', 'UM System', 'thecampusbuzz', 'Haas Center', 'Assumption University Admission', 'Naval War College', 'UC Berkeley Exec Ed', 'University of Michigan School of Social Work', 'UNL Human Rights', 'Austin College', 'University of St Andrews', 'Lewis Univ. Alumni', 'UnionUniversity', 'UMKC Alumni', 'Northwestern Oklahoma State University', 'Ohio State', 'Washington Athletics', 'Penn State Football', 'DePaul Athletics', 'Clemson Tigers', 'KU Alumni Association', 'SMSU Alumni', 'University of Delaware Alumni', 'Caltech Alumni Association', 'Rutgers Alumni', 'W&M Alumni Assn.', 'WT Alumni', 'UCF Rosen College', 'Marietta College', 'Spartanburg Community College', 'ECU Alumni', 'Babson Grad School', 'Georgian College', 'Nevada Alumni Association', 'Marywood Alumni', 'Hogeschool Saxion', 'University of Utah', 'Univ. of New Mexico', 'FORT VALLEY STATE', 'Orange Coast College', 'Kent State Stark', 'csusb', 'Cal State LA', 'Cal Poly', 'San Jose State', 'Jacksonville State University', 'Drake University Student Senate', 'IowaStateUNews', 'South Puget Sound CC', 'Service Learning', 'Drexel Admissions', 'Columbia Advising', 'Student Life at UWGB', 'UNSW', 'Sparty Fans', 'Medaille University', 'Le Moyne', 'CFCC', 'Marquette University Law School', 'WPI Undergraduate Admissions', 'UNH Franklin Pierce School of Law', 'Central College', 'UTHSC', 'Thomas College', 'meow', 'Missouri State', 'The Open University', 'Keele University', 'CWRU Undergraduate Admission', 'Semester At Sea', 'TigerTweet', 'OTC', 'mizzou', 'Drury University', 'Amarillo College', 'OSU Alumni Assoc.', 'Texas A&M Webmasters', 'StFX University', 'huskers', 'Drake University', 'IUPUI', 'RRC Polytech', 'Simon Fraser University', 'Yale Univ Press', 'RMIT University', 'Rasmussen University', 'Saint Anselm College', 'Allegheny College', 'NPR', 'Seattle University', 'Simplify College', 'University of Arizona', 'eLearners.com', 'Project Working Mom', 'Newsweek', 'Barack Obama', 'CNN Breaking News', 'Social Media Club', 'Watts College of Pub Svc', 'ASU Alumni', 'ASU Foundation', 'Yoshua Daely', 'Everest College', 'Richard Krasney', \"Int'l Affairs Forum\", 'ASU News', 'Webster University', 'Missouri S&T', 'UW-Green Bay', 'Newmark J-School', 'UC Davis', 'Illinois State Redbirds', 'Hofstra University', 'University of Nebraska at Omaha', 'Purdue University', 'USF Management', 'Boston University Alumni Association', 'lovelyvillage', 'Georgia Tech', 'WSU Spokane', 'U-M SEAS', 'Calvin University', 'Wayne State University', 'Thunderbird School of Global Management', 'UC Santa Barbara', 'Fitchburg State', 'UC Santa Cruz', 'SFA Alumni', 'Arizona State University', 'CollegesUniversities', 'Roger Coble', 'Monica Buchanan', 'Jedi 2030 (Active Member of the Multiverse)', 'Jeff Fechner', 'Stephen Robinson', 'Dudi du', 'lavaarondavis', 'FRANCE DEMAIN', 'Football Prospector', 'il_Poeta', 'Coleg Cambria', 'Paulo E. Dias Garcia', 'Kwanza08', 'Adholes', 'Habitat Omaha', 'theOmahaBuzz', 'marla_weeks', 'CrashDavis', 'TomBecka', 'NewsRadio 1110 KFAB', 'PeonLife.com']\n"
     ]
    }
   ],
   "source": [
    "users = api.GetFriends(screen_name='@BellevueU')\n",
    "print([u.name for u in users])"
   ]
  },
  {
   "cell_type": "markdown",
   "metadata": {},
   "source": [
    "## Exercise 4"
   ]
  },
  {
   "cell_type": "code",
   "execution_count": 27,
   "metadata": {},
   "outputs": [],
   "source": [
    "## load packages\n",
    "import pandas as pd\n",
    "import seaborn as sns"
   ]
  },
  {
   "cell_type": "code",
   "execution_count": 28,
   "metadata": {},
   "outputs": [
    {
     "data": {
      "text/html": [
       "<div>\n",
       "<style scoped>\n",
       "    .dataframe tbody tr th:only-of-type {\n",
       "        vertical-align: middle;\n",
       "    }\n",
       "\n",
       "    .dataframe tbody tr th {\n",
       "        vertical-align: top;\n",
       "    }\n",
       "\n",
       "    .dataframe thead th {\n",
       "        text-align: right;\n",
       "    }\n",
       "</style>\n",
       "<table border=\"1\" class=\"dataframe\">\n",
       "  <thead>\n",
       "    <tr style=\"text-align: right;\">\n",
       "      <th></th>\n",
       "      <th>car_ID</th>\n",
       "      <th>symboling</th>\n",
       "      <th>CarName</th>\n",
       "      <th>fueltype</th>\n",
       "      <th>aspiration</th>\n",
       "      <th>doornumber</th>\n",
       "      <th>carbody</th>\n",
       "      <th>drivewheel</th>\n",
       "      <th>enginelocation</th>\n",
       "      <th>wheelbase</th>\n",
       "      <th>...</th>\n",
       "      <th>enginesize</th>\n",
       "      <th>fuelsystem</th>\n",
       "      <th>boreratio</th>\n",
       "      <th>stroke</th>\n",
       "      <th>compressionratio</th>\n",
       "      <th>horsepower</th>\n",
       "      <th>peakrpm</th>\n",
       "      <th>citympg</th>\n",
       "      <th>highwaympg</th>\n",
       "      <th>price</th>\n",
       "    </tr>\n",
       "  </thead>\n",
       "  <tbody>\n",
       "    <tr>\n",
       "      <th>0</th>\n",
       "      <td>1</td>\n",
       "      <td>3</td>\n",
       "      <td>alfa-romero giulia</td>\n",
       "      <td>gas</td>\n",
       "      <td>std</td>\n",
       "      <td>two</td>\n",
       "      <td>convertible</td>\n",
       "      <td>rwd</td>\n",
       "      <td>front</td>\n",
       "      <td>88.6</td>\n",
       "      <td>...</td>\n",
       "      <td>130</td>\n",
       "      <td>mpfi</td>\n",
       "      <td>3.47</td>\n",
       "      <td>2.68</td>\n",
       "      <td>9.0</td>\n",
       "      <td>111</td>\n",
       "      <td>5000</td>\n",
       "      <td>21</td>\n",
       "      <td>27</td>\n",
       "      <td>13495.0</td>\n",
       "    </tr>\n",
       "    <tr>\n",
       "      <th>1</th>\n",
       "      <td>2</td>\n",
       "      <td>3</td>\n",
       "      <td>alfa-romero stelvio</td>\n",
       "      <td>gas</td>\n",
       "      <td>std</td>\n",
       "      <td>two</td>\n",
       "      <td>convertible</td>\n",
       "      <td>rwd</td>\n",
       "      <td>front</td>\n",
       "      <td>88.6</td>\n",
       "      <td>...</td>\n",
       "      <td>130</td>\n",
       "      <td>mpfi</td>\n",
       "      <td>3.47</td>\n",
       "      <td>2.68</td>\n",
       "      <td>9.0</td>\n",
       "      <td>111</td>\n",
       "      <td>5000</td>\n",
       "      <td>21</td>\n",
       "      <td>27</td>\n",
       "      <td>16500.0</td>\n",
       "    </tr>\n",
       "    <tr>\n",
       "      <th>2</th>\n",
       "      <td>3</td>\n",
       "      <td>1</td>\n",
       "      <td>alfa-romero Quadrifoglio</td>\n",
       "      <td>gas</td>\n",
       "      <td>std</td>\n",
       "      <td>two</td>\n",
       "      <td>hatchback</td>\n",
       "      <td>rwd</td>\n",
       "      <td>front</td>\n",
       "      <td>94.5</td>\n",
       "      <td>...</td>\n",
       "      <td>152</td>\n",
       "      <td>mpfi</td>\n",
       "      <td>2.68</td>\n",
       "      <td>3.47</td>\n",
       "      <td>9.0</td>\n",
       "      <td>154</td>\n",
       "      <td>5000</td>\n",
       "      <td>19</td>\n",
       "      <td>26</td>\n",
       "      <td>16500.0</td>\n",
       "    </tr>\n",
       "    <tr>\n",
       "      <th>3</th>\n",
       "      <td>4</td>\n",
       "      <td>2</td>\n",
       "      <td>audi 100 ls</td>\n",
       "      <td>gas</td>\n",
       "      <td>std</td>\n",
       "      <td>four</td>\n",
       "      <td>sedan</td>\n",
       "      <td>fwd</td>\n",
       "      <td>front</td>\n",
       "      <td>99.8</td>\n",
       "      <td>...</td>\n",
       "      <td>109</td>\n",
       "      <td>mpfi</td>\n",
       "      <td>3.19</td>\n",
       "      <td>3.40</td>\n",
       "      <td>10.0</td>\n",
       "      <td>102</td>\n",
       "      <td>5500</td>\n",
       "      <td>24</td>\n",
       "      <td>30</td>\n",
       "      <td>13950.0</td>\n",
       "    </tr>\n",
       "    <tr>\n",
       "      <th>4</th>\n",
       "      <td>5</td>\n",
       "      <td>2</td>\n",
       "      <td>audi 100ls</td>\n",
       "      <td>gas</td>\n",
       "      <td>std</td>\n",
       "      <td>four</td>\n",
       "      <td>sedan</td>\n",
       "      <td>4wd</td>\n",
       "      <td>front</td>\n",
       "      <td>99.4</td>\n",
       "      <td>...</td>\n",
       "      <td>136</td>\n",
       "      <td>mpfi</td>\n",
       "      <td>3.19</td>\n",
       "      <td>3.40</td>\n",
       "      <td>8.0</td>\n",
       "      <td>115</td>\n",
       "      <td>5500</td>\n",
       "      <td>18</td>\n",
       "      <td>22</td>\n",
       "      <td>17450.0</td>\n",
       "    </tr>\n",
       "  </tbody>\n",
       "</table>\n",
       "<p>5 rows × 26 columns</p>\n",
       "</div>"
      ],
      "text/plain": [
       "   car_ID  symboling                   CarName fueltype aspiration doornumber  \\\n",
       "0       1          3        alfa-romero giulia      gas        std        two   \n",
       "1       2          3       alfa-romero stelvio      gas        std        two   \n",
       "2       3          1  alfa-romero Quadrifoglio      gas        std        two   \n",
       "3       4          2               audi 100 ls      gas        std       four   \n",
       "4       5          2                audi 100ls      gas        std       four   \n",
       "\n",
       "       carbody drivewheel enginelocation  wheelbase  ...  enginesize  \\\n",
       "0  convertible        rwd          front       88.6  ...         130   \n",
       "1  convertible        rwd          front       88.6  ...         130   \n",
       "2    hatchback        rwd          front       94.5  ...         152   \n",
       "3        sedan        fwd          front       99.8  ...         109   \n",
       "4        sedan        4wd          front       99.4  ...         136   \n",
       "\n",
       "   fuelsystem  boreratio  stroke compressionratio horsepower  peakrpm citympg  \\\n",
       "0        mpfi       3.47    2.68              9.0        111     5000      21   \n",
       "1        mpfi       3.47    2.68              9.0        111     5000      21   \n",
       "2        mpfi       2.68    3.47              9.0        154     5000      19   \n",
       "3        mpfi       3.19    3.40             10.0        102     5500      24   \n",
       "4        mpfi       3.19    3.40              8.0        115     5500      18   \n",
       "\n",
       "   highwaympg    price  \n",
       "0          27  13495.0  \n",
       "1          27  16500.0  \n",
       "2          26  16500.0  \n",
       "3          30  13950.0  \n",
       "4          22  17450.0  \n",
       "\n",
       "[5 rows x 26 columns]"
      ]
     },
     "execution_count": 28,
     "metadata": {},
     "output_type": "execute_result"
    }
   ],
   "source": [
    "## import cars data set and read the csv file.\n",
    "carPriceData = pd.read_csv('/Users/Jagadeesh/Desktop/SAI_MS/540/week7_8/CarPrice.csv') \n",
    "carPriceData.head()"
   ]
  },
  {
   "cell_type": "code",
   "execution_count": 29,
   "metadata": {},
   "outputs": [
    {
     "data": {
      "text/plain": [
       "<AxesSubplot:xlabel='wheelbase', ylabel='enginesize'>"
      ]
     },
     "execution_count": 29,
     "metadata": {},
     "output_type": "execute_result"
    },
    {
     "data": {
      "image/png": "[encoded data removed]",
      "text/plain": [
       "<Figure size 432x288 with 1 Axes>"
      ]
     },
     "metadata": {
      "needs_background": "light"
     },
     "output_type": "display_data"
    }
   ],
   "source": [
    "## line chart with x-axis :wheelbase and Y-axis : enginesize\n",
    "sns.lineplot(data=carPriceData, x=\"wheelbase\", y=\"enginesize\")"
   ]
  },
  {
   "cell_type": "code",
   "execution_count": 30,
   "metadata": {},
   "outputs": [
    {
     "data": {
      "text/plain": [
       "<seaborn.axisgrid.FacetGrid at 0x20f40db4b50>"
      ]
     },
     "execution_count": 30,
     "metadata": {},
     "output_type": "execute_result"
    },
    {
     "data": {
      "image/png": "[encoded data removed]",
      "text/plain": [
       "<Figure size 425.625x360 with 1 Axes>"
      ]
     },
     "metadata": {
      "needs_background": "light"
     },
     "output_type": "display_data"
    }
   ],
   "source": [
    "## scatter plot with x-axis :wheelbase and Y-axis : enginesize and hue : fueltype\n",
    "sns.relplot(data=carPriceData, x='wheelbase', y='enginesize',\n",
    "hue='fueltype')"
   ]
  },
  {
   "cell_type": "code",
   "execution_count": 31,
   "metadata": {},
   "outputs": [
    {
     "data": {
      "text/plain": [
       "<AxesSubplot:xlabel='wheelbase', ylabel='carbody'>"
      ]
     },
     "execution_count": 31,
     "metadata": {},
     "output_type": "execute_result"
    },
    {
     "data": {
      "image/png": "[encoded data removed]",
      "text/plain": [
       "<Figure size 432x288 with 1 Axes>"
      ]
     },
     "metadata": {
      "needs_background": "light"
     },
     "output_type": "display_data"
    }
   ],
   "source": [
    "## bar chart with x axis as wheelbase and y axis as carbody\n",
    "sns.barplot(x=\"wheelbase\", y=\"carbody\", data=carPriceData)"
   ]
  },
  {
   "cell_type": "code",
   "execution_count": 32,
   "metadata": {},
   "outputs": [
    {
     "data": {
      "text/plain": [
       "<seaborn.axisgrid.FacetGrid at 0x20f416d1ac0>"
      ]
     },
     "execution_count": 32,
     "metadata": {},
     "output_type": "execute_result"
    },
    {
     "data": {
      "image/png": "[encoded data removed]",
      "text/plain": [
       "<Figure size 360x360 with 1 Axes>"
      ]
     },
     "metadata": {
      "needs_background": "light"
     },
     "output_type": "display_data"
    }
   ],
   "source": [
    "## Density plotx='enginesize', kind='kde'\n",
    "sns.displot(data=carPriceData, x='enginesize', kind='kde')"
   ]
  },
  {
   "cell_type": "code",
   "execution_count": 33,
   "metadata": {},
   "outputs": [
    {
     "data": {
      "image/png": "[encoded data removed]",
      "text/plain": [
       "<Figure size 432x288 with 1 Axes>"
      ]
     },
     "metadata": {},
     "output_type": "display_data"
    }
   ],
   "source": [
    "## pie chart\n",
    "data = carPriceData.groupby(\"carbody\")[\"carbody\"].count()\n",
    "data.plot.pie(autopct=\"%.1f%%\");\n"
   ]
  },
  {
   "cell_type": "code",
   "execution_count": null,
   "metadata": {},
   "outputs": [],
   "source": []
  }
 ],
 "metadata": {
  "kernelspec": {
   "display_name": "Python 3 (ipykernel)",
   "language": "python",
   "name": "python3"
  },
  "language_info": {
   "codemirror_mode": {
    "name": "ipython",
    "version": 3
   },
   "file_extension": ".py",
   "mimetype": "text/x-python",
   "name": "python",
   "nbconvert_exporter": "python",
   "pygments_lexer": "ipython3",
   "version": "3.9.7"
  }
 },
 "nbformat": 4,
 "nbformat_minor": 2
}
