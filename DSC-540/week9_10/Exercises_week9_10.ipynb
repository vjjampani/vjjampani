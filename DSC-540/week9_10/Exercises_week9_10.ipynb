{
 "cells": [
  {
   "cell_type": "markdown",
   "id": "5ee1da56",
   "metadata": {},
   "source": [
    "# 540 WEEK9_10 EXERCISES\n",
    "# ACTIVITY 11"
   ]
  },
  {
   "cell_type": "markdown",
   "id": "ef8cd163",
   "metadata": {},
   "source": [
    "### Task-1 Connect to the supplied petsDB database"
   ]
  },
  {
   "cell_type": "code",
   "execution_count": 1,
   "id": "cb263733",
   "metadata": {},
   "outputs": [],
   "source": [
    "import sqlite3"
   ]
  },
  {
   "cell_type": "code",
   "execution_count": 2,
   "id": "74037927",
   "metadata": {},
   "outputs": [],
   "source": [
    "conn = sqlite3.connect(\"petsdb\")"
   ]
  },
  {
   "cell_type": "code",
   "execution_count": 3,
   "id": "a8a2c712",
   "metadata": {},
   "outputs": [],
   "source": [
    "# Write a function to check whether the connection has been successful:\n",
    "def is_opened(conn):\n",
    "    try:\n",
    "        conn.execute(\"SELECT * FROM persons LIMIT 1\")\n",
    "        return True\n",
    "    except sqlite3.ProgrammingError as e:\n",
    "        print(\"Connection closed {}\".format(e))\n",
    "        return False"
   ]
  },
  {
   "cell_type": "code",
   "execution_count": 4,
   "id": "fbddd16e",
   "metadata": {},
   "outputs": [
    {
     "name": "stdout",
     "output_type": "stream",
     "text": [
      "True\n"
     ]
    }
   ],
   "source": [
    "# print connection status:\n",
    "print(is_opened(conn))"
   ]
  },
  {
   "cell_type": "code",
   "execution_count": 5,
   "id": "ca297895",
   "metadata": {},
   "outputs": [],
   "source": [
    "# close the connection:\n",
    "conn.close()"
   ]
  },
  {
   "cell_type": "code",
   "execution_count": 6,
   "id": "a118cde2",
   "metadata": {
    "scrolled": true
   },
   "outputs": [
    {
     "name": "stdout",
     "output_type": "stream",
     "text": [
      "Connection closed Cannot operate on a closed database.\n",
      "False\n"
     ]
    }
   ],
   "source": [
    "# Check whether the connection is open or closed:\n",
    "print(is_opened(conn))"
   ]
  },
  {
   "cell_type": "markdown",
   "id": "a2cf385a",
   "metadata": {},
   "source": [
    "### Task 2: What are the different age groups in the persons database"
   ]
  },
  {
   "cell_type": "code",
   "execution_count": 8,
   "id": "a4d4c6ab",
   "metadata": {},
   "outputs": [
    {
     "name": "stdout",
     "output_type": "stream",
     "text": [
      "[('persons',), ('pets',)]\n"
     ]
    }
   ],
   "source": [
    "# Find out the different age groups are in the persons database.\n",
    "conn = sqlite3.connect(\"petsdb\")\n",
    "c = conn.cursor()\n",
    "c.execute(\"SELECT name FROM sqlite_master WHERE type='table';\")\n",
    "print(c.fetchall()) # print list of tables in petsdb\n",
    "#There are 2 tables in petsdb : persons and pets"
   ]
  },
  {
   "cell_type": "code",
   "execution_count": 11,
   "id": "40939702",
   "metadata": {},
   "outputs": [
    {
     "name": "stdout",
     "output_type": "stream",
     "text": [
      "1. We have a count of 1 people with age 6\n",
      "2. We have a count of 1 people with age 7\n",
      "3. We have a count of 1 people with age 9\n",
      "4. We have a count of 1 people with age 13\n",
      "5. We have a count of 1 people with age 19\n",
      "6. We have a count of 1 people with age 27\n",
      "7. We have a count of 1 people with age 30\n",
      "8. We have a count of 1 people with age 32\n",
      "9. We have a count of 1 people with age 33\n",
      "10. We have a count of 1 people with age 37\n",
      "11. We have a count of 1 people with age 40\n",
      "12. We have a count of 1 people with age 42\n",
      "13. We have a count of 1 people with age 49\n",
      "14. We have a count of 1 people with age 50\n",
      "15. We have a count of 1 people with age 58\n",
      "16. We have a count of 1 people with age 59\n",
      "17. We have a count of 1 people with age 60\n",
      "18. We have a count of 1 people with age 61\n",
      "19. We have a count of 1 people with age 63\n",
      "20. We have a count of 1 people with age 67\n",
      "21. We have a count of 1 people with age 69\n",
      "22. We have a count of 1 people with age 70\n",
      "23. We have a count of 1 people with age 72\n",
      "24. We have a count of 2 people with age 5\n",
      "25. We have a count of 2 people with age 11\n",
      "26. We have a count of 2 people with age 16\n",
      "27. We have a count of 2 people with age 17\n",
      "28. We have a count of 2 people with age 23\n",
      "29. We have a count of 2 people with age 25\n",
      "30. We have a count of 2 people with age 34\n",
      "31. We have a count of 2 people with age 39\n",
      "32. We have a count of 2 people with age 44\n",
      "33. We have a count of 2 people with age 48\n",
      "34. We have a count of 2 people with age 51\n",
      "35. We have a count of 2 people with age 52\n",
      "36. We have a count of 2 people with age 53\n",
      "37. We have a count of 2 people with age 54\n",
      "38. We have a count of 2 people with age 62\n",
      "39. We have a count of 2 people with age 65\n",
      "40. We have a count of 2 people with age 66\n",
      "41. We have a count of 3 people with age 8\n",
      "42. We have a count of 3 people with age 12\n",
      "43. We have a count of 3 people with age 18\n",
      "44. We have a count of 3 people with age 22\n",
      "45. We have a count of 3 people with age 24\n",
      "46. We have a count of 3 people with age 31\n",
      "47. We have a count of 3 people with age 35\n",
      "48. We have a count of 3 people with age 36\n",
      "49. We have a count of 3 people with age 68\n",
      "50. We have a count of 3 people with age 74\n",
      "51. We have a count of 4 people with age 14\n",
      "52. We have a count of 4 people with age 71\n",
      "53. We have a count of 5 people with age 73\n"
     ]
    }
   ],
   "source": [
    "# option-1\n",
    "for row,ppl, age in c.execute(\"SELECT ROW_NUMBER () OVER ( ORDER BY count(*),age) RowNum, count(*) as ppl, age FROM persons GROUP BY age ORDER BY count(*)\"):\n",
    "    print(\"{}. We have a count of {} people with age {}\".format(row,ppl, age))"
   ]
  },
  {
   "cell_type": "code",
   "execution_count": 10,
   "id": "ee11eb64",
   "metadata": {},
   "outputs": [
    {
     "name": "stdout",
     "output_type": "stream",
     "text": [
      "We have 2 people aged 5\n",
      "We have 1 people aged 6\n",
      "We have 1 people aged 7\n",
      "We have 3 people aged 8\n",
      "We have 1 people aged 9\n",
      "We have 2 people aged 11\n",
      "We have 3 people aged 12\n",
      "We have 1 people aged 13\n",
      "We have 4 people aged 14\n",
      "We have 2 people aged 16\n",
      "We have 2 people aged 17\n",
      "We have 3 people aged 18\n",
      "We have 1 people aged 19\n",
      "We have 3 people aged 22\n",
      "We have 2 people aged 23\n",
      "We have 3 people aged 24\n",
      "We have 2 people aged 25\n",
      "We have 1 people aged 27\n",
      "We have 1 people aged 30\n",
      "We have 3 people aged 31\n",
      "We have 1 people aged 32\n",
      "We have 1 people aged 33\n",
      "We have 2 people aged 34\n",
      "We have 3 people aged 35\n",
      "We have 3 people aged 36\n",
      "We have 1 people aged 37\n",
      "We have 2 people aged 39\n",
      "We have 1 people aged 40\n",
      "We have 1 people aged 42\n",
      "We have 2 people aged 44\n",
      "We have 2 people aged 48\n",
      "We have 1 people aged 49\n",
      "We have 1 people aged 50\n",
      "We have 2 people aged 51\n",
      "We have 2 people aged 52\n",
      "We have 2 people aged 53\n",
      "We have 2 people aged 54\n",
      "We have 1 people aged 58\n",
      "We have 1 people aged 59\n",
      "We have 1 people aged 60\n",
      "We have 1 people aged 61\n",
      "We have 2 people aged 62\n",
      "We have 1 people aged 63\n",
      "We have 2 people aged 65\n",
      "We have 2 people aged 66\n",
      "We have 1 people aged 67\n",
      "We have 3 people aged 68\n",
      "We have 1 people aged 69\n",
      "We have 1 people aged 70\n",
      "We have 4 people aged 71\n",
      "We have 1 people aged 72\n",
      "We have 5 people aged 73\n",
      "We have 3 people aged 74\n"
     ]
    }
   ],
   "source": [
    "# option-2\n",
    "for ppl, age in c.execute(\"SELECT count(*), age FROM persons GROUP BY age\"):\n",
    "    print(\"We have {} people aged {}\".format(ppl, age))"
   ]
  },
  {
   "cell_type": "markdown",
   "id": "d09f1602",
   "metadata": {},
   "source": [
    "### 3. Which age group has maximum number of people?\n"
   ]
  },
  {
   "cell_type": "code",
   "execution_count": 13,
   "id": "574e9983",
   "metadata": {},
   "outputs": [
    {
     "name": "stdout",
     "output_type": "stream",
     "text": [
      "Highest number of people is 5 and came from 73 age group\n"
     ]
    }
   ],
   "source": [
    "for ppl, age in c.execute( \"SELECT count(*), age FROM persons GROUP BY age ORDER BY count(*) DESC\"):\n",
    "    print(\"Highest number of people is {} and came from {} age group\".format(ppl, age))\n",
    "    break"
   ]
  },
  {
   "cell_type": "markdown",
   "id": "d06b5c30",
   "metadata": {},
   "source": [
    "### 4. How many people do not have a full name (Last name is blank/null)"
   ]
  },
  {
   "cell_type": "code",
   "execution_count": 16,
   "id": "f8bf38e8",
   "metadata": {},
   "outputs": [
    {
     "name": "stdout",
     "output_type": "stream",
     "text": [
      "(60,)\n",
      "Count of persons whose last_name is null - 60\n"
     ]
    }
   ],
   "source": [
    "res = c.execute(\"SELECT count(*) FROM persons WHERE last_name IS null\")\n",
    "for row in res:\n",
    "    print(row)\n",
    "    print(\"Count of persons whose last_name is null - {}\".format(row[0]))"
   ]
  },
  {
   "cell_type": "markdown",
   "id": "a457a271",
   "metadata": {},
   "source": [
    "### 5. How many people has more than one pet? (*)"
   ]
  },
  {
   "cell_type": "code",
   "execution_count": 17,
   "id": "eb277657",
   "metadata": {},
   "outputs": [
    {
     "name": "stdout",
     "output_type": "stream",
     "text": [
      "43 People has more than one pets\n"
     ]
    }
   ],
   "source": [
    "res = c.execute(\"SELECT count(*) FROM (SELECT count(owner_id) FROM pets GROUP BY owner_id HAVING count(owner_id) >1)\")\n",
    "for row in res:\n",
    "    print(\"{} People has more than one pets\".format(row[0]))"
   ]
  },
  {
   "cell_type": "markdown",
   "id": "ba803e5e",
   "metadata": {},
   "source": [
    "### 6. How many pets have received treaments?"
   ]
  },
  {
   "cell_type": "code",
   "execution_count": 18,
   "id": "69636186",
   "metadata": {},
   "outputs": [
    {
     "name": "stdout",
     "output_type": "stream",
     "text": [
      "(36,)\n",
      "Count of pets received treatment is - 36\n"
     ]
    }
   ],
   "source": [
    "res = c.execute(\"SELECT count(*) FROM pets WHERE treatment_done=1\")\n",
    "for row in res:\n",
    "    print(row)\n",
    "    print(\"Count of pets received treatment is - {}\".format(row[0]))"
   ]
  },
  {
   "cell_type": "markdown",
   "id": "4d0fc59f",
   "metadata": {},
   "source": [
    "### 7. How many pets have received treatment that we know the type of?"
   ]
  },
  {
   "cell_type": "code",
   "execution_count": 19,
   "id": "7aad382e",
   "metadata": {},
   "outputs": [
    {
     "name": "stdout",
     "output_type": "stream",
     "text": [
      "(16,)\n",
      "Count of pets received treatment that we know the type is : 16\n"
     ]
    }
   ],
   "source": [
    "res = c.execute(\"SELECT count(*) FROM pets WHERE treatment_done=1 AND pet_type IS NOT null\")\n",
    "for row in res:\n",
    "    print(row)\n",
    "    print(\"Count of pets received treatment that we know the type is : {}\".format(row[0]))"
   ]
  },
  {
   "cell_type": "markdown",
   "id": "6457a5e7",
   "metadata": {},
   "source": [
    "### 8. How many pets are there from the city called \"east port\""
   ]
  },
  {
   "cell_type": "code",
   "execution_count": 20,
   "id": "4e3a5524",
   "metadata": {},
   "outputs": [
    {
     "name": "stdout",
     "output_type": "stream",
     "text": [
      "(49,)\n",
      "count of pets from city='east port' is : 49\n"
     ]
    }
   ],
   "source": [
    "res = c.execute(\"SELECT count(*) FROM pets JOIN persons ON pets.owner_id = persons.id WHERE persons.city='east port'\")\n",
    "for row in res:\n",
    "    print(row)\n",
    "    print(\"count of pets from city='east port' is : {}\".format(row[0]))"
   ]
  },
  {
   "cell_type": "markdown",
   "id": "ad1eb57b",
   "metadata": {},
   "source": [
    "### 9. How many pets are there from the city called \"east port\" and who received a treatment?"
   ]
  },
  {
   "cell_type": "code",
   "execution_count": 21,
   "id": "ecd68220",
   "metadata": {},
   "outputs": [
    {
     "name": "stdout",
     "output_type": "stream",
     "text": [
      "(11,)\n",
      "count of pets from city='east port' and who received a treatment - 11\n"
     ]
    }
   ],
   "source": [
    "res = c.execute(\"SELECT count(*) FROM pets JOIN persons ON pets.owner_id = persons.id WHERE persons.city='east port' AND pets.treatment_done=1\")\n",
    "for row in res:\n",
    "    print(row)\n",
    "    print(\"count of pets from city='east port' and who received a treatment - {}\".format(row[0]))"
   ]
  }
 ],
 "metadata": {
  "kernelspec": {
   "display_name": "Python 3 (ipykernel)",
   "language": "python",
   "name": "python3"
  },
  "language_info": {
   "codemirror_mode": {
    "name": "ipython",
    "version": 3
   },
   "file_extension": ".py",
   "mimetype": "text/x-python",
   "name": "python",
   "nbconvert_exporter": "python",
   "pygments_lexer": "ipython3",
   "version": "3.9.7"
  }
 },
 "nbformat": 4,
 "nbformat_minor": 5
}
