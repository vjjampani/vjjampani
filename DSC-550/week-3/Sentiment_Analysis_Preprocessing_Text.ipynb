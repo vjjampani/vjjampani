{
 "cells": [
  {
   "cell_type": "markdown",
   "id": "cfdc56dd",
   "metadata": {},
   "source": [
    "## Exercise 3.2: Sentiment Analysis and Preprocessing Text"
   ]
  },
  {
   "cell_type": "markdown",
   "id": "ab18e31e",
   "metadata": {},
   "source": [
    "### Part 1: Using the TextBlob Sentiment Analyzer"
   ]
  },
  {
   "cell_type": "code",
   "execution_count": 1,
   "id": "df4aa513",
   "metadata": {},
   "outputs": [],
   "source": [
    "# Import all the required packages\n",
    "\n",
    "import pandas as pd \n",
    "import numpy as np\n",
    "import re as re\n",
    "from textblob import TextBlob\n",
    "from textblob.classifiers import NaiveBayesClassifier\n",
    "import nltk\n",
    "from nltk.corpus import stopwords\n",
    "from bs4 import BeautifulSoup \n",
    "from sklearn.feature_extraction.text import CountVectorizer\n",
    "from sklearn.ensemble import RandomForestClassifier\n",
    "import html"
   ]
  },
  {
   "cell_type": "code",
   "execution_count": 3,
   "id": "8b2cd79e",
   "metadata": {},
   "outputs": [
    {
     "data": {
      "text/html": [
       "<div>\n",
       "<style scoped>\n",
       "    .dataframe tbody tr th:only-of-type {\n",
       "        vertical-align: middle;\n",
       "    }\n",
       "\n",
       "    .dataframe tbody tr th {\n",
       "        vertical-align: top;\n",
       "    }\n",
       "\n",
       "    .dataframe thead th {\n",
       "        text-align: right;\n",
       "    }\n",
       "</style>\n",
       "<table border=\"1\" class=\"dataframe\">\n",
       "  <thead>\n",
       "    <tr style=\"text-align: right;\">\n",
       "      <th></th>\n",
       "      <th>id</th>\n",
       "      <th>sentiment</th>\n",
       "      <th>review</th>\n",
       "    </tr>\n",
       "  </thead>\n",
       "  <tbody>\n",
       "    <tr>\n",
       "      <th>0</th>\n",
       "      <td>5814_8</td>\n",
       "      <td>1</td>\n",
       "      <td>With all this stuff going down at the moment w...</td>\n",
       "    </tr>\n",
       "    <tr>\n",
       "      <th>1</th>\n",
       "      <td>2381_9</td>\n",
       "      <td>1</td>\n",
       "      <td>\\The Classic War of the Worlds\\\" by Timothy Hi...</td>\n",
       "    </tr>\n",
       "    <tr>\n",
       "      <th>2</th>\n",
       "      <td>7759_3</td>\n",
       "      <td>0</td>\n",
       "      <td>The film starts with a manager (Nicholas Bell)...</td>\n",
       "    </tr>\n",
       "    <tr>\n",
       "      <th>3</th>\n",
       "      <td>3630_4</td>\n",
       "      <td>0</td>\n",
       "      <td>It must be assumed that those who praised this...</td>\n",
       "    </tr>\n",
       "    <tr>\n",
       "      <th>4</th>\n",
       "      <td>9495_8</td>\n",
       "      <td>1</td>\n",
       "      <td>Superbly trashy and wondrously unpretentious 8...</td>\n",
       "    </tr>\n",
       "  </tbody>\n",
       "</table>\n",
       "</div>"
      ],
      "text/plain": [
       "       id  sentiment                                             review\n",
       "0  5814_8          1  With all this stuff going down at the moment w...\n",
       "1  2381_9          1  \\The Classic War of the Worlds\\\" by Timothy Hi...\n",
       "2  7759_3          0  The film starts with a manager (Nicholas Bell)...\n",
       "3  3630_4          0  It must be assumed that those who praised this...\n",
       "4  9495_8          1  Superbly trashy and wondrously unpretentious 8..."
      ]
     },
     "execution_count": 3,
     "metadata": {},
     "output_type": "execute_result"
    }
   ],
   "source": [
    "# 1. Import the movie review data as a data frame and ensure that the data is loaded properly.\n",
    "# From the given data source download the data and extraxt and use the file : labeledTrainData.tsv\n",
    "\n",
    "movie_reviews = pd.read_csv(\"/Users/Jagadeesh/Desktop/SAI_MS/SAI_550/week-3/labeledTrainData.tsv\",sep=\"\\t\")\n",
    "movie_reviews.head()"
   ]
  },
  {
   "cell_type": "code",
   "execution_count": 4,
   "id": "6bda8388",
   "metadata": {},
   "outputs": [
    {
     "data": {
      "text/html": [
       "<div>\n",
       "<style scoped>\n",
       "    .dataframe tbody tr th:only-of-type {\n",
       "        vertical-align: middle;\n",
       "    }\n",
       "\n",
       "    .dataframe tbody tr th {\n",
       "        vertical-align: top;\n",
       "    }\n",
       "\n",
       "    .dataframe thead th {\n",
       "        text-align: right;\n",
       "    }\n",
       "</style>\n",
       "<table border=\"1\" class=\"dataframe\">\n",
       "  <thead>\n",
       "    <tr style=\"text-align: right;\">\n",
       "      <th></th>\n",
       "      <th>id</th>\n",
       "      <th>sentiment</th>\n",
       "      <th>review</th>\n",
       "    </tr>\n",
       "  </thead>\n",
       "  <tbody>\n",
       "    <tr>\n",
       "      <th>24995</th>\n",
       "      <td>3453_3</td>\n",
       "      <td>0</td>\n",
       "      <td>It seems like more consideration has gone into...</td>\n",
       "    </tr>\n",
       "    <tr>\n",
       "      <th>24996</th>\n",
       "      <td>5064_1</td>\n",
       "      <td>0</td>\n",
       "      <td>I don't believe they made this film. Completel...</td>\n",
       "    </tr>\n",
       "    <tr>\n",
       "      <th>24997</th>\n",
       "      <td>10905_3</td>\n",
       "      <td>0</td>\n",
       "      <td>Guy is a loser. Can't get girls, needs to buil...</td>\n",
       "    </tr>\n",
       "    <tr>\n",
       "      <th>24998</th>\n",
       "      <td>10194_3</td>\n",
       "      <td>0</td>\n",
       "      <td>This 30 minute documentary Buñuel made in the ...</td>\n",
       "    </tr>\n",
       "    <tr>\n",
       "      <th>24999</th>\n",
       "      <td>8478_8</td>\n",
       "      <td>1</td>\n",
       "      <td>I saw this movie as a child and it broke my he...</td>\n",
       "    </tr>\n",
       "  </tbody>\n",
       "</table>\n",
       "</div>"
      ],
      "text/plain": [
       "            id  sentiment                                             review\n",
       "24995   3453_3          0  It seems like more consideration has gone into...\n",
       "24996   5064_1          0  I don't believe they made this film. Completel...\n",
       "24997  10905_3          0  Guy is a loser. Can't get girls, needs to buil...\n",
       "24998  10194_3          0  This 30 minute documentary Buñuel made in the ...\n",
       "24999   8478_8          1  I saw this movie as a child and it broke my he..."
      ]
     },
     "execution_count": 4,
     "metadata": {},
     "output_type": "execute_result"
    }
   ],
   "source": [
    "movie_reviews.tail()"
   ]
  },
  {
   "cell_type": "code",
   "execution_count": 5,
   "id": "b386475c",
   "metadata": {},
   "outputs": [
    {
     "data": {
      "text/plain": [
       "1    12500\n",
       "0    12500\n",
       "Name: sentiment, dtype: int64"
      ]
     },
     "execution_count": 5,
     "metadata": {},
     "output_type": "execute_result"
    }
   ],
   "source": [
    "# 2. How many of each positive and negative reviews are there?\n",
    "\n",
    "#Display the total number for each sentiment, positive and negative\n",
    "movie_reviews.sentiment.value_counts()"
   ]
  },
  {
   "cell_type": "code",
   "execution_count": 6,
   "id": "26546c48",
   "metadata": {},
   "outputs": [],
   "source": [
    "# 3. Use TextBlob to classify each movie review as positive or negative. \n",
    "# Assume that a polarity score greater than or equal to zero is a positive sentiment and less than 0 is a negative sentiment.\n",
    "\n",
    "from textblob import TextBlob\n",
    "\n",
    "# Create a new column 'senti_score' using the TextBlob polarity score from the 'review' column of movie_reviews\n",
    "movie_reviews['senti_score'] = movie_reviews['review'].apply(lambda text: TextBlob(text).sentiment.polarity)"
   ]
  },
  {
   "cell_type": "code",
   "execution_count": 7,
   "id": "28f23c3a",
   "metadata": {},
   "outputs": [
    {
     "data": {
      "text/html": [
       "<div>\n",
       "<style scoped>\n",
       "    .dataframe tbody tr th:only-of-type {\n",
       "        vertical-align: middle;\n",
       "    }\n",
       "\n",
       "    .dataframe tbody tr th {\n",
       "        vertical-align: top;\n",
       "    }\n",
       "\n",
       "    .dataframe thead th {\n",
       "        text-align: right;\n",
       "    }\n",
       "</style>\n",
       "<table border=\"1\" class=\"dataframe\">\n",
       "  <thead>\n",
       "    <tr style=\"text-align: right;\">\n",
       "      <th></th>\n",
       "      <th>id</th>\n",
       "      <th>sentiment</th>\n",
       "      <th>review</th>\n",
       "      <th>senti_score</th>\n",
       "    </tr>\n",
       "  </thead>\n",
       "  <tbody>\n",
       "    <tr>\n",
       "      <th>0</th>\n",
       "      <td>5814_8</td>\n",
       "      <td>1</td>\n",
       "      <td>With all this stuff going down at the moment w...</td>\n",
       "      <td>0.001277</td>\n",
       "    </tr>\n",
       "    <tr>\n",
       "      <th>1</th>\n",
       "      <td>2381_9</td>\n",
       "      <td>1</td>\n",
       "      <td>\\The Classic War of the Worlds\\\" by Timothy Hi...</td>\n",
       "      <td>0.256349</td>\n",
       "    </tr>\n",
       "    <tr>\n",
       "      <th>2</th>\n",
       "      <td>7759_3</td>\n",
       "      <td>0</td>\n",
       "      <td>The film starts with a manager (Nicholas Bell)...</td>\n",
       "      <td>-0.053941</td>\n",
       "    </tr>\n",
       "    <tr>\n",
       "      <th>3</th>\n",
       "      <td>3630_4</td>\n",
       "      <td>0</td>\n",
       "      <td>It must be assumed that those who praised this...</td>\n",
       "      <td>0.134753</td>\n",
       "    </tr>\n",
       "    <tr>\n",
       "      <th>4</th>\n",
       "      <td>9495_8</td>\n",
       "      <td>1</td>\n",
       "      <td>Superbly trashy and wondrously unpretentious 8...</td>\n",
       "      <td>-0.024842</td>\n",
       "    </tr>\n",
       "  </tbody>\n",
       "</table>\n",
       "</div>"
      ],
      "text/plain": [
       "       id  sentiment                                             review  \\\n",
       "0  5814_8          1  With all this stuff going down at the moment w...   \n",
       "1  2381_9          1  \\The Classic War of the Worlds\\\" by Timothy Hi...   \n",
       "2  7759_3          0  The film starts with a manager (Nicholas Bell)...   \n",
       "3  3630_4          0  It must be assumed that those who praised this...   \n",
       "4  9495_8          1  Superbly trashy and wondrously unpretentious 8...   \n",
       "\n",
       "   senti_score  \n",
       "0     0.001277  \n",
       "1     0.256349  \n",
       "2    -0.053941  \n",
       "3     0.134753  \n",
       "4    -0.024842  "
      ]
     },
     "execution_count": 7,
     "metadata": {},
     "output_type": "execute_result"
    }
   ],
   "source": [
    "#verify if the new column 'senti_score' is there in the data frame 'movie_reviews'.\n",
    "movie_reviews.head()"
   ]
  },
  {
   "cell_type": "code",
   "execution_count": 8,
   "id": "ee62ef8e",
   "metadata": {},
   "outputs": [],
   "source": [
    "# Create a function to analyze the polarity scores to determine positivity, neutrality or negativity\n",
    "# if the sentiment score is < zero return '0' , else consider it as '1'. \n",
    "\n",
    "def analyzePolarity(senti_score):\n",
    "  if senti_score < 0:\n",
    "    return '0'\n",
    "  else:\n",
    "    return '1'"
   ]
  },
  {
   "cell_type": "code",
   "execution_count": 10,
   "id": "26e95463",
   "metadata": {},
   "outputs": [],
   "source": [
    "# Create a new column by applying the function to the sentiment score\n",
    "\n",
    "movie_reviews['senti_textblob'] = movie_reviews['senti_score'].apply(analyzePolarity)\n"
   ]
  },
  {
   "cell_type": "code",
   "execution_count": 11,
   "id": "9f27f522",
   "metadata": {},
   "outputs": [
    {
     "data": {
      "text/html": [
       "<div>\n",
       "<style scoped>\n",
       "    .dataframe tbody tr th:only-of-type {\n",
       "        vertical-align: middle;\n",
       "    }\n",
       "\n",
       "    .dataframe tbody tr th {\n",
       "        vertical-align: top;\n",
       "    }\n",
       "\n",
       "    .dataframe thead th {\n",
       "        text-align: right;\n",
       "    }\n",
       "</style>\n",
       "<table border=\"1\" class=\"dataframe\">\n",
       "  <thead>\n",
       "    <tr style=\"text-align: right;\">\n",
       "      <th></th>\n",
       "      <th>id</th>\n",
       "      <th>sentiment</th>\n",
       "      <th>review</th>\n",
       "      <th>senti_score</th>\n",
       "      <th>senti_textblob</th>\n",
       "    </tr>\n",
       "  </thead>\n",
       "  <tbody>\n",
       "    <tr>\n",
       "      <th>0</th>\n",
       "      <td>5814_8</td>\n",
       "      <td>1</td>\n",
       "      <td>With all this stuff going down at the moment w...</td>\n",
       "      <td>0.001277</td>\n",
       "      <td>1</td>\n",
       "    </tr>\n",
       "    <tr>\n",
       "      <th>1</th>\n",
       "      <td>2381_9</td>\n",
       "      <td>1</td>\n",
       "      <td>\\The Classic War of the Worlds\\\" by Timothy Hi...</td>\n",
       "      <td>0.256349</td>\n",
       "      <td>1</td>\n",
       "    </tr>\n",
       "    <tr>\n",
       "      <th>2</th>\n",
       "      <td>7759_3</td>\n",
       "      <td>0</td>\n",
       "      <td>The film starts with a manager (Nicholas Bell)...</td>\n",
       "      <td>-0.053941</td>\n",
       "      <td>0</td>\n",
       "    </tr>\n",
       "    <tr>\n",
       "      <th>3</th>\n",
       "      <td>3630_4</td>\n",
       "      <td>0</td>\n",
       "      <td>It must be assumed that those who praised this...</td>\n",
       "      <td>0.134753</td>\n",
       "      <td>1</td>\n",
       "    </tr>\n",
       "    <tr>\n",
       "      <th>4</th>\n",
       "      <td>9495_8</td>\n",
       "      <td>1</td>\n",
       "      <td>Superbly trashy and wondrously unpretentious 8...</td>\n",
       "      <td>-0.024842</td>\n",
       "      <td>0</td>\n",
       "    </tr>\n",
       "  </tbody>\n",
       "</table>\n",
       "</div>"
      ],
      "text/plain": [
       "       id  sentiment                                             review  \\\n",
       "0  5814_8          1  With all this stuff going down at the moment w...   \n",
       "1  2381_9          1  \\The Classic War of the Worlds\\\" by Timothy Hi...   \n",
       "2  7759_3          0  The film starts with a manager (Nicholas Bell)...   \n",
       "3  3630_4          0  It must be assumed that those who praised this...   \n",
       "4  9495_8          1  Superbly trashy and wondrously unpretentious 8...   \n",
       "\n",
       "   senti_score senti_textblob  \n",
       "0     0.001277              1  \n",
       "1     0.256349              1  \n",
       "2    -0.053941              0  \n",
       "3     0.134753              1  \n",
       "4    -0.024842              0  "
      ]
     },
     "execution_count": 11,
     "metadata": {},
     "output_type": "execute_result"
    }
   ],
   "source": [
    "##verify if the new column 'senti_textblob' is there in the data frame 'movie_reviews' with the values 0 or 1\n",
    "movie_reviews.head()"
   ]
  },
  {
   "cell_type": "code",
   "execution_count": 12,
   "id": "3748d850",
   "metadata": {},
   "outputs": [
    {
     "data": {
      "text/plain": [
       "1    19017\n",
       "0     5983\n",
       "Name: senti_textblob, dtype: int64"
      ]
     },
     "execution_count": 12,
     "metadata": {},
     "output_type": "execute_result"
    }
   ],
   "source": [
    "# counts of positive and negative reviews\n",
    "movie_reviews.senti_textblob.value_counts()\n",
    "\n",
    "# As per the below results there are : \n",
    "#Positive : 19017 reviews\n",
    "#Negative : 5983 reviews"
   ]
  },
  {
   "cell_type": "code",
   "execution_count": 15,
   "id": "7f1ff582",
   "metadata": {},
   "outputs": [
    {
     "name": "stdout",
     "output_type": "stream",
     "text": [
      "Accuracy of positive sentiment prediction by textBlob : 11824\n",
      "Accuracy of negative sentiment prediction by textBlob : 5307\n"
     ]
    }
   ],
   "source": [
    "#4. Check the accuracy of this model. Is this model better than random guessing?\n",
    "\n",
    "print(\"Accuracy of positive sentiment prediction by textBlob :\", sum((movie_reviews['sentiment'] > 0) & (movie_reviews['senti_score'] >= 0)))\n",
    "print(\"Accuracy of negative sentiment prediction by textBlob :\", sum((movie_reviews['sentiment'] <= 0) & (movie_reviews['senti_score'] < 0)))"
   ]
  },
  {
   "cell_type": "markdown",
   "id": "62180b8b",
   "metadata": {},
   "source": [
    "Number of positive sentiment prediction from textBlob : 11824\n",
    "Number of negative sentiment prediction from textBlob : 5307\n",
    "Total number of reviews from textBlob: 11824 + 5307 = 17131\n",
    "\n",
    "Total number of samples: 25000\n",
    "\n",
    "Accuracy of textBlob = (17131/25000)*100 = 68.524%\n",
    "\n",
    "Accuracy of textBlob model is about 69%. I think this is definitely better than random guessing which would be of 50% accuracy  with either yes or no."
   ]
  },
  {
   "cell_type": "code",
   "execution_count": 16,
   "id": "303f1032",
   "metadata": {},
   "outputs": [
    {
     "name": "stderr",
     "output_type": "stream",
     "text": [
      "[nltk_data] Downloading package vader_lexicon to\n",
      "[nltk_data]     C:\\Users\\Jagadeesh\\AppData\\Roaming\\nltk_data...\n",
      "[nltk_data] Downloading package stopwords to\n",
      "[nltk_data]     C:\\Users\\Jagadeesh\\AppData\\Roaming\\nltk_data...\n",
      "[nltk_data]   Unzipping corpora\\stopwords.zip.\n",
      "[nltk_data] Downloading package punkt to\n",
      "[nltk_data]     C:\\Users\\Jagadeesh\\AppData\\Roaming\\nltk_data...\n",
      "[nltk_data]   Package punkt is already up-to-date!\n"
     ]
    }
   ],
   "source": [
    "# 5. For up to five points extra credit, use another prebuilt text sentiment analyzer, e.g., VADER, and repeat steps (3) and (4).\n",
    "\n",
    "#Importing vader module\n",
    "import nltk\n",
    "nltk.downloader.download('vader_lexicon')\n",
    "nltk.download('stopwords')\n",
    "nltk.download('punkt')\n",
    "from nltk.sentiment.vader import SentimentIntensityAnalyzer"
   ]
  },
  {
   "cell_type": "code",
   "execution_count": 17,
   "id": "156cee4d",
   "metadata": {},
   "outputs": [],
   "source": [
    "analyzer_vader = SentimentIntensityAnalyzer()\n",
    "movie_reviews['negative'] = [analyzer_vader.polarity_scores(x)['neg'] for x in movie_reviews['review']]\n",
    "movie_reviews['neutral'] = [analyzer_vader.polarity_scores(x)['neu'] for x in movie_reviews['review']]\n",
    "movie_reviews['positive'] = [analyzer_vader.polarity_scores(x)['pos'] for x in movie_reviews['review']]\n",
    "movie_reviews['compound'] = [analyzer_vader.polarity_scores(x)['compound'] for x in movie_reviews['review']]\n",
    "movie_reviews['total'] = movie_reviews['positive'] - movie_reviews['negative']"
   ]
  },
  {
   "cell_type": "code",
   "execution_count": 18,
   "id": "4e98193e",
   "metadata": {},
   "outputs": [
    {
     "data": {
      "text/html": [
       "<div>\n",
       "<style scoped>\n",
       "    .dataframe tbody tr th:only-of-type {\n",
       "        vertical-align: middle;\n",
       "    }\n",
       "\n",
       "    .dataframe tbody tr th {\n",
       "        vertical-align: top;\n",
       "    }\n",
       "\n",
       "    .dataframe thead th {\n",
       "        text-align: right;\n",
       "    }\n",
       "</style>\n",
       "<table border=\"1\" class=\"dataframe\">\n",
       "  <thead>\n",
       "    <tr style=\"text-align: right;\">\n",
       "      <th></th>\n",
       "      <th>id</th>\n",
       "      <th>sentiment</th>\n",
       "      <th>review</th>\n",
       "      <th>senti_score</th>\n",
       "      <th>senti_textblob</th>\n",
       "      <th>negative</th>\n",
       "      <th>neutral</th>\n",
       "      <th>positive</th>\n",
       "      <th>compound</th>\n",
       "      <th>total</th>\n",
       "    </tr>\n",
       "  </thead>\n",
       "  <tbody>\n",
       "    <tr>\n",
       "      <th>0</th>\n",
       "      <td>5814_8</td>\n",
       "      <td>1</td>\n",
       "      <td>With all this stuff going down at the moment w...</td>\n",
       "      <td>0.001277</td>\n",
       "      <td>1</td>\n",
       "      <td>0.130</td>\n",
       "      <td>0.744</td>\n",
       "      <td>0.126</td>\n",
       "      <td>-0.8278</td>\n",
       "      <td>-0.004</td>\n",
       "    </tr>\n",
       "    <tr>\n",
       "      <th>1</th>\n",
       "      <td>2381_9</td>\n",
       "      <td>1</td>\n",
       "      <td>\\The Classic War of the Worlds\\\" by Timothy Hi...</td>\n",
       "      <td>0.256349</td>\n",
       "      <td>1</td>\n",
       "      <td>0.047</td>\n",
       "      <td>0.739</td>\n",
       "      <td>0.214</td>\n",
       "      <td>0.9819</td>\n",
       "      <td>0.167</td>\n",
       "    </tr>\n",
       "    <tr>\n",
       "      <th>2</th>\n",
       "      <td>7759_3</td>\n",
       "      <td>0</td>\n",
       "      <td>The film starts with a manager (Nicholas Bell)...</td>\n",
       "      <td>-0.053941</td>\n",
       "      <td>0</td>\n",
       "      <td>0.142</td>\n",
       "      <td>0.800</td>\n",
       "      <td>0.058</td>\n",
       "      <td>-0.9883</td>\n",
       "      <td>-0.084</td>\n",
       "    </tr>\n",
       "    <tr>\n",
       "      <th>3</th>\n",
       "      <td>3630_4</td>\n",
       "      <td>0</td>\n",
       "      <td>It must be assumed that those who praised this...</td>\n",
       "      <td>0.134753</td>\n",
       "      <td>1</td>\n",
       "      <td>0.066</td>\n",
       "      <td>0.878</td>\n",
       "      <td>0.056</td>\n",
       "      <td>-0.2189</td>\n",
       "      <td>-0.010</td>\n",
       "    </tr>\n",
       "    <tr>\n",
       "      <th>4</th>\n",
       "      <td>9495_8</td>\n",
       "      <td>1</td>\n",
       "      <td>Superbly trashy and wondrously unpretentious 8...</td>\n",
       "      <td>-0.024842</td>\n",
       "      <td>0</td>\n",
       "      <td>0.119</td>\n",
       "      <td>0.741</td>\n",
       "      <td>0.140</td>\n",
       "      <td>0.7960</td>\n",
       "      <td>0.021</td>\n",
       "    </tr>\n",
       "  </tbody>\n",
       "</table>\n",
       "</div>"
      ],
      "text/plain": [
       "       id  sentiment                                             review  \\\n",
       "0  5814_8          1  With all this stuff going down at the moment w...   \n",
       "1  2381_9          1  \\The Classic War of the Worlds\\\" by Timothy Hi...   \n",
       "2  7759_3          0  The film starts with a manager (Nicholas Bell)...   \n",
       "3  3630_4          0  It must be assumed that those who praised this...   \n",
       "4  9495_8          1  Superbly trashy and wondrously unpretentious 8...   \n",
       "\n",
       "   senti_score senti_textblob  negative  neutral  positive  compound  total  \n",
       "0     0.001277              1     0.130    0.744     0.126   -0.8278 -0.004  \n",
       "1     0.256349              1     0.047    0.739     0.214    0.9819  0.167  \n",
       "2    -0.053941              0     0.142    0.800     0.058   -0.9883 -0.084  \n",
       "3     0.134753              1     0.066    0.878     0.056   -0.2189 -0.010  \n",
       "4    -0.024842              0     0.119    0.741     0.140    0.7960  0.021  "
      ]
     },
     "execution_count": 18,
     "metadata": {},
     "output_type": "execute_result"
    }
   ],
   "source": [
    "##verify if the new columns 'negative','neutral','positive', 'compound', 'total'  are there in the data frame 'movie_reviews' with the values 0 or 1\n",
    "movie_reviews.head()"
   ]
  },
  {
   "cell_type": "code",
   "execution_count": 19,
   "id": "65b59116",
   "metadata": {},
   "outputs": [
    {
     "name": "stdout",
     "output_type": "stream",
     "text": [
      "Number of rows in the data set with positive reviews in dataset as per vader analysis : 16475\n",
      "Number of rows in the data set with Negative reviews in dataset as per vader analysis : 8525\n"
     ]
    }
   ],
   "source": [
    "# Calculating positive and negative review sentiment analysis count by Vader\n",
    "print(\"Number of rows in the data set with positive reviews in dataset as per vader analysis :\", sum(movie_reviews['compound'] >= 0))\n",
    "print(\"Number of rows in the data set with Negative reviews in dataset as per vader analysis :\", sum(movie_reviews['compound'] < 0))"
   ]
  },
  {
   "cell_type": "markdown",
   "id": "8579f837",
   "metadata": {},
   "source": [
    "Total number of agreements by VADER: 10657+6682 = 17339\n",
    "\n",
    "Total number of samples: 25000\n",
    "\n",
    "Accuracy of VADER = (17339/25000)*100 = 69.356%\n",
    "\n",
    "Accuracy of VADER model is about 70%. Accuracy of textBlob model is about 69%.\n",
    "So VADER model is definitely better than random guessing which would be of 50% accuracy with either yes or no and Slight better than textBlob model."
   ]
  },
  {
   "cell_type": "markdown",
   "id": "546293bb",
   "metadata": {},
   "source": [
    "### Part 2: Prepping Text for a Custom Model"
   ]
  },
  {
   "cell_type": "code",
   "execution_count": 20,
   "id": "b7b53151",
   "metadata": {},
   "outputs": [],
   "source": [
    "# 1. Convert all text to lowercase letters.\n",
    "# 2. Remove punctuation and special characters from the text.\n",
    "# 3. Remove stop words.\n",
    "\n",
    "# creating function to clean the text\n",
    "def cleantext(text):\n",
    "    text = BeautifulSoup(text).get_text()  # beautifying text\n",
    "    letters_only = re.sub(\"[^a-zA-Z]\", \" \", text) # clean the html charecters (non text)\n",
    "    words = letters_only.lower().split()   # convert to lower case text                        \n",
    "    stops = set(stopwords.words(\"english\")) # setting stop words to remove                  \n",
    "    main_words = [w for w in words if not w in stops]   \n",
    "    return( \" \".join( main_words )) "
   ]
  },
  {
   "cell_type": "code",
   "execution_count": 21,
   "id": "d40868a1",
   "metadata": {},
   "outputs": [],
   "source": [
    "# applying cleantext function on the data frame and creating a new column with clean text name 'Clean_review'\n",
    "movie_reviews['clean_review'] = movie_reviews['review'].apply(cleantext)"
   ]
  },
  {
   "cell_type": "code",
   "execution_count": 22,
   "id": "9c7f8c61",
   "metadata": {},
   "outputs": [
    {
     "data": {
      "text/html": [
       "<div>\n",
       "<style scoped>\n",
       "    .dataframe tbody tr th:only-of-type {\n",
       "        vertical-align: middle;\n",
       "    }\n",
       "\n",
       "    .dataframe tbody tr th {\n",
       "        vertical-align: top;\n",
       "    }\n",
       "\n",
       "    .dataframe thead th {\n",
       "        text-align: right;\n",
       "    }\n",
       "</style>\n",
       "<table border=\"1\" class=\"dataframe\">\n",
       "  <thead>\n",
       "    <tr style=\"text-align: right;\">\n",
       "      <th></th>\n",
       "      <th>id</th>\n",
       "      <th>sentiment</th>\n",
       "      <th>review</th>\n",
       "      <th>senti_score</th>\n",
       "      <th>senti_textblob</th>\n",
       "      <th>negative</th>\n",
       "      <th>neutral</th>\n",
       "      <th>positive</th>\n",
       "      <th>compound</th>\n",
       "      <th>total</th>\n",
       "      <th>clean_review</th>\n",
       "    </tr>\n",
       "  </thead>\n",
       "  <tbody>\n",
       "    <tr>\n",
       "      <th>0</th>\n",
       "      <td>5814_8</td>\n",
       "      <td>1</td>\n",
       "      <td>With all this stuff going down at the moment w...</td>\n",
       "      <td>0.001277</td>\n",
       "      <td>1</td>\n",
       "      <td>0.130</td>\n",
       "      <td>0.744</td>\n",
       "      <td>0.126</td>\n",
       "      <td>-0.8278</td>\n",
       "      <td>-0.004</td>\n",
       "      <td>stuff going moment mj started listening music ...</td>\n",
       "    </tr>\n",
       "    <tr>\n",
       "      <th>1</th>\n",
       "      <td>2381_9</td>\n",
       "      <td>1</td>\n",
       "      <td>\\The Classic War of the Worlds\\\" by Timothy Hi...</td>\n",
       "      <td>0.256349</td>\n",
       "      <td>1</td>\n",
       "      <td>0.047</td>\n",
       "      <td>0.739</td>\n",
       "      <td>0.214</td>\n",
       "      <td>0.9819</td>\n",
       "      <td>0.167</td>\n",
       "      <td>classic war worlds timothy hines entertaining ...</td>\n",
       "    </tr>\n",
       "    <tr>\n",
       "      <th>2</th>\n",
       "      <td>7759_3</td>\n",
       "      <td>0</td>\n",
       "      <td>The film starts with a manager (Nicholas Bell)...</td>\n",
       "      <td>-0.053941</td>\n",
       "      <td>0</td>\n",
       "      <td>0.142</td>\n",
       "      <td>0.800</td>\n",
       "      <td>0.058</td>\n",
       "      <td>-0.9883</td>\n",
       "      <td>-0.084</td>\n",
       "      <td>film starts manager nicholas bell giving welco...</td>\n",
       "    </tr>\n",
       "    <tr>\n",
       "      <th>3</th>\n",
       "      <td>3630_4</td>\n",
       "      <td>0</td>\n",
       "      <td>It must be assumed that those who praised this...</td>\n",
       "      <td>0.134753</td>\n",
       "      <td>1</td>\n",
       "      <td>0.066</td>\n",
       "      <td>0.878</td>\n",
       "      <td>0.056</td>\n",
       "      <td>-0.2189</td>\n",
       "      <td>-0.010</td>\n",
       "      <td>must assumed praised film greatest filmed oper...</td>\n",
       "    </tr>\n",
       "    <tr>\n",
       "      <th>4</th>\n",
       "      <td>9495_8</td>\n",
       "      <td>1</td>\n",
       "      <td>Superbly trashy and wondrously unpretentious 8...</td>\n",
       "      <td>-0.024842</td>\n",
       "      <td>0</td>\n",
       "      <td>0.119</td>\n",
       "      <td>0.741</td>\n",
       "      <td>0.140</td>\n",
       "      <td>0.7960</td>\n",
       "      <td>0.021</td>\n",
       "      <td>superbly trashy wondrously unpretentious explo...</td>\n",
       "    </tr>\n",
       "  </tbody>\n",
       "</table>\n",
       "</div>"
      ],
      "text/plain": [
       "       id  sentiment                                             review  \\\n",
       "0  5814_8          1  With all this stuff going down at the moment w...   \n",
       "1  2381_9          1  \\The Classic War of the Worlds\\\" by Timothy Hi...   \n",
       "2  7759_3          0  The film starts with a manager (Nicholas Bell)...   \n",
       "3  3630_4          0  It must be assumed that those who praised this...   \n",
       "4  9495_8          1  Superbly trashy and wondrously unpretentious 8...   \n",
       "\n",
       "   senti_score senti_textblob  negative  neutral  positive  compound  total  \\\n",
       "0     0.001277              1     0.130    0.744     0.126   -0.8278 -0.004   \n",
       "1     0.256349              1     0.047    0.739     0.214    0.9819  0.167   \n",
       "2    -0.053941              0     0.142    0.800     0.058   -0.9883 -0.084   \n",
       "3     0.134753              1     0.066    0.878     0.056   -0.2189 -0.010   \n",
       "4    -0.024842              0     0.119    0.741     0.140    0.7960  0.021   \n",
       "\n",
       "                                        clean_review  \n",
       "0  stuff going moment mj started listening music ...  \n",
       "1  classic war worlds timothy hines entertaining ...  \n",
       "2  film starts manager nicholas bell giving welco...  \n",
       "3  must assumed praised film greatest filmed oper...  \n",
       "4  superbly trashy wondrously unpretentious explo...  "
      ]
     },
     "execution_count": 22,
     "metadata": {},
     "output_type": "execute_result"
    }
   ],
   "source": [
    "#Validating the new column 'clean_review'\n",
    "movie_reviews.head()"
   ]
  },
  {
   "cell_type": "code",
   "execution_count": 23,
   "id": "1e20ba7e",
   "metadata": {},
   "outputs": [],
   "source": [
    "# 4. Apply NLTK’s PorterStemmer.\n",
    "\n",
    "# import the required modules\n",
    "from nltk.stem import PorterStemmer"
   ]
  },
  {
   "cell_type": "code",
   "execution_count": 24,
   "id": "e56eeaea",
   "metadata": {},
   "outputs": [],
   "source": [
    "# Applying porterstemmer on clean_review\n",
    "ps = PorterStemmer()\n",
    "movie_reviews['clean_review'] = movie_reviews['clean_review'].apply(lambda review: ps.stem(review))"
   ]
  },
  {
   "cell_type": "code",
   "execution_count": 25,
   "id": "a407fb5b",
   "metadata": {},
   "outputs": [
    {
     "data": {
      "text/html": [
       "<div>\n",
       "<style scoped>\n",
       "    .dataframe tbody tr th:only-of-type {\n",
       "        vertical-align: middle;\n",
       "    }\n",
       "\n",
       "    .dataframe tbody tr th {\n",
       "        vertical-align: top;\n",
       "    }\n",
       "\n",
       "    .dataframe thead th {\n",
       "        text-align: right;\n",
       "    }\n",
       "</style>\n",
       "<table border=\"1\" class=\"dataframe\">\n",
       "  <thead>\n",
       "    <tr style=\"text-align: right;\">\n",
       "      <th></th>\n",
       "      <th>id</th>\n",
       "      <th>sentiment</th>\n",
       "      <th>review</th>\n",
       "      <th>senti_score</th>\n",
       "      <th>senti_textblob</th>\n",
       "      <th>negative</th>\n",
       "      <th>neutral</th>\n",
       "      <th>positive</th>\n",
       "      <th>compound</th>\n",
       "      <th>total</th>\n",
       "      <th>clean_review</th>\n",
       "    </tr>\n",
       "  </thead>\n",
       "  <tbody>\n",
       "    <tr>\n",
       "      <th>0</th>\n",
       "      <td>5814_8</td>\n",
       "      <td>1</td>\n",
       "      <td>With all this stuff going down at the moment w...</td>\n",
       "      <td>0.001277</td>\n",
       "      <td>1</td>\n",
       "      <td>0.130</td>\n",
       "      <td>0.744</td>\n",
       "      <td>0.126</td>\n",
       "      <td>-0.8278</td>\n",
       "      <td>-0.004</td>\n",
       "      <td>stuff going moment mj started listening music ...</td>\n",
       "    </tr>\n",
       "    <tr>\n",
       "      <th>1</th>\n",
       "      <td>2381_9</td>\n",
       "      <td>1</td>\n",
       "      <td>\\The Classic War of the Worlds\\\" by Timothy Hi...</td>\n",
       "      <td>0.256349</td>\n",
       "      <td>1</td>\n",
       "      <td>0.047</td>\n",
       "      <td>0.739</td>\n",
       "      <td>0.214</td>\n",
       "      <td>0.9819</td>\n",
       "      <td>0.167</td>\n",
       "      <td>classic war worlds timothy hines entertaining ...</td>\n",
       "    </tr>\n",
       "    <tr>\n",
       "      <th>2</th>\n",
       "      <td>7759_3</td>\n",
       "      <td>0</td>\n",
       "      <td>The film starts with a manager (Nicholas Bell)...</td>\n",
       "      <td>-0.053941</td>\n",
       "      <td>0</td>\n",
       "      <td>0.142</td>\n",
       "      <td>0.800</td>\n",
       "      <td>0.058</td>\n",
       "      <td>-0.9883</td>\n",
       "      <td>-0.084</td>\n",
       "      <td>film starts manager nicholas bell giving welco...</td>\n",
       "    </tr>\n",
       "    <tr>\n",
       "      <th>3</th>\n",
       "      <td>3630_4</td>\n",
       "      <td>0</td>\n",
       "      <td>It must be assumed that those who praised this...</td>\n",
       "      <td>0.134753</td>\n",
       "      <td>1</td>\n",
       "      <td>0.066</td>\n",
       "      <td>0.878</td>\n",
       "      <td>0.056</td>\n",
       "      <td>-0.2189</td>\n",
       "      <td>-0.010</td>\n",
       "      <td>must assumed praised film greatest filmed oper...</td>\n",
       "    </tr>\n",
       "    <tr>\n",
       "      <th>4</th>\n",
       "      <td>9495_8</td>\n",
       "      <td>1</td>\n",
       "      <td>Superbly trashy and wondrously unpretentious 8...</td>\n",
       "      <td>-0.024842</td>\n",
       "      <td>0</td>\n",
       "      <td>0.119</td>\n",
       "      <td>0.741</td>\n",
       "      <td>0.140</td>\n",
       "      <td>0.7960</td>\n",
       "      <td>0.021</td>\n",
       "      <td>superbly trashy wondrously unpretentious explo...</td>\n",
       "    </tr>\n",
       "  </tbody>\n",
       "</table>\n",
       "</div>"
      ],
      "text/plain": [
       "       id  sentiment                                             review  \\\n",
       "0  5814_8          1  With all this stuff going down at the moment w...   \n",
       "1  2381_9          1  \\The Classic War of the Worlds\\\" by Timothy Hi...   \n",
       "2  7759_3          0  The film starts with a manager (Nicholas Bell)...   \n",
       "3  3630_4          0  It must be assumed that those who praised this...   \n",
       "4  9495_8          1  Superbly trashy and wondrously unpretentious 8...   \n",
       "\n",
       "   senti_score senti_textblob  negative  neutral  positive  compound  total  \\\n",
       "0     0.001277              1     0.130    0.744     0.126   -0.8278 -0.004   \n",
       "1     0.256349              1     0.047    0.739     0.214    0.9819  0.167   \n",
       "2    -0.053941              0     0.142    0.800     0.058   -0.9883 -0.084   \n",
       "3     0.134753              1     0.066    0.878     0.056   -0.2189 -0.010   \n",
       "4    -0.024842              0     0.119    0.741     0.140    0.7960  0.021   \n",
       "\n",
       "                                        clean_review  \n",
       "0  stuff going moment mj started listening music ...  \n",
       "1  classic war worlds timothy hines entertaining ...  \n",
       "2  film starts manager nicholas bell giving welco...  \n",
       "3  must assumed praised film greatest filmed oper...  \n",
       "4  superbly trashy wondrously unpretentious explo...  "
      ]
     },
     "execution_count": 25,
     "metadata": {},
     "output_type": "execute_result"
    }
   ],
   "source": [
    "#validate\n",
    "movie_reviews.head()"
   ]
  },
  {
   "cell_type": "code",
   "execution_count": 26,
   "id": "8aba0bc6",
   "metadata": {},
   "outputs": [
    {
     "name": "stdout",
     "output_type": "stream",
     "text": [
      "['call', 'episode', 'brilliant', 'feels', 'like', 'little', 'say', 'keeps', 'excellent', 'work', 'season', 'premiere', 'reductive', 'cause', 'never', 'far', 'great', 'sopranos', 'episode', 'far', 'fact', 'title', 'might', 'smug', 'invitation', 'real', 'fans', 'yet', 'join', 'club', 'picking', 'junior', 'left', 'putting', 'bullet', 'nephew', 'gut', 'mistaking', 'crook', 'killed', 'first', 'season', 'story', 'begins', 'tony', 'absolutely', 'fine', 'recollection', 'whatsoever', 'happened', 'attending', 'kind', 'convention', 'speaking', 'normal', 'accent', 'seems', 'something', 'wrong', 'papers', 'apparently', 'tony', 'soprano', 'kevin', 'finnerty', 'least', 'group', 'people', 'think', 'mess', 'sorted', 'leave', 'hotel', 'naturally', 'pure', 'sopranos', 'tradition', 'turns', 'nothing', 'dream', 'tony', 'actually', 'coma', 'doctors', 'uncertain', 'regarding', 'fate', 'family', 'friends', 'worried', 'sick', 'junior', 'refusing', 'believe', 'whole', 'thing', 'actually', 'happened', 'unfortunately', 'anthony', 'jr', 'looks', 'willing', 'avenge', 'attempt', 'father', 'life', 'dreams', 'popped', 'rather', 'frequently', 'series', 'often', 'kind', 'spiritual', 'trial', 'protagonists', 'notably', 'season', 'five', 'show', 'test', 'dream', 'join', 'club', 'however', 'takes', 'metaphysical', 'qualities', 'program', 'already', 'hinted', 'previous', 'episode', 'use', 'william', 'burroughs', 'poem', 'pushes', 'envelope', 'audacious', 'way', 'tony', 'hallucinating', 'dead', 'friends', 'first', 'occurrence', 'sort', 'caused', 'food', 'poisoning', 'four', 'seasons', 'ago', 'one', 'thing', 'actually', 'would', 'appear', 'purgatory', 'radically', 'different', 'heavenly', 'section', 'story', 'crammed', 'allegorical', 'significances', 'least', 'name', 'tony', 'given', 'one', 'character', 'points', 'spelling', 'certain', 'way', 'give', 'word', 'infinity', 'none', 'comes', 'overblown', 'far', 'fetched', 'david', 'chase', 'created', 'piece', 'work', 'far', 'intelligent', 'use', 'weird', 'set', 'ups', 'sake', 'helps', 'narrative', 'talking', 'help', 'case', 'tony', 'soprano', 'might', 'stretching', 'tad', 'though']\n"
     ]
    }
   ],
   "source": [
    "# importing word_tokenize\n",
    "\n",
    "from nltk import word_tokenize\n",
    "\n",
    "# extracting and prinitng tokenized values sample from clean_review column of movie_reviews data frame\n",
    "corpora = movie_reviews['clean_review'].values\n",
    "tokenized = [word_tokenize(corpus) for corpus in corpora]\n",
    "\n",
    "print(tokenized[1111])"
   ]
  },
  {
   "cell_type": "code",
   "execution_count": 27,
   "id": "83f52906",
   "metadata": {},
   "outputs": [
    {
     "data": {
      "text/plain": [
       "(25000, 11)"
      ]
     },
     "execution_count": 27,
     "metadata": {},
     "output_type": "execute_result"
    }
   ],
   "source": [
    "#shape of the modified data frame\n",
    "movie_reviews.shape"
   ]
  },
  {
   "cell_type": "code",
   "execution_count": 28,
   "id": "4f0e63c6",
   "metadata": {},
   "outputs": [],
   "source": [
    "# 5. Create a bag-of-words matrix from your stemmed text (output from (4)), where each row is a word-count vector \n",
    "#    for a single movie review (see sections 5.3 & 6.8 in the Machine Learning with Python Cookbook). \n",
    "#    Display the dimensions of your bag-of-words matrix. The number of rows in this matrix should be the same as \n",
    "#    the number of rows in your original data frame.\n",
    "\n",
    "#Creating bag_of_words matrix from clean review\n",
    "count = CountVectorizer()\n",
    "bag_of_words = count.fit_transform(movie_reviews['clean_review'])"
   ]
  },
  {
   "cell_type": "code",
   "execution_count": 29,
   "id": "27410ace",
   "metadata": {},
   "outputs": [
    {
     "name": "stdout",
     "output_type": "stream",
     "text": [
      "  (0, 64191)\t1\n",
      "  (0, 27550)\t3\n",
      "  (0, 43422)\t1\n",
      "  (0, 43192)\t11\n",
      "  (0, 63275)\t1\n",
      "  (0, 38803)\t1\n",
      "  (0, 44457)\t2\n",
      "  (0, 72931)\t1\n",
      "  (0, 46610)\t1\n",
      "  (0, 18752)\t1\n",
      "  (0, 72925)\t2\n",
      "  (0, 74096)\t1\n",
      "  (0, 43666)\t2\n",
      "  (0, 41360)\t3\n",
      "  (0, 72753)\t1\n",
      "  (0, 26876)\t1\n",
      "  (0, 10554)\t1\n",
      "  (0, 33548)\t1\n",
      "  (0, 28842)\t2\n",
      "  (0, 67130)\t1\n",
      "  (0, 53985)\t2\n",
      "  (0, 13974)\t2\n",
      "  (0, 20521)\t1\n",
      "  (0, 40249)\t1\n",
      "  (0, 42722)\t1\n",
      "  :\t:\n",
      "  (24999, 11248)\t3\n",
      "  (24999, 71146)\t1\n",
      "  (24999, 57954)\t1\n",
      "  (24999, 8372)\t1\n",
      "  (24999, 67822)\t1\n",
      "  (24999, 15151)\t1\n",
      "  (24999, 41670)\t1\n",
      "  (24999, 36350)\t1\n",
      "  (24999, 1092)\t1\n",
      "  (24999, 28244)\t1\n",
      "  (24999, 65969)\t1\n",
      "  (24999, 2415)\t1\n",
      "  (24999, 70186)\t1\n",
      "  (24999, 11374)\t1\n",
      "  (24999, 23509)\t1\n",
      "  (24999, 8368)\t1\n",
      "  (24999, 17022)\t1\n",
      "  (24999, 15098)\t1\n",
      "  (24999, 16559)\t1\n",
      "  (24999, 37346)\t1\n",
      "  (24999, 61936)\t1\n",
      "  (24999, 70061)\t1\n",
      "  (24999, 34019)\t1\n",
      "  (24999, 11328)\t2\n",
      "  (24999, 70162)\t1\n"
     ]
    }
   ],
   "source": [
    "print(bag_of_words)"
   ]
  },
  {
   "cell_type": "code",
   "execution_count": 30,
   "id": "1223b220",
   "metadata": {},
   "outputs": [
    {
     "data": {
      "text/plain": [
       "<25000x75529 sparse matrix of type '<class 'numpy.int64'>'\n",
       "\twith 2446144 stored elements in Compressed Sparse Row format>"
      ]
     },
     "execution_count": 30,
     "metadata": {},
     "output_type": "execute_result"
    }
   ],
   "source": [
    "#Size of bag_of_words\n",
    "bag_of_words "
   ]
  },
  {
   "cell_type": "code",
   "execution_count": 31,
   "id": "ed09ec88",
   "metadata": {},
   "outputs": [
    {
     "name": "stdout",
     "output_type": "stream",
     "text": [
      "(25000, 75529)\n"
     ]
    }
   ],
   "source": [
    "# 6. Create a term frequency-inverse document frequency (tf-idf) matrix from your stemmed text, for your movie reviews \n",
    "#    (see section 6.9 in the Machine Learning with Python Cookbook). Display the dimensions of your tf-idf matrix. \n",
    "#    These dimensions should be the same as your bag-of-words matrix.\n",
    "\n",
    "# Import tf-idf encoding from sklearn library\n",
    "from sklearn.feature_extraction.text import TfidfVectorizer\n",
    "\n",
    "# Define some hiperparameters of encoded\n",
    "vectorizer = TfidfVectorizer()\n",
    "\n",
    "# Create the training set with the words encoded as features of the reviews\n",
    "train_data_features = vectorizer.fit_transform(movie_reviews['clean_review'])\n",
    "\n",
    "print(train_data_features.shape)"
   ]
  },
  {
   "cell_type": "code",
   "execution_count": 32,
   "id": "2cfd78b2",
   "metadata": {},
   "outputs": [
    {
     "data": {
      "text/plain": [
       "LogisticRegression(multi_class='multinomial', random_state=0)"
      ]
     },
     "execution_count": 32,
     "metadata": {},
     "output_type": "execute_result"
    }
   ],
   "source": [
    "# Import the logistic regression model from sklearn \n",
    "\n",
    "from sklearn.linear_model import LogisticRegression\n",
    "\n",
    "# Define the model\n",
    "model = LogisticRegression(random_state=0, solver='lbfgs', multi_class='multinomial')\n",
    "# Train model\n",
    "model.fit(train_data_features, movie_reviews['sentiment'])"
   ]
  },
  {
   "cell_type": "code",
   "execution_count": 34,
   "id": "b4741756",
   "metadata": {},
   "outputs": [
    {
     "name": "stdout",
     "output_type": "stream",
     "text": [
      "(25000, 3)\n"
     ]
    }
   ],
   "source": [
    "# Testing the model against entire train data from original trained data\n",
    "\n",
    "# Read the test data\n",
    "test = pd.read_csv(\"labeledTrainData.tsv\", header=0, delimiter=\"\\t\", \\\n",
    "                   quoting=3 )\n",
    "print(test.shape)\n"
   ]
  },
  {
   "cell_type": "code",
   "execution_count": 35,
   "id": "669bb735",
   "metadata": {},
   "outputs": [
    {
     "data": {
      "text/html": [
       "<div>\n",
       "<style scoped>\n",
       "    .dataframe tbody tr th:only-of-type {\n",
       "        vertical-align: middle;\n",
       "    }\n",
       "\n",
       "    .dataframe tbody tr th {\n",
       "        vertical-align: top;\n",
       "    }\n",
       "\n",
       "    .dataframe thead th {\n",
       "        text-align: right;\n",
       "    }\n",
       "</style>\n",
       "<table border=\"1\" class=\"dataframe\">\n",
       "  <thead>\n",
       "    <tr style=\"text-align: right;\">\n",
       "      <th></th>\n",
       "      <th>id</th>\n",
       "      <th>sentiment</th>\n",
       "      <th>review</th>\n",
       "    </tr>\n",
       "  </thead>\n",
       "  <tbody>\n",
       "    <tr>\n",
       "      <th>0</th>\n",
       "      <td>\"5814_8\"</td>\n",
       "      <td>1</td>\n",
       "      <td>\"With all this stuff going down at the moment ...</td>\n",
       "    </tr>\n",
       "    <tr>\n",
       "      <th>1</th>\n",
       "      <td>\"2381_9\"</td>\n",
       "      <td>1</td>\n",
       "      <td>\"\\\"The Classic War of the Worlds\\\" by Timothy ...</td>\n",
       "    </tr>\n",
       "    <tr>\n",
       "      <th>2</th>\n",
       "      <td>\"7759_3\"</td>\n",
       "      <td>0</td>\n",
       "      <td>\"The film starts with a manager (Nicholas Bell...</td>\n",
       "    </tr>\n",
       "    <tr>\n",
       "      <th>3</th>\n",
       "      <td>\"3630_4\"</td>\n",
       "      <td>0</td>\n",
       "      <td>\"It must be assumed that those who praised thi...</td>\n",
       "    </tr>\n",
       "    <tr>\n",
       "      <th>4</th>\n",
       "      <td>\"9495_8\"</td>\n",
       "      <td>1</td>\n",
       "      <td>\"Superbly trashy and wondrously unpretentious ...</td>\n",
       "    </tr>\n",
       "  </tbody>\n",
       "</table>\n",
       "</div>"
      ],
      "text/plain": [
       "         id  sentiment                                             review\n",
       "0  \"5814_8\"          1  \"With all this stuff going down at the moment ...\n",
       "1  \"2381_9\"          1  \"\\\"The Classic War of the Worlds\\\" by Timothy ...\n",
       "2  \"7759_3\"          0  \"The film starts with a manager (Nicholas Bell...\n",
       "3  \"3630_4\"          0  \"It must be assumed that those who praised thi...\n",
       "4  \"9495_8\"          1  \"Superbly trashy and wondrously unpretentious ..."
      ]
     },
     "execution_count": 35,
     "metadata": {},
     "output_type": "execute_result"
    }
   ],
   "source": [
    "#validate\n",
    "test.head()"
   ]
  },
  {
   "cell_type": "code",
   "execution_count": 37,
   "id": "b90f2f15",
   "metadata": {},
   "outputs": [
    {
     "name": "stdout",
     "output_type": "stream",
     "text": [
      "Cleaning and parsing the test set movie reviews...\n",
      "\n"
     ]
    },
    {
     "data": {
      "text/html": [
       "<div>\n",
       "<style scoped>\n",
       "    .dataframe tbody tr th:only-of-type {\n",
       "        vertical-align: middle;\n",
       "    }\n",
       "\n",
       "    .dataframe tbody tr th {\n",
       "        vertical-align: top;\n",
       "    }\n",
       "\n",
       "    .dataframe thead th {\n",
       "        text-align: right;\n",
       "    }\n",
       "</style>\n",
       "<table border=\"1\" class=\"dataframe\">\n",
       "  <thead>\n",
       "    <tr style=\"text-align: right;\">\n",
       "      <th></th>\n",
       "      <th>id</th>\n",
       "      <th>sentiment</th>\n",
       "      <th>review</th>\n",
       "      <th>clean_review</th>\n",
       "    </tr>\n",
       "  </thead>\n",
       "  <tbody>\n",
       "    <tr>\n",
       "      <th>0</th>\n",
       "      <td>\"5814_8\"</td>\n",
       "      <td>1</td>\n",
       "      <td>\"With all this stuff going down at the moment ...</td>\n",
       "      <td>stuff going moment mj started listening music ...</td>\n",
       "    </tr>\n",
       "    <tr>\n",
       "      <th>1</th>\n",
       "      <td>\"2381_9\"</td>\n",
       "      <td>1</td>\n",
       "      <td>\"\\\"The Classic War of the Worlds\\\" by Timothy ...</td>\n",
       "      <td>classic war worlds timothy hines entertaining ...</td>\n",
       "    </tr>\n",
       "    <tr>\n",
       "      <th>2</th>\n",
       "      <td>\"7759_3\"</td>\n",
       "      <td>0</td>\n",
       "      <td>\"The film starts with a manager (Nicholas Bell...</td>\n",
       "      <td>film starts manager nicholas bell giving welco...</td>\n",
       "    </tr>\n",
       "    <tr>\n",
       "      <th>3</th>\n",
       "      <td>\"3630_4\"</td>\n",
       "      <td>0</td>\n",
       "      <td>\"It must be assumed that those who praised thi...</td>\n",
       "      <td>must assumed praised film greatest filmed oper...</td>\n",
       "    </tr>\n",
       "    <tr>\n",
       "      <th>4</th>\n",
       "      <td>\"9495_8\"</td>\n",
       "      <td>1</td>\n",
       "      <td>\"Superbly trashy and wondrously unpretentious ...</td>\n",
       "      <td>superbly trashy wondrously unpretentious explo...</td>\n",
       "    </tr>\n",
       "  </tbody>\n",
       "</table>\n",
       "</div>"
      ],
      "text/plain": [
       "         id  sentiment                                             review  \\\n",
       "0  \"5814_8\"          1  \"With all this stuff going down at the moment ...   \n",
       "1  \"2381_9\"          1  \"\\\"The Classic War of the Worlds\\\" by Timothy ...   \n",
       "2  \"7759_3\"          0  \"The film starts with a manager (Nicholas Bell...   \n",
       "3  \"3630_4\"          0  \"It must be assumed that those who praised thi...   \n",
       "4  \"9495_8\"          1  \"Superbly trashy and wondrously unpretentious ...   \n",
       "\n",
       "                                        clean_review  \n",
       "0  stuff going moment mj started listening music ...  \n",
       "1  classic war worlds timothy hines entertaining ...  \n",
       "2  film starts manager nicholas bell giving welco...  \n",
       "3  must assumed praised film greatest filmed oper...  \n",
       "4  superbly trashy wondrously unpretentious explo...  "
      ]
     },
     "execution_count": 37,
     "metadata": {},
     "output_type": "execute_result"
    }
   ],
   "source": [
    "# Clean the text of all reviews in the training set\n",
    "print(\"Cleaning and parsing the test set movie reviews...\\n\")\n",
    "test['clean_review'] = test['review'].apply(cleantext)\n",
    "\n",
    "test.head()"
   ]
  },
  {
   "cell_type": "code",
   "execution_count": 38,
   "id": "e640cd7f",
   "metadata": {},
   "outputs": [
    {
     "data": {
      "text/html": [
       "<div>\n",
       "<style scoped>\n",
       "    .dataframe tbody tr th:only-of-type {\n",
       "        vertical-align: middle;\n",
       "    }\n",
       "\n",
       "    .dataframe tbody tr th {\n",
       "        vertical-align: top;\n",
       "    }\n",
       "\n",
       "    .dataframe thead th {\n",
       "        text-align: right;\n",
       "    }\n",
       "</style>\n",
       "<table border=\"1\" class=\"dataframe\">\n",
       "  <thead>\n",
       "    <tr style=\"text-align: right;\">\n",
       "      <th></th>\n",
       "      <th>id</th>\n",
       "      <th>original_sentiment</th>\n",
       "      <th>sentiment_custom</th>\n",
       "    </tr>\n",
       "  </thead>\n",
       "  <tbody>\n",
       "    <tr>\n",
       "      <th>0</th>\n",
       "      <td>\"5814_8\"</td>\n",
       "      <td>1</td>\n",
       "      <td>1</td>\n",
       "    </tr>\n",
       "    <tr>\n",
       "      <th>1</th>\n",
       "      <td>\"2381_9\"</td>\n",
       "      <td>1</td>\n",
       "      <td>1</td>\n",
       "    </tr>\n",
       "    <tr>\n",
       "      <th>2</th>\n",
       "      <td>\"7759_3\"</td>\n",
       "      <td>0</td>\n",
       "      <td>0</td>\n",
       "    </tr>\n",
       "    <tr>\n",
       "      <th>3</th>\n",
       "      <td>\"3630_4\"</td>\n",
       "      <td>0</td>\n",
       "      <td>0</td>\n",
       "    </tr>\n",
       "    <tr>\n",
       "      <th>4</th>\n",
       "      <td>\"9495_8\"</td>\n",
       "      <td>1</td>\n",
       "      <td>0</td>\n",
       "    </tr>\n",
       "  </tbody>\n",
       "</table>\n",
       "</div>"
      ],
      "text/plain": [
       "         id  original_sentiment  sentiment_custom\n",
       "0  \"5814_8\"                   1                 1\n",
       "1  \"2381_9\"                   1                 1\n",
       "2  \"7759_3\"                   0                 0\n",
       "3  \"3630_4\"                   0                 0\n",
       "4  \"9495_8\"                   1                 0"
      ]
     },
     "execution_count": 38,
     "metadata": {},
     "output_type": "execute_result"
    }
   ],
   "source": [
    "# Create the test set with the words encoded as features of the reviews\n",
    "test_data_features = vectorizer.transform(test['clean_review'])\n",
    "\n",
    "\n",
    "# Use the logistic regression model to make sentiment label predictions\n",
    "result = model.predict(test_data_features)\n",
    "\n",
    "# Copy the results to a pandas dataframe with an \"id\" column and a \"sentiment\" column\n",
    "output = pd.DataFrame( data={\"id\":test[\"id\"],\"original_sentiment\":test[\"sentiment\"] ,\"sentiment_custom\":result})\n",
    "output.head()"
   ]
  },
  {
   "cell_type": "code",
   "execution_count": 39,
   "id": "d36c7f13",
   "metadata": {},
   "outputs": [
    {
     "name": "stdout",
     "output_type": "stream",
     "text": [
      "Number of rows in the data set with positive reviews in dataset per custom model : 12611\n",
      "Number of rows in the data set with negative reviews in dataset per custom model : 12389\n"
     ]
    }
   ],
   "source": [
    "# Calculating number of positive and negative review sentiment analysis count by custom model\n",
    "print(\"Number of rows in the data set with positive reviews in dataset per custom model :\", sum(output['sentiment_custom'] == 1))\n",
    "print(\"Number of rows in the data set with negative reviews in dataset per custom model :\", sum(output['sentiment_custom'] == 0))"
   ]
  },
  {
   "cell_type": "code",
   "execution_count": 40,
   "id": "c1171914",
   "metadata": {},
   "outputs": [
    {
     "name": "stdout",
     "output_type": "stream",
     "text": [
      "Accurate positive sentiment prediction by custom model : 11997\n",
      "Accurate negative sentiment prediction by custom model : 11886\n"
     ]
    }
   ],
   "source": [
    "# Calculating Accuracy of custom model where labelled test data and VADER preduction for sentiment are matching\n",
    "print(\"Accurate positive sentiment prediction by custom model :\", sum((output['original_sentiment'] == 1) & (output['sentiment_custom'] == 1)))\n",
    "print(\"Accurate negative sentiment prediction by custom model :\", sum((output['original_sentiment'] == 0) & (output['sentiment_custom'] == 0)))"
   ]
  },
  {
   "cell_type": "markdown",
   "id": "1ed33969",
   "metadata": {},
   "source": [
    "Total numbber of agreements by custom model: 11997+11886 = 23883\n",
    "\n",
    "Total numbber of samples: 25000\n",
    "\n",
    "Accuracy of Custom Model = (23883/25000)*100 = 95.532%\n",
    "Accuracy of VADER model is about 70%. \n",
    "Accuracy of textBlob model is about 69%.\n",
    "Accuracy of Custom model is about 95.5%. This is definitely better than random guessing which would be of 50% accuracy with either yes or no.\n"
   ]
  },
  {
   "cell_type": "code",
   "execution_count": 41,
   "id": "7cf8aaf2",
   "metadata": {},
   "outputs": [
    {
     "name": "stdout",
     "output_type": "stream",
     "text": [
      "(25000, 3)\n"
     ]
    }
   ],
   "source": [
    "# Read the test data\n",
    "test2 = pd.read_csv(\"/Users/Jagadeesh/Desktop/SAI_MS/SAI_550/week-3/labeledTrainData.tsv\", header=0, delimiter=\"\\t\", \\\n",
    "                   quoting=3 )\n",
    "print(test2.shape)\n",
    "\n"
   ]
  },
  {
   "cell_type": "code",
   "execution_count": 42,
   "id": "eb2eceec",
   "metadata": {},
   "outputs": [
    {
     "name": "stdout",
     "output_type": "stream",
     "text": [
      "Cleaning and parsing the test set movie reviews...\n",
      "\n"
     ]
    },
    {
     "data": {
      "text/html": [
       "<div>\n",
       "<style scoped>\n",
       "    .dataframe tbody tr th:only-of-type {\n",
       "        vertical-align: middle;\n",
       "    }\n",
       "\n",
       "    .dataframe tbody tr th {\n",
       "        vertical-align: top;\n",
       "    }\n",
       "\n",
       "    .dataframe thead th {\n",
       "        text-align: right;\n",
       "    }\n",
       "</style>\n",
       "<table border=\"1\" class=\"dataframe\">\n",
       "  <thead>\n",
       "    <tr style=\"text-align: right;\">\n",
       "      <th></th>\n",
       "      <th>id</th>\n",
       "      <th>sentiment</th>\n",
       "    </tr>\n",
       "  </thead>\n",
       "  <tbody>\n",
       "    <tr>\n",
       "      <th>0</th>\n",
       "      <td>\"5814_8\"</td>\n",
       "      <td>1</td>\n",
       "    </tr>\n",
       "    <tr>\n",
       "      <th>1</th>\n",
       "      <td>\"2381_9\"</td>\n",
       "      <td>1</td>\n",
       "    </tr>\n",
       "    <tr>\n",
       "      <th>2</th>\n",
       "      <td>\"7759_3\"</td>\n",
       "      <td>0</td>\n",
       "    </tr>\n",
       "    <tr>\n",
       "      <th>3</th>\n",
       "      <td>\"3630_4\"</td>\n",
       "      <td>0</td>\n",
       "    </tr>\n",
       "    <tr>\n",
       "      <th>4</th>\n",
       "      <td>\"9495_8\"</td>\n",
       "      <td>0</td>\n",
       "    </tr>\n",
       "  </tbody>\n",
       "</table>\n",
       "</div>"
      ],
      "text/plain": [
       "         id  sentiment\n",
       "0  \"5814_8\"          1\n",
       "1  \"2381_9\"          1\n",
       "2  \"7759_3\"          0\n",
       "3  \"3630_4\"          0\n",
       "4  \"9495_8\"          0"
      ]
     },
     "execution_count": 42,
     "metadata": {},
     "output_type": "execute_result"
    }
   ],
   "source": [
    "# Clean the text of all reviews in the training set\n",
    "print(\"Cleaning and parsing the test set movie reviews...\\n\")\n",
    "test2['clean_review'] = test2['review'].apply(cleantext)\n",
    "\n",
    "# Create the test set with the words encoded as features of the reviews\n",
    "test_data_features = vectorizer.transform(test2['clean_review'])\n",
    "\n",
    "\n",
    "# Use the logistic regression model to make sentiment label predictions\n",
    "result = model.predict(test_data_features)\n",
    "\n",
    "# Copy the results to a pandas dataframe with an \"id\" column and a \"sentiment\" column\n",
    "output_test = pd.DataFrame( data={\"id\":test2[\"id\"],\"sentiment\":result})\n",
    "output_test.head()"
   ]
  },
  {
   "cell_type": "code",
   "execution_count": 43,
   "id": "a672bc84",
   "metadata": {},
   "outputs": [],
   "source": [
    "output_test.to_csv(\"test_result.csv\", index=False, quoting=3 )"
   ]
  }
 ],
 "metadata": {
  "kernelspec": {
   "display_name": "Python 3 (ipykernel)",
   "language": "python",
   "name": "python3"
  },
  "language_info": {
   "codemirror_mode": {
    "name": "ipython",
    "version": 3
   },
   "file_extension": ".py",
   "mimetype": "text/x-python",
   "name": "python",
   "nbconvert_exporter": "python",
   "pygments_lexer": "ipython3",
   "version": "3.9.7"
  }
 },
 "nbformat": 4,
 "nbformat_minor": 5
}
