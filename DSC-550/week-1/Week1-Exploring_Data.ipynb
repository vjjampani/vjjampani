{
 "cells": [
  {
   "cell_type": "markdown",
   "id": "78053aed",
   "metadata": {},
   "source": [
    "## Assignment: Exercise 1.2\n",
    "## Author: Venkat Jagadeesh Jampani\n",
    "## Date: August 29, 2022"
   ]
  },
  {
   "cell_type": "code",
   "execution_count": 2,
   "id": "3dc58983",
   "metadata": {},
   "outputs": [],
   "source": [
    "# Load the required libraries\n",
    "\n",
    "import numpy as np\n",
    "import pandas as pd"
   ]
  },
  {
   "cell_type": "markdown",
   "id": "780d267a",
   "metadata": {},
   "source": [
    "### 1. Load the dataset as Pandas data frame"
   ]
  },
  {
   "cell_type": "code",
   "execution_count": 5,
   "id": "29bf678a",
   "metadata": {},
   "outputs": [],
   "source": [
    "# Load video games sales ratings dataset (from kaggle) into pandas data frame\n",
    "\n",
    "df_vgs = pd.read_csv('/Users/Jagadeesh/Desktop/SAI_MS/SAI_550/week-1/Video_Games_Sales_as_at_22_Dec_2016.csv')"
   ]
  },
  {
   "cell_type": "markdown",
   "id": "8ba1d661",
   "metadata": {},
   "source": [
    "### 2. Display the First 10 rows of data"
   ]
  },
  {
   "cell_type": "code",
   "execution_count": 6,
   "id": "6e3fd855",
   "metadata": {},
   "outputs": [
    {
     "data": {
      "text/html": [
       "<div>\n",
       "<style scoped>\n",
       "    .dataframe tbody tr th:only-of-type {\n",
       "        vertical-align: middle;\n",
       "    }\n",
       "\n",
       "    .dataframe tbody tr th {\n",
       "        vertical-align: top;\n",
       "    }\n",
       "\n",
       "    .dataframe thead th {\n",
       "        text-align: right;\n",
       "    }\n",
       "</style>\n",
       "<table border=\"1\" class=\"dataframe\">\n",
       "  <thead>\n",
       "    <tr style=\"text-align: right;\">\n",
       "      <th></th>\n",
       "      <th>Name</th>\n",
       "      <th>Platform</th>\n",
       "      <th>Year_of_Release</th>\n",
       "      <th>Genre</th>\n",
       "      <th>Publisher</th>\n",
       "      <th>NA_Sales</th>\n",
       "      <th>EU_Sales</th>\n",
       "      <th>JP_Sales</th>\n",
       "      <th>Other_Sales</th>\n",
       "      <th>Global_Sales</th>\n",
       "      <th>Critic_Score</th>\n",
       "      <th>Critic_Count</th>\n",
       "      <th>User_Score</th>\n",
       "      <th>User_Count</th>\n",
       "      <th>Developer</th>\n",
       "      <th>Rating</th>\n",
       "    </tr>\n",
       "  </thead>\n",
       "  <tbody>\n",
       "    <tr>\n",
       "      <th>0</th>\n",
       "      <td>Wii Sports</td>\n",
       "      <td>Wii</td>\n",
       "      <td>2006.0</td>\n",
       "      <td>Sports</td>\n",
       "      <td>Nintendo</td>\n",
       "      <td>41.36</td>\n",
       "      <td>28.96</td>\n",
       "      <td>3.77</td>\n",
       "      <td>8.45</td>\n",
       "      <td>82.53</td>\n",
       "      <td>76.0</td>\n",
       "      <td>51.0</td>\n",
       "      <td>8</td>\n",
       "      <td>322.0</td>\n",
       "      <td>Nintendo</td>\n",
       "      <td>E</td>\n",
       "    </tr>\n",
       "    <tr>\n",
       "      <th>1</th>\n",
       "      <td>Super Mario Bros.</td>\n",
       "      <td>NES</td>\n",
       "      <td>1985.0</td>\n",
       "      <td>Platform</td>\n",
       "      <td>Nintendo</td>\n",
       "      <td>29.08</td>\n",
       "      <td>3.58</td>\n",
       "      <td>6.81</td>\n",
       "      <td>0.77</td>\n",
       "      <td>40.24</td>\n",
       "      <td>NaN</td>\n",
       "      <td>NaN</td>\n",
       "      <td>NaN</td>\n",
       "      <td>NaN</td>\n",
       "      <td>NaN</td>\n",
       "      <td>NaN</td>\n",
       "    </tr>\n",
       "    <tr>\n",
       "      <th>2</th>\n",
       "      <td>Mario Kart Wii</td>\n",
       "      <td>Wii</td>\n",
       "      <td>2008.0</td>\n",
       "      <td>Racing</td>\n",
       "      <td>Nintendo</td>\n",
       "      <td>15.68</td>\n",
       "      <td>12.76</td>\n",
       "      <td>3.79</td>\n",
       "      <td>3.29</td>\n",
       "      <td>35.52</td>\n",
       "      <td>82.0</td>\n",
       "      <td>73.0</td>\n",
       "      <td>8.3</td>\n",
       "      <td>709.0</td>\n",
       "      <td>Nintendo</td>\n",
       "      <td>E</td>\n",
       "    </tr>\n",
       "    <tr>\n",
       "      <th>3</th>\n",
       "      <td>Wii Sports Resort</td>\n",
       "      <td>Wii</td>\n",
       "      <td>2009.0</td>\n",
       "      <td>Sports</td>\n",
       "      <td>Nintendo</td>\n",
       "      <td>15.61</td>\n",
       "      <td>10.93</td>\n",
       "      <td>3.28</td>\n",
       "      <td>2.95</td>\n",
       "      <td>32.77</td>\n",
       "      <td>80.0</td>\n",
       "      <td>73.0</td>\n",
       "      <td>8</td>\n",
       "      <td>192.0</td>\n",
       "      <td>Nintendo</td>\n",
       "      <td>E</td>\n",
       "    </tr>\n",
       "    <tr>\n",
       "      <th>4</th>\n",
       "      <td>Pokemon Red/Pokemon Blue</td>\n",
       "      <td>GB</td>\n",
       "      <td>1996.0</td>\n",
       "      <td>Role-Playing</td>\n",
       "      <td>Nintendo</td>\n",
       "      <td>11.27</td>\n",
       "      <td>8.89</td>\n",
       "      <td>10.22</td>\n",
       "      <td>1.00</td>\n",
       "      <td>31.37</td>\n",
       "      <td>NaN</td>\n",
       "      <td>NaN</td>\n",
       "      <td>NaN</td>\n",
       "      <td>NaN</td>\n",
       "      <td>NaN</td>\n",
       "      <td>NaN</td>\n",
       "    </tr>\n",
       "    <tr>\n",
       "      <th>5</th>\n",
       "      <td>Tetris</td>\n",
       "      <td>GB</td>\n",
       "      <td>1989.0</td>\n",
       "      <td>Puzzle</td>\n",
       "      <td>Nintendo</td>\n",
       "      <td>23.20</td>\n",
       "      <td>2.26</td>\n",
       "      <td>4.22</td>\n",
       "      <td>0.58</td>\n",
       "      <td>30.26</td>\n",
       "      <td>NaN</td>\n",
       "      <td>NaN</td>\n",
       "      <td>NaN</td>\n",
       "      <td>NaN</td>\n",
       "      <td>NaN</td>\n",
       "      <td>NaN</td>\n",
       "    </tr>\n",
       "    <tr>\n",
       "      <th>6</th>\n",
       "      <td>New Super Mario Bros.</td>\n",
       "      <td>DS</td>\n",
       "      <td>2006.0</td>\n",
       "      <td>Platform</td>\n",
       "      <td>Nintendo</td>\n",
       "      <td>11.28</td>\n",
       "      <td>9.14</td>\n",
       "      <td>6.50</td>\n",
       "      <td>2.88</td>\n",
       "      <td>29.80</td>\n",
       "      <td>89.0</td>\n",
       "      <td>65.0</td>\n",
       "      <td>8.5</td>\n",
       "      <td>431.0</td>\n",
       "      <td>Nintendo</td>\n",
       "      <td>E</td>\n",
       "    </tr>\n",
       "    <tr>\n",
       "      <th>7</th>\n",
       "      <td>Wii Play</td>\n",
       "      <td>Wii</td>\n",
       "      <td>2006.0</td>\n",
       "      <td>Misc</td>\n",
       "      <td>Nintendo</td>\n",
       "      <td>13.96</td>\n",
       "      <td>9.18</td>\n",
       "      <td>2.93</td>\n",
       "      <td>2.84</td>\n",
       "      <td>28.92</td>\n",
       "      <td>58.0</td>\n",
       "      <td>41.0</td>\n",
       "      <td>6.6</td>\n",
       "      <td>129.0</td>\n",
       "      <td>Nintendo</td>\n",
       "      <td>E</td>\n",
       "    </tr>\n",
       "    <tr>\n",
       "      <th>8</th>\n",
       "      <td>New Super Mario Bros. Wii</td>\n",
       "      <td>Wii</td>\n",
       "      <td>2009.0</td>\n",
       "      <td>Platform</td>\n",
       "      <td>Nintendo</td>\n",
       "      <td>14.44</td>\n",
       "      <td>6.94</td>\n",
       "      <td>4.70</td>\n",
       "      <td>2.24</td>\n",
       "      <td>28.32</td>\n",
       "      <td>87.0</td>\n",
       "      <td>80.0</td>\n",
       "      <td>8.4</td>\n",
       "      <td>594.0</td>\n",
       "      <td>Nintendo</td>\n",
       "      <td>E</td>\n",
       "    </tr>\n",
       "    <tr>\n",
       "      <th>9</th>\n",
       "      <td>Duck Hunt</td>\n",
       "      <td>NES</td>\n",
       "      <td>1984.0</td>\n",
       "      <td>Shooter</td>\n",
       "      <td>Nintendo</td>\n",
       "      <td>26.93</td>\n",
       "      <td>0.63</td>\n",
       "      <td>0.28</td>\n",
       "      <td>0.47</td>\n",
       "      <td>28.31</td>\n",
       "      <td>NaN</td>\n",
       "      <td>NaN</td>\n",
       "      <td>NaN</td>\n",
       "      <td>NaN</td>\n",
       "      <td>NaN</td>\n",
       "      <td>NaN</td>\n",
       "    </tr>\n",
       "  </tbody>\n",
       "</table>\n",
       "</div>"
      ],
      "text/plain": [
       "                        Name Platform  Year_of_Release         Genre  \\\n",
       "0                 Wii Sports      Wii           2006.0        Sports   \n",
       "1          Super Mario Bros.      NES           1985.0      Platform   \n",
       "2             Mario Kart Wii      Wii           2008.0        Racing   \n",
       "3          Wii Sports Resort      Wii           2009.0        Sports   \n",
       "4   Pokemon Red/Pokemon Blue       GB           1996.0  Role-Playing   \n",
       "5                     Tetris       GB           1989.0        Puzzle   \n",
       "6      New Super Mario Bros.       DS           2006.0      Platform   \n",
       "7                   Wii Play      Wii           2006.0          Misc   \n",
       "8  New Super Mario Bros. Wii      Wii           2009.0      Platform   \n",
       "9                  Duck Hunt      NES           1984.0       Shooter   \n",
       "\n",
       "  Publisher  NA_Sales  EU_Sales  JP_Sales  Other_Sales  Global_Sales  \\\n",
       "0  Nintendo     41.36     28.96      3.77         8.45         82.53   \n",
       "1  Nintendo     29.08      3.58      6.81         0.77         40.24   \n",
       "2  Nintendo     15.68     12.76      3.79         3.29         35.52   \n",
       "3  Nintendo     15.61     10.93      3.28         2.95         32.77   \n",
       "4  Nintendo     11.27      8.89     10.22         1.00         31.37   \n",
       "5  Nintendo     23.20      2.26      4.22         0.58         30.26   \n",
       "6  Nintendo     11.28      9.14      6.50         2.88         29.80   \n",
       "7  Nintendo     13.96      9.18      2.93         2.84         28.92   \n",
       "8  Nintendo     14.44      6.94      4.70         2.24         28.32   \n",
       "9  Nintendo     26.93      0.63      0.28         0.47         28.31   \n",
       "\n",
       "   Critic_Score  Critic_Count User_Score  User_Count Developer Rating  \n",
       "0          76.0          51.0          8       322.0  Nintendo      E  \n",
       "1           NaN           NaN        NaN         NaN       NaN    NaN  \n",
       "2          82.0          73.0        8.3       709.0  Nintendo      E  \n",
       "3          80.0          73.0          8       192.0  Nintendo      E  \n",
       "4           NaN           NaN        NaN         NaN       NaN    NaN  \n",
       "5           NaN           NaN        NaN         NaN       NaN    NaN  \n",
       "6          89.0          65.0        8.5       431.0  Nintendo      E  \n",
       "7          58.0          41.0        6.6       129.0  Nintendo      E  \n",
       "8          87.0          80.0        8.4       594.0  Nintendo      E  \n",
       "9           NaN           NaN        NaN         NaN       NaN    NaN  "
      ]
     },
     "execution_count": 6,
     "metadata": {},
     "output_type": "execute_result"
    }
   ],
   "source": [
    "df_vgs.head(10)"
   ]
  },
  {
   "cell_type": "markdown",
   "id": "3901d340",
   "metadata": {},
   "source": [
    "### 3. Find the dimensions (number of rows and columns) in the data frame. What do these two numbers represent in the context of the data?"
   ]
  },
  {
   "cell_type": "code",
   "execution_count": 7,
   "id": "66bd912b",
   "metadata": {},
   "outputs": [
    {
     "data": {
      "text/plain": [
       "(16719, 16)"
      ]
     },
     "execution_count": 7,
     "metadata": {},
     "output_type": "execute_result"
    }
   ],
   "source": [
    "df_vgs.shape"
   ]
  },
  {
   "cell_type": "markdown",
   "id": "67a9cb6a",
   "metadata": {},
   "source": [
    "From the above result, 16719 represents the number of rows and 16 represent the number of columns in the dataset."
   ]
  },
  {
   "cell_type": "markdown",
   "id": "3602e1df",
   "metadata": {},
   "source": [
    "### 4. Find the top five games by critic score."
   ]
  },
  {
   "cell_type": "code",
   "execution_count": 9,
   "id": "3c79c49e",
   "metadata": {},
   "outputs": [
    {
     "data": {
      "text/html": [
       "<div>\n",
       "<style scoped>\n",
       "    .dataframe tbody tr th:only-of-type {\n",
       "        vertical-align: middle;\n",
       "    }\n",
       "\n",
       "    .dataframe tbody tr th {\n",
       "        vertical-align: top;\n",
       "    }\n",
       "\n",
       "    .dataframe thead th {\n",
       "        text-align: right;\n",
       "    }\n",
       "</style>\n",
       "<table border=\"1\" class=\"dataframe\">\n",
       "  <thead>\n",
       "    <tr style=\"text-align: right;\">\n",
       "      <th></th>\n",
       "      <th>Name</th>\n",
       "      <th>Platform</th>\n",
       "      <th>Year_of_Release</th>\n",
       "      <th>Genre</th>\n",
       "      <th>Publisher</th>\n",
       "      <th>NA_Sales</th>\n",
       "      <th>EU_Sales</th>\n",
       "      <th>JP_Sales</th>\n",
       "      <th>Other_Sales</th>\n",
       "      <th>Global_Sales</th>\n",
       "      <th>Critic_Score</th>\n",
       "      <th>Critic_Count</th>\n",
       "      <th>User_Score</th>\n",
       "      <th>User_Count</th>\n",
       "      <th>Developer</th>\n",
       "      <th>Rating</th>\n",
       "    </tr>\n",
       "  </thead>\n",
       "  <tbody>\n",
       "    <tr>\n",
       "      <th>227</th>\n",
       "      <td>Tony Hawk's Pro Skater 2</td>\n",
       "      <td>PS</td>\n",
       "      <td>2000.0</td>\n",
       "      <td>Sports</td>\n",
       "      <td>Activision</td>\n",
       "      <td>3.05</td>\n",
       "      <td>1.41</td>\n",
       "      <td>0.02</td>\n",
       "      <td>0.20</td>\n",
       "      <td>4.68</td>\n",
       "      <td>98.0</td>\n",
       "      <td>19.0</td>\n",
       "      <td>7.7</td>\n",
       "      <td>299.0</td>\n",
       "      <td>Neversoft Entertainment</td>\n",
       "      <td>T</td>\n",
       "    </tr>\n",
       "    <tr>\n",
       "      <th>57</th>\n",
       "      <td>Grand Theft Auto IV</td>\n",
       "      <td>PS3</td>\n",
       "      <td>2008.0</td>\n",
       "      <td>Action</td>\n",
       "      <td>Take-Two Interactive</td>\n",
       "      <td>4.76</td>\n",
       "      <td>3.69</td>\n",
       "      <td>0.44</td>\n",
       "      <td>1.61</td>\n",
       "      <td>10.50</td>\n",
       "      <td>98.0</td>\n",
       "      <td>64.0</td>\n",
       "      <td>7.5</td>\n",
       "      <td>2833.0</td>\n",
       "      <td>Rockstar North</td>\n",
       "      <td>M</td>\n",
       "    </tr>\n",
       "    <tr>\n",
       "      <th>51</th>\n",
       "      <td>Grand Theft Auto IV</td>\n",
       "      <td>X360</td>\n",
       "      <td>2008.0</td>\n",
       "      <td>Action</td>\n",
       "      <td>Take-Two Interactive</td>\n",
       "      <td>6.76</td>\n",
       "      <td>3.07</td>\n",
       "      <td>0.14</td>\n",
       "      <td>1.03</td>\n",
       "      <td>11.01</td>\n",
       "      <td>98.0</td>\n",
       "      <td>86.0</td>\n",
       "      <td>7.9</td>\n",
       "      <td>2951.0</td>\n",
       "      <td>Rockstar North</td>\n",
       "      <td>M</td>\n",
       "    </tr>\n",
       "    <tr>\n",
       "      <th>5350</th>\n",
       "      <td>SoulCalibur</td>\n",
       "      <td>DC</td>\n",
       "      <td>1999.0</td>\n",
       "      <td>Fighting</td>\n",
       "      <td>Namco Bandai Games</td>\n",
       "      <td>0.00</td>\n",
       "      <td>0.00</td>\n",
       "      <td>0.34</td>\n",
       "      <td>0.00</td>\n",
       "      <td>0.34</td>\n",
       "      <td>98.0</td>\n",
       "      <td>24.0</td>\n",
       "      <td>8.8</td>\n",
       "      <td>200.0</td>\n",
       "      <td>Namco</td>\n",
       "      <td>T</td>\n",
       "    </tr>\n",
       "    <tr>\n",
       "      <th>165</th>\n",
       "      <td>Grand Theft Auto V</td>\n",
       "      <td>XOne</td>\n",
       "      <td>2014.0</td>\n",
       "      <td>Action</td>\n",
       "      <td>Take-Two Interactive</td>\n",
       "      <td>2.81</td>\n",
       "      <td>2.19</td>\n",
       "      <td>0.00</td>\n",
       "      <td>0.47</td>\n",
       "      <td>5.48</td>\n",
       "      <td>97.0</td>\n",
       "      <td>14.0</td>\n",
       "      <td>7.9</td>\n",
       "      <td>764.0</td>\n",
       "      <td>Rockstar North</td>\n",
       "      <td>M</td>\n",
       "    </tr>\n",
       "  </tbody>\n",
       "</table>\n",
       "</div>"
      ],
      "text/plain": [
       "                          Name Platform  Year_of_Release     Genre  \\\n",
       "227   Tony Hawk's Pro Skater 2       PS           2000.0    Sports   \n",
       "57         Grand Theft Auto IV      PS3           2008.0    Action   \n",
       "51         Grand Theft Auto IV     X360           2008.0    Action   \n",
       "5350               SoulCalibur       DC           1999.0  Fighting   \n",
       "165         Grand Theft Auto V     XOne           2014.0    Action   \n",
       "\n",
       "                 Publisher  NA_Sales  EU_Sales  JP_Sales  Other_Sales  \\\n",
       "227             Activision      3.05      1.41      0.02         0.20   \n",
       "57    Take-Two Interactive      4.76      3.69      0.44         1.61   \n",
       "51    Take-Two Interactive      6.76      3.07      0.14         1.03   \n",
       "5350    Namco Bandai Games      0.00      0.00      0.34         0.00   \n",
       "165   Take-Two Interactive      2.81      2.19      0.00         0.47   \n",
       "\n",
       "      Global_Sales  Critic_Score  Critic_Count User_Score  User_Count  \\\n",
       "227           4.68          98.0          19.0        7.7       299.0   \n",
       "57           10.50          98.0          64.0        7.5      2833.0   \n",
       "51           11.01          98.0          86.0        7.9      2951.0   \n",
       "5350          0.34          98.0          24.0        8.8       200.0   \n",
       "165           5.48          97.0          14.0        7.9       764.0   \n",
       "\n",
       "                    Developer Rating  \n",
       "227   Neversoft Entertainment      T  \n",
       "57             Rockstar North      M  \n",
       "51             Rockstar North      M  \n",
       "5350                    Namco      T  \n",
       "165            Rockstar North      M  "
      ]
     },
     "execution_count": 9,
     "metadata": {},
     "output_type": "execute_result"
    }
   ],
   "source": [
    "# Sort data by high critic score and display top 5 \n",
    "\n",
    "df_vgs.sort_values('Critic_Score', ascending = False).head(5)"
   ]
  },
  {
   "cell_type": "markdown",
   "id": "56cd83bb",
   "metadata": {},
   "source": [
    "### 5. Find the number of video games in the data frame in each genre."
   ]
  },
  {
   "cell_type": "code",
   "execution_count": 10,
   "id": "7987263c",
   "metadata": {},
   "outputs": [
    {
     "data": {
      "text/plain": [
       "Action          3370\n",
       "Sports          2348\n",
       "Misc            1750\n",
       "Role-Playing    1500\n",
       "Shooter         1323\n",
       "Adventure       1303\n",
       "Racing          1249\n",
       "Platform         888\n",
       "Simulation       874\n",
       "Fighting         849\n",
       "Strategy         683\n",
       "Puzzle           580\n",
       "Name: Genre, dtype: int64"
      ]
     },
     "execution_count": 10,
     "metadata": {},
     "output_type": "execute_result"
    }
   ],
   "source": [
    "df_vgs.Genre.value_counts()"
   ]
  },
  {
   "cell_type": "markdown",
   "id": "5eef9e56",
   "metadata": {},
   "source": [
    "### 6. Find the first five games in the data frame on the SNES platform."
   ]
  },
  {
   "cell_type": "code",
   "execution_count": 11,
   "id": "7f7db13d",
   "metadata": {},
   "outputs": [
    {
     "data": {
      "text/html": [
       "<div>\n",
       "<style scoped>\n",
       "    .dataframe tbody tr th:only-of-type {\n",
       "        vertical-align: middle;\n",
       "    }\n",
       "\n",
       "    .dataframe tbody tr th {\n",
       "        vertical-align: top;\n",
       "    }\n",
       "\n",
       "    .dataframe thead th {\n",
       "        text-align: right;\n",
       "    }\n",
       "</style>\n",
       "<table border=\"1\" class=\"dataframe\">\n",
       "  <thead>\n",
       "    <tr style=\"text-align: right;\">\n",
       "      <th></th>\n",
       "      <th>Name</th>\n",
       "      <th>Platform</th>\n",
       "      <th>Year_of_Release</th>\n",
       "      <th>Genre</th>\n",
       "      <th>Publisher</th>\n",
       "      <th>NA_Sales</th>\n",
       "      <th>EU_Sales</th>\n",
       "      <th>JP_Sales</th>\n",
       "      <th>Other_Sales</th>\n",
       "      <th>Global_Sales</th>\n",
       "      <th>Critic_Score</th>\n",
       "      <th>Critic_Count</th>\n",
       "      <th>User_Score</th>\n",
       "      <th>User_Count</th>\n",
       "      <th>Developer</th>\n",
       "      <th>Rating</th>\n",
       "    </tr>\n",
       "  </thead>\n",
       "  <tbody>\n",
       "    <tr>\n",
       "      <th>18</th>\n",
       "      <td>Super Mario World</td>\n",
       "      <td>SNES</td>\n",
       "      <td>1990.0</td>\n",
       "      <td>Platform</td>\n",
       "      <td>Nintendo</td>\n",
       "      <td>12.78</td>\n",
       "      <td>3.75</td>\n",
       "      <td>3.54</td>\n",
       "      <td>0.55</td>\n",
       "      <td>20.61</td>\n",
       "      <td>NaN</td>\n",
       "      <td>NaN</td>\n",
       "      <td>NaN</td>\n",
       "      <td>NaN</td>\n",
       "      <td>NaN</td>\n",
       "      <td>NaN</td>\n",
       "    </tr>\n",
       "    <tr>\n",
       "      <th>56</th>\n",
       "      <td>Super Mario All-Stars</td>\n",
       "      <td>SNES</td>\n",
       "      <td>1993.0</td>\n",
       "      <td>Platform</td>\n",
       "      <td>Nintendo</td>\n",
       "      <td>5.99</td>\n",
       "      <td>2.15</td>\n",
       "      <td>2.12</td>\n",
       "      <td>0.29</td>\n",
       "      <td>10.55</td>\n",
       "      <td>NaN</td>\n",
       "      <td>NaN</td>\n",
       "      <td>NaN</td>\n",
       "      <td>NaN</td>\n",
       "      <td>NaN</td>\n",
       "      <td>NaN</td>\n",
       "    </tr>\n",
       "    <tr>\n",
       "      <th>71</th>\n",
       "      <td>Donkey Kong Country</td>\n",
       "      <td>SNES</td>\n",
       "      <td>1994.0</td>\n",
       "      <td>Platform</td>\n",
       "      <td>Nintendo</td>\n",
       "      <td>4.36</td>\n",
       "      <td>1.71</td>\n",
       "      <td>3.00</td>\n",
       "      <td>0.23</td>\n",
       "      <td>9.30</td>\n",
       "      <td>NaN</td>\n",
       "      <td>NaN</td>\n",
       "      <td>NaN</td>\n",
       "      <td>NaN</td>\n",
       "      <td>NaN</td>\n",
       "      <td>NaN</td>\n",
       "    </tr>\n",
       "    <tr>\n",
       "      <th>76</th>\n",
       "      <td>Super Mario Kart</td>\n",
       "      <td>SNES</td>\n",
       "      <td>1992.0</td>\n",
       "      <td>Racing</td>\n",
       "      <td>Nintendo</td>\n",
       "      <td>3.54</td>\n",
       "      <td>1.24</td>\n",
       "      <td>3.81</td>\n",
       "      <td>0.18</td>\n",
       "      <td>8.76</td>\n",
       "      <td>NaN</td>\n",
       "      <td>NaN</td>\n",
       "      <td>NaN</td>\n",
       "      <td>NaN</td>\n",
       "      <td>NaN</td>\n",
       "      <td>NaN</td>\n",
       "    </tr>\n",
       "    <tr>\n",
       "      <th>137</th>\n",
       "      <td>Street Fighter II: The World Warrior</td>\n",
       "      <td>SNES</td>\n",
       "      <td>1992.0</td>\n",
       "      <td>Fighting</td>\n",
       "      <td>Capcom</td>\n",
       "      <td>2.47</td>\n",
       "      <td>0.83</td>\n",
       "      <td>2.87</td>\n",
       "      <td>0.12</td>\n",
       "      <td>6.30</td>\n",
       "      <td>NaN</td>\n",
       "      <td>NaN</td>\n",
       "      <td>NaN</td>\n",
       "      <td>NaN</td>\n",
       "      <td>NaN</td>\n",
       "      <td>NaN</td>\n",
       "    </tr>\n",
       "  </tbody>\n",
       "</table>\n",
       "</div>"
      ],
      "text/plain": [
       "                                     Name Platform  Year_of_Release     Genre  \\\n",
       "18                      Super Mario World     SNES           1990.0  Platform   \n",
       "56                  Super Mario All-Stars     SNES           1993.0  Platform   \n",
       "71                    Donkey Kong Country     SNES           1994.0  Platform   \n",
       "76                       Super Mario Kart     SNES           1992.0    Racing   \n",
       "137  Street Fighter II: The World Warrior     SNES           1992.0  Fighting   \n",
       "\n",
       "    Publisher  NA_Sales  EU_Sales  JP_Sales  Other_Sales  Global_Sales  \\\n",
       "18   Nintendo     12.78      3.75      3.54         0.55         20.61   \n",
       "56   Nintendo      5.99      2.15      2.12         0.29         10.55   \n",
       "71   Nintendo      4.36      1.71      3.00         0.23          9.30   \n",
       "76   Nintendo      3.54      1.24      3.81         0.18          8.76   \n",
       "137    Capcom      2.47      0.83      2.87         0.12          6.30   \n",
       "\n",
       "     Critic_Score  Critic_Count User_Score  User_Count Developer Rating  \n",
       "18            NaN           NaN        NaN         NaN       NaN    NaN  \n",
       "56            NaN           NaN        NaN         NaN       NaN    NaN  \n",
       "71            NaN           NaN        NaN         NaN       NaN    NaN  \n",
       "76            NaN           NaN        NaN         NaN       NaN    NaN  \n",
       "137           NaN           NaN        NaN         NaN       NaN    NaN  "
      ]
     },
     "execution_count": 11,
     "metadata": {},
     "output_type": "execute_result"
    }
   ],
   "source": [
    "df_vgs.loc[df['Platform'] == \"SNES\"].head(5)"
   ]
  },
  {
   "cell_type": "markdown",
   "id": "d796adcf",
   "metadata": {},
   "source": [
    "### 7. Find the five publishers with the highest total global sales. Note: You will need to calculate the total global sales for each publisher to do this."
   ]
  },
  {
   "cell_type": "code",
   "execution_count": 14,
   "id": "38fa7a74",
   "metadata": {},
   "outputs": [
    {
     "data": {
      "text/plain": [
       "Publisher\n",
       "10TACLE Studios                  0.11\n",
       "1C Company                       0.10\n",
       "20th Century Fox Video Games     1.94\n",
       "2D Boy                           0.04\n",
       "3DO                             10.12\n",
       "                                ...  \n",
       "id Software                      0.03\n",
       "imageepoch Inc.                  0.04\n",
       "inXile Entertainment             0.10\n",
       "mixi, Inc                        0.87\n",
       "responDESIGN                     0.13\n",
       "Name: Global_Sales, Length: 581, dtype: float64"
      ]
     },
     "execution_count": 14,
     "metadata": {},
     "output_type": "execute_result"
    }
   ],
   "source": [
    "# Group by Publisher, creating a publisher group df\n",
    "pub_grp_df = df_vgs.groupby([\"Publisher\"])\n",
    "pub_grp_df\n",
    "\n",
    "# Total Global Sales by Publisher(sum of sales per publisher)\n",
    "total_global_sales_df = pub_grp_df.Global_Sales.sum()\n",
    "\n",
    "total_global_sales_df\n",
    "\n"
   ]
  },
  {
   "cell_type": "code",
   "execution_count": 15,
   "id": "6e2619f6",
   "metadata": {},
   "outputs": [
    {
     "data": {
      "text/plain": [
       "Publisher\n",
       "Nintendo                       1788.81\n",
       "Electronic Arts                1116.96\n",
       "Activision                      731.16\n",
       "Sony Computer Entertainment     606.48\n",
       "Ubisoft                         471.61\n",
       "Name: Global_Sales, dtype: float64"
      ]
     },
     "execution_count": 15,
     "metadata": {},
     "output_type": "execute_result"
    }
   ],
   "source": [
    "# Top 5 publishers with highest global sales\n",
    "total_global_sales_df.sort_values(ascending = False).head(5)"
   ]
  },
  {
   "cell_type": "markdown",
   "id": "fc7c1724",
   "metadata": {},
   "source": [
    "### 8. Create a new column in the data frame that calculates the percentage of global sales from North America. Display the first five rows of the new data frame."
   ]
  },
  {
   "cell_type": "code",
   "execution_count": 16,
   "id": "2f6275c9",
   "metadata": {},
   "outputs": [
    {
     "data": {
      "text/html": [
       "<div>\n",
       "<style scoped>\n",
       "    .dataframe tbody tr th:only-of-type {\n",
       "        vertical-align: middle;\n",
       "    }\n",
       "\n",
       "    .dataframe tbody tr th {\n",
       "        vertical-align: top;\n",
       "    }\n",
       "\n",
       "    .dataframe thead th {\n",
       "        text-align: right;\n",
       "    }\n",
       "</style>\n",
       "<table border=\"1\" class=\"dataframe\">\n",
       "  <thead>\n",
       "    <tr style=\"text-align: right;\">\n",
       "      <th></th>\n",
       "      <th>Name</th>\n",
       "      <th>Platform</th>\n",
       "      <th>Year_of_Release</th>\n",
       "      <th>Genre</th>\n",
       "      <th>Publisher</th>\n",
       "      <th>NA_Sales</th>\n",
       "      <th>EU_Sales</th>\n",
       "      <th>JP_Sales</th>\n",
       "      <th>Other_Sales</th>\n",
       "      <th>Global_Sales</th>\n",
       "      <th>Critic_Score</th>\n",
       "      <th>Critic_Count</th>\n",
       "      <th>User_Score</th>\n",
       "      <th>User_Count</th>\n",
       "      <th>Developer</th>\n",
       "      <th>Rating</th>\n",
       "      <th>NA_Sales_Percent</th>\n",
       "    </tr>\n",
       "  </thead>\n",
       "  <tbody>\n",
       "    <tr>\n",
       "      <th>0</th>\n",
       "      <td>Wii Sports</td>\n",
       "      <td>Wii</td>\n",
       "      <td>2006.0</td>\n",
       "      <td>Sports</td>\n",
       "      <td>Nintendo</td>\n",
       "      <td>41.36</td>\n",
       "      <td>28.96</td>\n",
       "      <td>3.77</td>\n",
       "      <td>8.45</td>\n",
       "      <td>82.53</td>\n",
       "      <td>76.0</td>\n",
       "      <td>51.0</td>\n",
       "      <td>8</td>\n",
       "      <td>322.0</td>\n",
       "      <td>Nintendo</td>\n",
       "      <td>E</td>\n",
       "      <td>50.115110</td>\n",
       "    </tr>\n",
       "    <tr>\n",
       "      <th>1</th>\n",
       "      <td>Super Mario Bros.</td>\n",
       "      <td>NES</td>\n",
       "      <td>1985.0</td>\n",
       "      <td>Platform</td>\n",
       "      <td>Nintendo</td>\n",
       "      <td>29.08</td>\n",
       "      <td>3.58</td>\n",
       "      <td>6.81</td>\n",
       "      <td>0.77</td>\n",
       "      <td>40.24</td>\n",
       "      <td>NaN</td>\n",
       "      <td>NaN</td>\n",
       "      <td>NaN</td>\n",
       "      <td>NaN</td>\n",
       "      <td>NaN</td>\n",
       "      <td>NaN</td>\n",
       "      <td>72.266402</td>\n",
       "    </tr>\n",
       "    <tr>\n",
       "      <th>2</th>\n",
       "      <td>Mario Kart Wii</td>\n",
       "      <td>Wii</td>\n",
       "      <td>2008.0</td>\n",
       "      <td>Racing</td>\n",
       "      <td>Nintendo</td>\n",
       "      <td>15.68</td>\n",
       "      <td>12.76</td>\n",
       "      <td>3.79</td>\n",
       "      <td>3.29</td>\n",
       "      <td>35.52</td>\n",
       "      <td>82.0</td>\n",
       "      <td>73.0</td>\n",
       "      <td>8.3</td>\n",
       "      <td>709.0</td>\n",
       "      <td>Nintendo</td>\n",
       "      <td>E</td>\n",
       "      <td>44.144144</td>\n",
       "    </tr>\n",
       "    <tr>\n",
       "      <th>3</th>\n",
       "      <td>Wii Sports Resort</td>\n",
       "      <td>Wii</td>\n",
       "      <td>2009.0</td>\n",
       "      <td>Sports</td>\n",
       "      <td>Nintendo</td>\n",
       "      <td>15.61</td>\n",
       "      <td>10.93</td>\n",
       "      <td>3.28</td>\n",
       "      <td>2.95</td>\n",
       "      <td>32.77</td>\n",
       "      <td>80.0</td>\n",
       "      <td>73.0</td>\n",
       "      <td>8</td>\n",
       "      <td>192.0</td>\n",
       "      <td>Nintendo</td>\n",
       "      <td>E</td>\n",
       "      <td>47.635032</td>\n",
       "    </tr>\n",
       "    <tr>\n",
       "      <th>4</th>\n",
       "      <td>Pokemon Red/Pokemon Blue</td>\n",
       "      <td>GB</td>\n",
       "      <td>1996.0</td>\n",
       "      <td>Role-Playing</td>\n",
       "      <td>Nintendo</td>\n",
       "      <td>11.27</td>\n",
       "      <td>8.89</td>\n",
       "      <td>10.22</td>\n",
       "      <td>1.00</td>\n",
       "      <td>31.37</td>\n",
       "      <td>NaN</td>\n",
       "      <td>NaN</td>\n",
       "      <td>NaN</td>\n",
       "      <td>NaN</td>\n",
       "      <td>NaN</td>\n",
       "      <td>NaN</td>\n",
       "      <td>35.926044</td>\n",
       "    </tr>\n",
       "  </tbody>\n",
       "</table>\n",
       "</div>"
      ],
      "text/plain": [
       "                       Name Platform  Year_of_Release         Genre Publisher  \\\n",
       "0                Wii Sports      Wii           2006.0        Sports  Nintendo   \n",
       "1         Super Mario Bros.      NES           1985.0      Platform  Nintendo   \n",
       "2            Mario Kart Wii      Wii           2008.0        Racing  Nintendo   \n",
       "3         Wii Sports Resort      Wii           2009.0        Sports  Nintendo   \n",
       "4  Pokemon Red/Pokemon Blue       GB           1996.0  Role-Playing  Nintendo   \n",
       "\n",
       "   NA_Sales  EU_Sales  JP_Sales  Other_Sales  Global_Sales  Critic_Score  \\\n",
       "0     41.36     28.96      3.77         8.45         82.53          76.0   \n",
       "1     29.08      3.58      6.81         0.77         40.24           NaN   \n",
       "2     15.68     12.76      3.79         3.29         35.52          82.0   \n",
       "3     15.61     10.93      3.28         2.95         32.77          80.0   \n",
       "4     11.27      8.89     10.22         1.00         31.37           NaN   \n",
       "\n",
       "   Critic_Count User_Score  User_Count Developer Rating  NA_Sales_Percent  \n",
       "0          51.0          8       322.0  Nintendo      E         50.115110  \n",
       "1           NaN        NaN         NaN       NaN    NaN         72.266402  \n",
       "2          73.0        8.3       709.0  Nintendo      E         44.144144  \n",
       "3          73.0          8       192.0  Nintendo      E         47.635032  \n",
       "4           NaN        NaN         NaN       NaN    NaN         35.926044  "
      ]
     },
     "execution_count": 16,
     "metadata": {},
     "output_type": "execute_result"
    }
   ],
   "source": [
    "# Create a new column in the current data frame 'NA_Sales_Percent' representing the North America's Sales as percentage of global sales\n",
    "df_vgs['NA_Sales_Percent']=(df_vgs['NA_Sales'] / \n",
    "                  df_vgs['Global_Sales']) * 100\n",
    "df_vgs.head(5)"
   ]
  },
  {
   "cell_type": "markdown",
   "id": "e8acc2a5",
   "metadata": {},
   "source": [
    "### 9. Find the number NaN entries (missing data values) in each column."
   ]
  },
  {
   "cell_type": "code",
   "execution_count": 17,
   "id": "3117334b",
   "metadata": {},
   "outputs": [
    {
     "data": {
      "text/plain": [
       "Name                   2\n",
       "Platform               0\n",
       "Year_of_Release      269\n",
       "Genre                  2\n",
       "Publisher             54\n",
       "NA_Sales               0\n",
       "EU_Sales               0\n",
       "JP_Sales               0\n",
       "Other_Sales            0\n",
       "Global_Sales           0\n",
       "Critic_Score        8582\n",
       "Critic_Count        8582\n",
       "User_Score          6704\n",
       "User_Count          9129\n",
       "Developer           6623\n",
       "Rating              6769\n",
       "NA_Sales_Percent       0\n",
       "dtype: int64"
      ]
     },
     "execution_count": 17,
     "metadata": {},
     "output_type": "execute_result"
    }
   ],
   "source": [
    "df_vgs.isnull().sum()"
   ]
  },
  {
   "cell_type": "markdown",
   "id": "9f601462",
   "metadata": {},
   "source": [
    "### 10. Try to calculate the median user score of all the video games. You will likely run into an error because some of the user score entries are a non-numerical string that cannot be converted to a float. Find and replace this string with NaN and then calculate the median. Then, replace all NaN entries in the user score column with the median value."
   ]
  },
  {
   "cell_type": "code",
   "execution_count": 19,
   "id": "ee68b5ab",
   "metadata": {},
   "outputs": [
    {
     "data": {
      "text/plain": [
       "dtype('O')"
      ]
     },
     "execution_count": 19,
     "metadata": {},
     "output_type": "execute_result"
    }
   ],
   "source": [
    "#data type of 'User_Score'\n",
    "df_vgs.dtypes['User_Score']"
   ]
  },
  {
   "cell_type": "code",
   "execution_count": 20,
   "id": "bfca43f3",
   "metadata": {},
   "outputs": [
    {
     "ename": "TypeError",
     "evalue": "could not convert string to float: 'tbd'",
     "output_type": "error",
     "traceback": [
      "\u001b[1;31m---------------------------------------------------------------------------\u001b[0m",
      "\u001b[1;31mValueError\u001b[0m                                Traceback (most recent call last)",
      "\u001b[1;32mC:\\ProgramData\\Anaconda3\\lib\\site-packages\\pandas\\core\\nanops.py\u001b[0m in \u001b[0;36mnanmedian\u001b[1;34m(values, axis, skipna, mask)\u001b[0m\n\u001b[0;32m    718\u001b[0m         \u001b[1;32mtry\u001b[0m\u001b[1;33m:\u001b[0m\u001b[1;33m\u001b[0m\u001b[1;33m\u001b[0m\u001b[0m\n\u001b[1;32m--> 719\u001b[1;33m             \u001b[0mvalues\u001b[0m \u001b[1;33m=\u001b[0m \u001b[0mvalues\u001b[0m\u001b[1;33m.\u001b[0m\u001b[0mastype\u001b[0m\u001b[1;33m(\u001b[0m\u001b[1;34m\"f8\"\u001b[0m\u001b[1;33m)\u001b[0m\u001b[1;33m\u001b[0m\u001b[1;33m\u001b[0m\u001b[0m\n\u001b[0m\u001b[0;32m    720\u001b[0m         \u001b[1;32mexcept\u001b[0m \u001b[0mValueError\u001b[0m \u001b[1;32mas\u001b[0m \u001b[0merr\u001b[0m\u001b[1;33m:\u001b[0m\u001b[1;33m\u001b[0m\u001b[1;33m\u001b[0m\u001b[0m\n",
      "\u001b[1;31mValueError\u001b[0m: could not convert string to float: 'tbd'",
      "\nThe above exception was the direct cause of the following exception:\n",
      "\u001b[1;31mTypeError\u001b[0m                                 Traceback (most recent call last)",
      "\u001b[1;32mC:\\Users\\JAGADE~1\\AppData\\Local\\Temp/ipykernel_10596/3625620651.py\u001b[0m in \u001b[0;36m<module>\u001b[1;34m\u001b[0m\n\u001b[0;32m      1\u001b[0m \u001b[1;31m# Calculate median User Score\u001b[0m\u001b[1;33m\u001b[0m\u001b[1;33m\u001b[0m\u001b[0m\n\u001b[1;32m----> 2\u001b[1;33m \u001b[0mmedian_us\u001b[0m \u001b[1;33m=\u001b[0m \u001b[0mdf_vgs\u001b[0m\u001b[1;33m[\u001b[0m\u001b[1;34m'User_Score'\u001b[0m\u001b[1;33m]\u001b[0m\u001b[1;33m.\u001b[0m\u001b[0mmedian\u001b[0m\u001b[1;33m(\u001b[0m\u001b[1;33m)\u001b[0m\u001b[1;33m\u001b[0m\u001b[1;33m\u001b[0m\u001b[0m\n\u001b[0m\u001b[0;32m      3\u001b[0m \u001b[0mmedian_us\u001b[0m\u001b[1;33m\u001b[0m\u001b[1;33m\u001b[0m\u001b[0m\n",
      "\u001b[1;32mC:\\ProgramData\\Anaconda3\\lib\\site-packages\\pandas\\core\\generic.py\u001b[0m in \u001b[0;36mmedian\u001b[1;34m(self, axis, skipna, level, numeric_only, **kwargs)\u001b[0m\n\u001b[0;32m  10800\u001b[0m             \u001b[0mself\u001b[0m\u001b[1;33m,\u001b[0m \u001b[0maxis\u001b[0m\u001b[1;33m=\u001b[0m\u001b[1;32mNone\u001b[0m\u001b[1;33m,\u001b[0m \u001b[0mskipna\u001b[0m\u001b[1;33m=\u001b[0m\u001b[1;32mNone\u001b[0m\u001b[1;33m,\u001b[0m \u001b[0mlevel\u001b[0m\u001b[1;33m=\u001b[0m\u001b[1;32mNone\u001b[0m\u001b[1;33m,\u001b[0m \u001b[0mnumeric_only\u001b[0m\u001b[1;33m=\u001b[0m\u001b[1;32mNone\u001b[0m\u001b[1;33m,\u001b[0m \u001b[1;33m**\u001b[0m\u001b[0mkwargs\u001b[0m\u001b[1;33m\u001b[0m\u001b[1;33m\u001b[0m\u001b[0m\n\u001b[0;32m  10801\u001b[0m         ):\n\u001b[1;32m> 10802\u001b[1;33m             \u001b[1;32mreturn\u001b[0m \u001b[0mNDFrame\u001b[0m\u001b[1;33m.\u001b[0m\u001b[0mmedian\u001b[0m\u001b[1;33m(\u001b[0m\u001b[0mself\u001b[0m\u001b[1;33m,\u001b[0m \u001b[0maxis\u001b[0m\u001b[1;33m,\u001b[0m \u001b[0mskipna\u001b[0m\u001b[1;33m,\u001b[0m \u001b[0mlevel\u001b[0m\u001b[1;33m,\u001b[0m \u001b[0mnumeric_only\u001b[0m\u001b[1;33m,\u001b[0m \u001b[1;33m**\u001b[0m\u001b[0mkwargs\u001b[0m\u001b[1;33m)\u001b[0m\u001b[1;33m\u001b[0m\u001b[1;33m\u001b[0m\u001b[0m\n\u001b[0m\u001b[0;32m  10803\u001b[0m \u001b[1;33m\u001b[0m\u001b[0m\n\u001b[0;32m  10804\u001b[0m         \u001b[0msetattr\u001b[0m\u001b[1;33m(\u001b[0m\u001b[0mcls\u001b[0m\u001b[1;33m,\u001b[0m \u001b[1;34m\"median\"\u001b[0m\u001b[1;33m,\u001b[0m \u001b[0mmedian\u001b[0m\u001b[1;33m)\u001b[0m\u001b[1;33m\u001b[0m\u001b[1;33m\u001b[0m\u001b[0m\n",
      "\u001b[1;32mC:\\ProgramData\\Anaconda3\\lib\\site-packages\\pandas\\core\\generic.py\u001b[0m in \u001b[0;36mmedian\u001b[1;34m(self, axis, skipna, level, numeric_only, **kwargs)\u001b[0m\n\u001b[0;32m  10372\u001b[0m \u001b[1;33m\u001b[0m\u001b[0m\n\u001b[0;32m  10373\u001b[0m     \u001b[1;32mdef\u001b[0m \u001b[0mmedian\u001b[0m\u001b[1;33m(\u001b[0m\u001b[0mself\u001b[0m\u001b[1;33m,\u001b[0m \u001b[0maxis\u001b[0m\u001b[1;33m=\u001b[0m\u001b[1;32mNone\u001b[0m\u001b[1;33m,\u001b[0m \u001b[0mskipna\u001b[0m\u001b[1;33m=\u001b[0m\u001b[1;32mNone\u001b[0m\u001b[1;33m,\u001b[0m \u001b[0mlevel\u001b[0m\u001b[1;33m=\u001b[0m\u001b[1;32mNone\u001b[0m\u001b[1;33m,\u001b[0m \u001b[0mnumeric_only\u001b[0m\u001b[1;33m=\u001b[0m\u001b[1;32mNone\u001b[0m\u001b[1;33m,\u001b[0m \u001b[1;33m**\u001b[0m\u001b[0mkwargs\u001b[0m\u001b[1;33m)\u001b[0m\u001b[1;33m:\u001b[0m\u001b[1;33m\u001b[0m\u001b[1;33m\u001b[0m\u001b[0m\n\u001b[1;32m> 10374\u001b[1;33m         return self._stat_function(\n\u001b[0m\u001b[0;32m  10375\u001b[0m             \u001b[1;34m\"median\"\u001b[0m\u001b[1;33m,\u001b[0m \u001b[0mnanops\u001b[0m\u001b[1;33m.\u001b[0m\u001b[0mnanmedian\u001b[0m\u001b[1;33m,\u001b[0m \u001b[0maxis\u001b[0m\u001b[1;33m,\u001b[0m \u001b[0mskipna\u001b[0m\u001b[1;33m,\u001b[0m \u001b[0mlevel\u001b[0m\u001b[1;33m,\u001b[0m \u001b[0mnumeric_only\u001b[0m\u001b[1;33m,\u001b[0m \u001b[1;33m**\u001b[0m\u001b[0mkwargs\u001b[0m\u001b[1;33m\u001b[0m\u001b[1;33m\u001b[0m\u001b[0m\n\u001b[0;32m  10376\u001b[0m         )\n",
      "\u001b[1;32mC:\\ProgramData\\Anaconda3\\lib\\site-packages\\pandas\\core\\generic.py\u001b[0m in \u001b[0;36m_stat_function\u001b[1;34m(self, name, func, axis, skipna, level, numeric_only, **kwargs)\u001b[0m\n\u001b[0;32m  10352\u001b[0m                 \u001b[0mname\u001b[0m\u001b[1;33m,\u001b[0m \u001b[0maxis\u001b[0m\u001b[1;33m=\u001b[0m\u001b[0maxis\u001b[0m\u001b[1;33m,\u001b[0m \u001b[0mlevel\u001b[0m\u001b[1;33m=\u001b[0m\u001b[0mlevel\u001b[0m\u001b[1;33m,\u001b[0m \u001b[0mskipna\u001b[0m\u001b[1;33m=\u001b[0m\u001b[0mskipna\u001b[0m\u001b[1;33m,\u001b[0m \u001b[0mnumeric_only\u001b[0m\u001b[1;33m=\u001b[0m\u001b[0mnumeric_only\u001b[0m\u001b[1;33m\u001b[0m\u001b[1;33m\u001b[0m\u001b[0m\n\u001b[0;32m  10353\u001b[0m             )\n\u001b[1;32m> 10354\u001b[1;33m         return self._reduce(\n\u001b[0m\u001b[0;32m  10355\u001b[0m             \u001b[0mfunc\u001b[0m\u001b[1;33m,\u001b[0m \u001b[0mname\u001b[0m\u001b[1;33m=\u001b[0m\u001b[0mname\u001b[0m\u001b[1;33m,\u001b[0m \u001b[0maxis\u001b[0m\u001b[1;33m=\u001b[0m\u001b[0maxis\u001b[0m\u001b[1;33m,\u001b[0m \u001b[0mskipna\u001b[0m\u001b[1;33m=\u001b[0m\u001b[0mskipna\u001b[0m\u001b[1;33m,\u001b[0m \u001b[0mnumeric_only\u001b[0m\u001b[1;33m=\u001b[0m\u001b[0mnumeric_only\u001b[0m\u001b[1;33m\u001b[0m\u001b[1;33m\u001b[0m\u001b[0m\n\u001b[0;32m  10356\u001b[0m         )\n",
      "\u001b[1;32mC:\\ProgramData\\Anaconda3\\lib\\site-packages\\pandas\\core\\series.py\u001b[0m in \u001b[0;36m_reduce\u001b[1;34m(self, op, name, axis, skipna, numeric_only, filter_type, **kwds)\u001b[0m\n\u001b[0;32m   4390\u001b[0m                 )\n\u001b[0;32m   4391\u001b[0m             \u001b[1;32mwith\u001b[0m \u001b[0mnp\u001b[0m\u001b[1;33m.\u001b[0m\u001b[0merrstate\u001b[0m\u001b[1;33m(\u001b[0m\u001b[0mall\u001b[0m\u001b[1;33m=\u001b[0m\u001b[1;34m\"ignore\"\u001b[0m\u001b[1;33m)\u001b[0m\u001b[1;33m:\u001b[0m\u001b[1;33m\u001b[0m\u001b[1;33m\u001b[0m\u001b[0m\n\u001b[1;32m-> 4392\u001b[1;33m                 \u001b[1;32mreturn\u001b[0m \u001b[0mop\u001b[0m\u001b[1;33m(\u001b[0m\u001b[0mdelegate\u001b[0m\u001b[1;33m,\u001b[0m \u001b[0mskipna\u001b[0m\u001b[1;33m=\u001b[0m\u001b[0mskipna\u001b[0m\u001b[1;33m,\u001b[0m \u001b[1;33m**\u001b[0m\u001b[0mkwds\u001b[0m\u001b[1;33m)\u001b[0m\u001b[1;33m\u001b[0m\u001b[1;33m\u001b[0m\u001b[0m\n\u001b[0m\u001b[0;32m   4393\u001b[0m \u001b[1;33m\u001b[0m\u001b[0m\n\u001b[0;32m   4394\u001b[0m     def _reindex_indexer(\n",
      "\u001b[1;32mC:\\ProgramData\\Anaconda3\\lib\\site-packages\\pandas\\core\\nanops.py\u001b[0m in \u001b[0;36mf\u001b[1;34m(values, axis, skipna, **kwds)\u001b[0m\n\u001b[0;32m    153\u001b[0m                     \u001b[0mresult\u001b[0m \u001b[1;33m=\u001b[0m \u001b[0malt\u001b[0m\u001b[1;33m(\u001b[0m\u001b[0mvalues\u001b[0m\u001b[1;33m,\u001b[0m \u001b[0maxis\u001b[0m\u001b[1;33m=\u001b[0m\u001b[0maxis\u001b[0m\u001b[1;33m,\u001b[0m \u001b[0mskipna\u001b[0m\u001b[1;33m=\u001b[0m\u001b[0mskipna\u001b[0m\u001b[1;33m,\u001b[0m \u001b[1;33m**\u001b[0m\u001b[0mkwds\u001b[0m\u001b[1;33m)\u001b[0m\u001b[1;33m\u001b[0m\u001b[1;33m\u001b[0m\u001b[0m\n\u001b[0;32m    154\u001b[0m             \u001b[1;32melse\u001b[0m\u001b[1;33m:\u001b[0m\u001b[1;33m\u001b[0m\u001b[1;33m\u001b[0m\u001b[0m\n\u001b[1;32m--> 155\u001b[1;33m                 \u001b[0mresult\u001b[0m \u001b[1;33m=\u001b[0m \u001b[0malt\u001b[0m\u001b[1;33m(\u001b[0m\u001b[0mvalues\u001b[0m\u001b[1;33m,\u001b[0m \u001b[0maxis\u001b[0m\u001b[1;33m=\u001b[0m\u001b[0maxis\u001b[0m\u001b[1;33m,\u001b[0m \u001b[0mskipna\u001b[0m\u001b[1;33m=\u001b[0m\u001b[0mskipna\u001b[0m\u001b[1;33m,\u001b[0m \u001b[1;33m**\u001b[0m\u001b[0mkwds\u001b[0m\u001b[1;33m)\u001b[0m\u001b[1;33m\u001b[0m\u001b[1;33m\u001b[0m\u001b[0m\n\u001b[0m\u001b[0;32m    156\u001b[0m \u001b[1;33m\u001b[0m\u001b[0m\n\u001b[0;32m    157\u001b[0m             \u001b[1;32mreturn\u001b[0m \u001b[0mresult\u001b[0m\u001b[1;33m\u001b[0m\u001b[1;33m\u001b[0m\u001b[0m\n",
      "\u001b[1;32mC:\\ProgramData\\Anaconda3\\lib\\site-packages\\pandas\\core\\nanops.py\u001b[0m in \u001b[0;36mnanmedian\u001b[1;34m(values, axis, skipna, mask)\u001b[0m\n\u001b[0;32m    720\u001b[0m         \u001b[1;32mexcept\u001b[0m \u001b[0mValueError\u001b[0m \u001b[1;32mas\u001b[0m \u001b[0merr\u001b[0m\u001b[1;33m:\u001b[0m\u001b[1;33m\u001b[0m\u001b[1;33m\u001b[0m\u001b[0m\n\u001b[0;32m    721\u001b[0m             \u001b[1;31m# e.g. \"could not convert string to float: 'a'\"\u001b[0m\u001b[1;33m\u001b[0m\u001b[1;33m\u001b[0m\u001b[0m\n\u001b[1;32m--> 722\u001b[1;33m             \u001b[1;32mraise\u001b[0m \u001b[0mTypeError\u001b[0m\u001b[1;33m(\u001b[0m\u001b[0mstr\u001b[0m\u001b[1;33m(\u001b[0m\u001b[0merr\u001b[0m\u001b[1;33m)\u001b[0m\u001b[1;33m)\u001b[0m \u001b[1;32mfrom\u001b[0m \u001b[0merr\u001b[0m\u001b[1;33m\u001b[0m\u001b[1;33m\u001b[0m\u001b[0m\n\u001b[0m\u001b[0;32m    723\u001b[0m         \u001b[1;32mif\u001b[0m \u001b[0mmask\u001b[0m \u001b[1;32mis\u001b[0m \u001b[1;32mnot\u001b[0m \u001b[1;32mNone\u001b[0m\u001b[1;33m:\u001b[0m\u001b[1;33m\u001b[0m\u001b[1;33m\u001b[0m\u001b[0m\n\u001b[0;32m    724\u001b[0m             \u001b[0mvalues\u001b[0m\u001b[1;33m[\u001b[0m\u001b[0mmask\u001b[0m\u001b[1;33m]\u001b[0m \u001b[1;33m=\u001b[0m \u001b[0mnp\u001b[0m\u001b[1;33m.\u001b[0m\u001b[0mnan\u001b[0m\u001b[1;33m\u001b[0m\u001b[1;33m\u001b[0m\u001b[0m\n",
      "\u001b[1;31mTypeError\u001b[0m: could not convert string to float: 'tbd'"
     ]
    }
   ],
   "source": [
    "# Calculate median User Score\n",
    "median_us = df_vgs['User_Score'].median()\n",
    "median_us"
   ]
  },
  {
   "cell_type": "code",
   "execution_count": null,
   "id": "7df46f4b",
   "metadata": {},
   "outputs": [],
   "source": [
    "#Error from the above while calculating te median. This is solved by conversion, replacement etc, as below."
   ]
  },
  {
   "cell_type": "code",
   "execution_count": 21,
   "id": "beb18e7a",
   "metadata": {},
   "outputs": [
    {
     "data": {
      "text/plain": [
       "array(['8', nan, '8.3', '8.5', '6.6', '8.4', '8.6', '7.7', '6.3', '7.4',\n",
       "       '8.2', '9', '7.9', '8.1', '8.7', '7.1', '3.4', '5.3', '4.8', '3.2',\n",
       "       '8.9', '6.4', '7.8', '7.5', '2.6', '7.2', '9.2', '7', '7.3', '4.3',\n",
       "       '7.6', '5.7', '5', '9.1', '6.5', 'tbd', '8.8', '6.9', '9.4', '6.8',\n",
       "       '6.1', '6.7', '5.4', '4', '4.9', '4.5', '9.3', '6.2', '4.2', '6',\n",
       "       '3.7', '4.1', '5.8', '5.6', '5.5', '4.4', '4.6', '5.9', '3.9',\n",
       "       '3.1', '2.9', '5.2', '3.3', '4.7', '5.1', '3.5', '2.5', '1.9', '3',\n",
       "       '2.7', '2.2', '2', '9.5', '2.1', '3.6', '2.8', '1.8', '3.8', '0',\n",
       "       '1.6', '9.6', '2.4', '1.7', '1.1', '0.3', '1.5', '0.7', '1.2',\n",
       "       '2.3', '0.5', '1.3', '0.2', '0.6', '1.4', '0.9', '1', '9.7'],\n",
       "      dtype=object)"
      ]
     },
     "execution_count": 21,
     "metadata": {},
     "output_type": "execute_result"
    }
   ],
   "source": [
    "# Check unique User Scores\n",
    "df_vgs.User_Score.unique()"
   ]
  },
  {
   "cell_type": "markdown",
   "id": "446403b4",
   "metadata": {},
   "source": [
    "From above result, there is only 1 non-numeric value \"tbd\" which needs to be replaced with NaN. and 1 'nan' user score"
   ]
  },
  {
   "cell_type": "code",
   "execution_count": 22,
   "id": "c64486d9",
   "metadata": {},
   "outputs": [
    {
     "data": {
      "text/plain": [
       "array(['8', nan, '8.3', '8.5', '6.6', '8.4', '8.6', '7.7', '6.3', '7.4',\n",
       "       '8.2', '9', '7.9', '8.1', '8.7', '7.1', '3.4', '5.3', '4.8', '3.2',\n",
       "       '8.9', '6.4', '7.8', '7.5', '2.6', '7.2', '9.2', '7', '7.3', '4.3',\n",
       "       '7.6', '5.7', '5', '9.1', '6.5', '8.8', '6.9', '9.4', '6.8', '6.1',\n",
       "       '6.7', '5.4', '4', '4.9', '4.5', '9.3', '6.2', '4.2', '6', '3.7',\n",
       "       '4.1', '5.8', '5.6', '5.5', '4.4', '4.6', '5.9', '3.9', '3.1',\n",
       "       '2.9', '5.2', '3.3', '4.7', '5.1', '3.5', '2.5', '1.9', '3', '2.7',\n",
       "       '2.2', '2', '9.5', '2.1', '3.6', '2.8', '1.8', '3.8', '0', '1.6',\n",
       "       '9.6', '2.4', '1.7', '1.1', '0.3', '1.5', '0.7', '1.2', '2.3',\n",
       "       '0.5', '1.3', '0.2', '0.6', '1.4', '0.9', '1', '9.7'], dtype=object)"
      ]
     },
     "execution_count": 22,
     "metadata": {},
     "output_type": "execute_result"
    }
   ],
   "source": [
    "# Replace the value \"tbd\" with NaN values\n",
    "df_vgs['User_Score'] = df_vgs['User_Score'].replace(r'tbd', np.NaN, regex=True)\n",
    "df_vgs.User_Score.unique()"
   ]
  },
  {
   "cell_type": "code",
   "execution_count": 23,
   "id": "394936ca",
   "metadata": {},
   "outputs": [
    {
     "data": {
      "text/plain": [
       "dtype('float64')"
      ]
     },
     "execution_count": 23,
     "metadata": {},
     "output_type": "execute_result"
    }
   ],
   "source": [
    "# Convert to data type of 'User Score' from Object to Float\n",
    "df_vgs['User_Score'] = df_vgs['User_Score'].astype(float)\n",
    "df_vgs.dtypes['User_Score']"
   ]
  },
  {
   "cell_type": "code",
   "execution_count": 24,
   "id": "bbf6f515",
   "metadata": {},
   "outputs": [
    {
     "data": {
      "text/plain": [
       "7.5"
      ]
     },
     "execution_count": 24,
     "metadata": {},
     "output_type": "execute_result"
    }
   ],
   "source": [
    "# Now Calculate median User Score\n",
    "median_us = df_vgs['User_Score'].median()\n",
    "median_us"
   ]
  },
  {
   "cell_type": "code",
   "execution_count": 25,
   "id": "348e7129",
   "metadata": {},
   "outputs": [
    {
     "data": {
      "text/plain": [
       "array([8. , 7.5, 8.3, 8.5, 6.6, 8.4, 8.6, 7.7, 6.3, 7.4, 8.2, 9. , 7.9,\n",
       "       8.1, 8.7, 7.1, 3.4, 5.3, 4.8, 3.2, 8.9, 6.4, 7.8, 2.6, 7.2, 9.2,\n",
       "       7. , 7.3, 4.3, 7.6, 5.7, 5. , 9.1, 6.5, 8.8, 6.9, 9.4, 6.8, 6.1,\n",
       "       6.7, 5.4, 4. , 4.9, 4.5, 9.3, 6.2, 4.2, 6. , 3.7, 4.1, 5.8, 5.6,\n",
       "       5.5, 4.4, 4.6, 5.9, 3.9, 3.1, 2.9, 5.2, 3.3, 4.7, 5.1, 3.5, 2.5,\n",
       "       1.9, 3. , 2.7, 2.2, 2. , 9.5, 2.1, 3.6, 2.8, 1.8, 3.8, 0. , 1.6,\n",
       "       9.6, 2.4, 1.7, 1.1, 0.3, 1.5, 0.7, 1.2, 2.3, 0.5, 1.3, 0.2, 0.6,\n",
       "       1.4, 0.9, 1. , 9.7])"
      ]
     },
     "execution_count": 25,
     "metadata": {},
     "output_type": "execute_result"
    }
   ],
   "source": [
    "# Replace NaN with median value 7.5 and display all unique values of User_Score\n",
    "df_vgs['User_Score'].fillna(value=median_us, inplace=True)\n",
    "df_vgs.User_Score.unique()"
   ]
  },
  {
   "cell_type": "code",
   "execution_count": null,
   "id": "82b70b8b",
   "metadata": {},
   "outputs": [],
   "source": []
  }
 ],
 "metadata": {
  "kernelspec": {
   "display_name": "Python 3 (ipykernel)",
   "language": "python",
   "name": "python3"
  },
  "language_info": {
   "codemirror_mode": {
    "name": "ipython",
    "version": 3
   },
   "file_extension": ".py",
   "mimetype": "text/x-python",
   "name": "python",
   "nbconvert_exporter": "python",
   "pygments_lexer": "ipython3",
   "version": "3.9.7"
  }
 },
 "nbformat": 4,
 "nbformat_minor": 5
}
