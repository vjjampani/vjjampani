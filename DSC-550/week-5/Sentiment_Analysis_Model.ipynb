{
 "cells": [
  {
   "cell_type": "markdown",
   "id": "b8fbadcd",
   "metadata": {},
   "source": [
    "## Exercise 5.2: Build Your Own Sentiment Analysis Model"
   ]
  },
  {
   "cell_type": "markdown",
   "id": "07aa9ed2",
   "metadata": {},
   "source": [
    "### You will build a model with the movie reviews dataset that you worked with in Week 3: Bag of Words Meets Bags of Popcorn. \n",
    "1. Get the stemmed data using the same process you did in Week 3.\n",
    "2. Split this into a training and test set.\n",
    "3. Fit and apply the tf-idf vectorization to the training set.\n",
    "4. Apply but DO NOT FIT the tf-idf vectorization to the test set (Why?).\n",
    "5. Train a logistic regression using the training data.\n",
    "6. Find the model accuracy on the test set.\n",
    "7. Create a confusion matrix for the test set predictions.\n",
    "8. Get the precision, recall, and F1-score for the test set predictions.\n",
    "9. Create a ROC curve for the test set.\n",
    "10. Pick another classification model you learned about this week and repeat steps (5) – (9)."
   ]
  },
  {
   "cell_type": "code",
   "execution_count": 7,
   "id": "48e30623",
   "metadata": {},
   "outputs": [],
   "source": [
    "# Import required packages\n",
    "\n",
    "import pandas as pd \n",
    "import numpy as np\n",
    "import re as re\n",
    "from textblob import TextBlob\n",
    "from textblob.classifiers import NaiveBayesClassifier\n",
    "import nltk\n",
    "from nltk.corpus import stopwords\n",
    "from bs4 import BeautifulSoup \n",
    "from sklearn.feature_extraction.text import CountVectorizer\n",
    "from sklearn.ensemble import RandomForestClassifier\n",
    "import html\n",
    "from nltk.stem import PorterStemmer"
   ]
  },
  {
   "cell_type": "markdown",
   "id": "c5bc4787",
   "metadata": {},
   "source": [
    "1. Get the stemmed data using the same process you did in Week 3."
   ]
  },
  {
   "cell_type": "code",
   "execution_count": 2,
   "id": "81152cbd",
   "metadata": {},
   "outputs": [
    {
     "data": {
      "text/html": [
       "<div>\n",
       "<style scoped>\n",
       "    .dataframe tbody tr th:only-of-type {\n",
       "        vertical-align: middle;\n",
       "    }\n",
       "\n",
       "    .dataframe tbody tr th {\n",
       "        vertical-align: top;\n",
       "    }\n",
       "\n",
       "    .dataframe thead th {\n",
       "        text-align: right;\n",
       "    }\n",
       "</style>\n",
       "<table border=\"1\" class=\"dataframe\">\n",
       "  <thead>\n",
       "    <tr style=\"text-align: right;\">\n",
       "      <th></th>\n",
       "      <th>id</th>\n",
       "      <th>sentiment</th>\n",
       "      <th>review</th>\n",
       "    </tr>\n",
       "  </thead>\n",
       "  <tbody>\n",
       "    <tr>\n",
       "      <th>0</th>\n",
       "      <td>5814_8</td>\n",
       "      <td>1</td>\n",
       "      <td>With all this stuff going down at the moment w...</td>\n",
       "    </tr>\n",
       "    <tr>\n",
       "      <th>1</th>\n",
       "      <td>2381_9</td>\n",
       "      <td>1</td>\n",
       "      <td>\\The Classic War of the Worlds\\\" by Timothy Hi...</td>\n",
       "    </tr>\n",
       "    <tr>\n",
       "      <th>2</th>\n",
       "      <td>7759_3</td>\n",
       "      <td>0</td>\n",
       "      <td>The film starts with a manager (Nicholas Bell)...</td>\n",
       "    </tr>\n",
       "    <tr>\n",
       "      <th>3</th>\n",
       "      <td>3630_4</td>\n",
       "      <td>0</td>\n",
       "      <td>It must be assumed that those who praised this...</td>\n",
       "    </tr>\n",
       "    <tr>\n",
       "      <th>4</th>\n",
       "      <td>9495_8</td>\n",
       "      <td>1</td>\n",
       "      <td>Superbly trashy and wondrously unpretentious 8...</td>\n",
       "    </tr>\n",
       "  </tbody>\n",
       "</table>\n",
       "</div>"
      ],
      "text/plain": [
       "       id  sentiment                                             review\n",
       "0  5814_8          1  With all this stuff going down at the moment w...\n",
       "1  2381_9          1  \\The Classic War of the Worlds\\\" by Timothy Hi...\n",
       "2  7759_3          0  The film starts with a manager (Nicholas Bell)...\n",
       "3  3630_4          0  It must be assumed that those who praised this...\n",
       "4  9495_8          1  Superbly trashy and wondrously unpretentious 8..."
      ]
     },
     "execution_count": 2,
     "metadata": {},
     "output_type": "execute_result"
    }
   ],
   "source": [
    "#Loading tsv data into data frame\n",
    "trainData = pd.read_csv('labeledTrainData.tsv.zip', delimiter=\"\\t\")\n",
    "trainData.head()"
   ]
  },
  {
   "cell_type": "code",
   "execution_count": 3,
   "id": "240caeac",
   "metadata": {},
   "outputs": [
    {
     "data": {
      "text/plain": [
       "(25000, 3)"
      ]
     },
     "execution_count": 3,
     "metadata": {},
     "output_type": "execute_result"
    }
   ],
   "source": [
    "# Shape of the trainData\n",
    "trainData.shape"
   ]
  },
  {
   "cell_type": "code",
   "execution_count": 4,
   "id": "5c261a99",
   "metadata": {},
   "outputs": [
    {
     "name": "stdout",
     "output_type": "stream",
     "text": [
      "Number of rows in the train data set with positive reviews are : 12500\n",
      "Number of rows in the train data set with Negative reviews in dataset : 12500\n"
     ]
    }
   ],
   "source": [
    "# Checking counts of positive and negative reviews\n",
    "print(\"Number of rows in the train data set with positive reviews are :\", sum(trainData['sentiment'] == 1))\n",
    "print(\"Number of rows in the train data set with Negative reviews in dataset :\", sum(trainData['sentiment'] == 0))"
   ]
  },
  {
   "cell_type": "code",
   "execution_count": 5,
   "id": "bd9885f0",
   "metadata": {},
   "outputs": [],
   "source": [
    "# creating function to clean text to clean the input text.\n",
    "def clean_text(text):\n",
    "    text = BeautifulSoup(text).get_text() #beautifying text\n",
    "    letters_only = re.sub(\"[^a-zA-Z]\", \" \", text) # clean the html charecters (non text)\n",
    "    words = letters_only.lower().split()   # convert to lower text                        \n",
    "    stops = set(stopwords.words(\"english\")) # setting stop words to remove                  \n",
    "    main_words = [w for w in words if not w in stops]   \n",
    "    return( \" \".join( main_words )) "
   ]
  },
  {
   "cell_type": "code",
   "execution_count": 6,
   "id": "bd44c4d9",
   "metadata": {},
   "outputs": [],
   "source": [
    "# applying clean function on the data frame's review column and creating a new column with clean text in trainData frame\n",
    "trainData['clean_review'] = trainData['review'].apply(clean_text)"
   ]
  },
  {
   "cell_type": "code",
   "execution_count": 8,
   "id": "be6063dd",
   "metadata": {},
   "outputs": [
    {
     "data": {
      "text/html": [
       "<div>\n",
       "<style scoped>\n",
       "    .dataframe tbody tr th:only-of-type {\n",
       "        vertical-align: middle;\n",
       "    }\n",
       "\n",
       "    .dataframe tbody tr th {\n",
       "        vertical-align: top;\n",
       "    }\n",
       "\n",
       "    .dataframe thead th {\n",
       "        text-align: right;\n",
       "    }\n",
       "</style>\n",
       "<table border=\"1\" class=\"dataframe\">\n",
       "  <thead>\n",
       "    <tr style=\"text-align: right;\">\n",
       "      <th></th>\n",
       "      <th>id</th>\n",
       "      <th>sentiment</th>\n",
       "      <th>review</th>\n",
       "      <th>clean_review</th>\n",
       "    </tr>\n",
       "  </thead>\n",
       "  <tbody>\n",
       "    <tr>\n",
       "      <th>0</th>\n",
       "      <td>5814_8</td>\n",
       "      <td>1</td>\n",
       "      <td>With all this stuff going down at the moment w...</td>\n",
       "      <td>stuff going moment mj started listening music ...</td>\n",
       "    </tr>\n",
       "    <tr>\n",
       "      <th>1</th>\n",
       "      <td>2381_9</td>\n",
       "      <td>1</td>\n",
       "      <td>\\The Classic War of the Worlds\\\" by Timothy Hi...</td>\n",
       "      <td>classic war worlds timothy hines entertaining ...</td>\n",
       "    </tr>\n",
       "    <tr>\n",
       "      <th>2</th>\n",
       "      <td>7759_3</td>\n",
       "      <td>0</td>\n",
       "      <td>The film starts with a manager (Nicholas Bell)...</td>\n",
       "      <td>film starts manager nicholas bell giving welco...</td>\n",
       "    </tr>\n",
       "    <tr>\n",
       "      <th>3</th>\n",
       "      <td>3630_4</td>\n",
       "      <td>0</td>\n",
       "      <td>It must be assumed that those who praised this...</td>\n",
       "      <td>must assumed praised film greatest filmed oper...</td>\n",
       "    </tr>\n",
       "    <tr>\n",
       "      <th>4</th>\n",
       "      <td>9495_8</td>\n",
       "      <td>1</td>\n",
       "      <td>Superbly trashy and wondrously unpretentious 8...</td>\n",
       "      <td>superbly trashy wondrously unpretentious explo...</td>\n",
       "    </tr>\n",
       "  </tbody>\n",
       "</table>\n",
       "</div>"
      ],
      "text/plain": [
       "       id  sentiment                                             review  \\\n",
       "0  5814_8          1  With all this stuff going down at the moment w...   \n",
       "1  2381_9          1  \\The Classic War of the Worlds\\\" by Timothy Hi...   \n",
       "2  7759_3          0  The film starts with a manager (Nicholas Bell)...   \n",
       "3  3630_4          0  It must be assumed that those who praised this...   \n",
       "4  9495_8          1  Superbly trashy and wondrously unpretentious 8...   \n",
       "\n",
       "                                        clean_review  \n",
       "0  stuff going moment mj started listening music ...  \n",
       "1  classic war worlds timothy hines entertaining ...  \n",
       "2  film starts manager nicholas bell giving welco...  \n",
       "3  must assumed praised film greatest filmed oper...  \n",
       "4  superbly trashy wondrously unpretentious explo...  "
      ]
     },
     "execution_count": 8,
     "metadata": {},
     "output_type": "execute_result"
    }
   ],
   "source": [
    "trainData.head()"
   ]
  },
  {
   "cell_type": "code",
   "execution_count": 9,
   "id": "5a8d3d29",
   "metadata": {},
   "outputs": [],
   "source": [
    "# Applying porterstemmer on clean_review\n",
    "ps = PorterStemmer()\n",
    "trainData['clean_review'] = trainData['clean_review'].apply(lambda review: ps.stem(review))"
   ]
  },
  {
   "cell_type": "code",
   "execution_count": 10,
   "id": "ef61139f",
   "metadata": {},
   "outputs": [
    {
     "name": "stdout",
     "output_type": "stream",
     "text": [
      "['go', 'immediately', 'rent', 'movie', 'bottom', 'shelf', 'local', 'video', 'store', 'covered', 'dust', 'one', 'touched', 'years', 'may', 'even', 'special', 'worth', 'ten', 'bucks', 'swear', 'buy', 'many', 'films', 'compare', 'celluloid', 'version', 'goo', 'forms', 'bottom', 'trash', 'years', 'yes', 'gave', 'really', 'deserves', 'much', 'lower', 'scales', 'designed', 'stuff', 'like', 'mind']\n"
     ]
    }
   ],
   "source": [
    "# importing word_tokenize\n",
    "from nltk import word_tokenize \n",
    "# extracting and prinitng tokenized values sample\n",
    "corpora = trainData['clean_review'].values\n",
    "tokenized = [word_tokenize(corpus) for corpus in corpora]\n",
    "\n",
    "print(tokenized[2222])"
   ]
  },
  {
   "cell_type": "code",
   "execution_count": 12,
   "id": "d35bea1e",
   "metadata": {},
   "outputs": [
    {
     "data": {
      "text/plain": [
       "(25000, 4)"
      ]
     },
     "execution_count": 12,
     "metadata": {},
     "output_type": "execute_result"
    }
   ],
   "source": [
    "# shape of train data frame\n",
    "trainData.shape"
   ]
  },
  {
   "cell_type": "markdown",
   "id": "10e67260",
   "metadata": {},
   "source": [
    "2. Split this into a training and test set"
   ]
  },
  {
   "cell_type": "code",
   "execution_count": 13,
   "id": "10e61028",
   "metadata": {},
   "outputs": [],
   "source": [
    "# import Necessary libraries\n",
    "from sklearn import linear_model\n",
    "from sklearn.model_selection import train_test_split\n",
    "from sklearn import metrics\n",
    "from sklearn.metrics import mean_squared_error"
   ]
  },
  {
   "cell_type": "code",
   "execution_count": 14,
   "id": "452b55a4",
   "metadata": {},
   "outputs": [],
   "source": [
    "#Select Predictor columns\n",
    "X = trainData[['id','clean_review']]\n",
    "\n",
    "#Select target column\n",
    "y = trainData['sentiment']\n",
    "\n",
    "names = [\n",
    "       'sentiment'\n",
    "    , 'id', 'review'\n",
    "]"
   ]
  },
  {
   "cell_type": "code",
   "execution_count": 15,
   "id": "75ecd823",
   "metadata": {},
   "outputs": [],
   "source": [
    "# Split data into training and test sets\n",
    "X_train, X_test, y_train, y_test = train_test_split(X, y, train_size=0.8, test_size=0.2)"
   ]
  },
  {
   "cell_type": "markdown",
   "id": "fbb78bdf",
   "metadata": {},
   "source": [
    "3. Fit and apply the tf-idf vectorization to the training set."
   ]
  },
  {
   "cell_type": "code",
   "execution_count": 16,
   "id": "52db3d8c",
   "metadata": {},
   "outputs": [],
   "source": [
    "# Creating bag_of_words matrix from clean review\n",
    "count = CountVectorizer()\n",
    "bag_of_words_train = count.fit_transform(X_train['clean_review'])"
   ]
  },
  {
   "cell_type": "code",
   "execution_count": 17,
   "id": "92f60b73",
   "metadata": {},
   "outputs": [
    {
     "data": {
      "text/plain": [
       "<20000x68946 sparse matrix of type '<class 'numpy.int64'>'\n",
       "\twith 1952611 stored elements in Compressed Sparse Row format>"
      ]
     },
     "execution_count": 17,
     "metadata": {},
     "output_type": "execute_result"
    }
   ],
   "source": [
    "#Size of bag_of_words\n",
    "bag_of_words_train "
   ]
  },
  {
   "cell_type": "code",
   "execution_count": 18,
   "id": "74c2e6b9",
   "metadata": {},
   "outputs": [
    {
     "name": "stdout",
     "output_type": "stream",
     "text": [
      "(20000, 68946)\n"
     ]
    }
   ],
   "source": [
    "# Import tf-idf encoding from sklearn library\n",
    "from sklearn.feature_extraction.text import TfidfVectorizer\n",
    "\n",
    "# Define some hiperparameters of encoded\n",
    "vectorizer = TfidfVectorizer()\n",
    "\n",
    "# Create the training set with the words encoded as features of the reviews\n",
    "train_data_features = vectorizer.fit_transform(X_train['clean_review'])\n",
    "\n",
    "print(train_data_features.shape)"
   ]
  },
  {
   "cell_type": "markdown",
   "id": "51a1b554",
   "metadata": {},
   "source": [
    "It concludes the shape of train_data_features (20000, 68803) matches the bag_of_words(bag_of_words_train) shape."
   ]
  },
  {
   "cell_type": "markdown",
   "id": "dfff3614",
   "metadata": {},
   "source": [
    "4. Apply but DO NOT FIT the tf-idf vectorization to the test set (Why?)."
   ]
  },
  {
   "cell_type": "code",
   "execution_count": 19,
   "id": "236d6ca0",
   "metadata": {},
   "outputs": [],
   "source": [
    "#bag of words for test data.\n",
    "bag_of_words_test = count.fit_transform(X_test['clean_review'])"
   ]
  },
  {
   "cell_type": "code",
   "execution_count": 20,
   "id": "89022708",
   "metadata": {},
   "outputs": [
    {
     "data": {
      "text/plain": [
       "<5000x38768 sparse matrix of type '<class 'numpy.int64'>'\n",
       "\twith 493533 stored elements in Compressed Sparse Row format>"
      ]
     },
     "execution_count": 20,
     "metadata": {},
     "output_type": "execute_result"
    }
   ],
   "source": [
    "#size of bag_of_words_test\n",
    "bag_of_words_test"
   ]
  },
  {
   "cell_type": "markdown",
   "id": "ceb8a818",
   "metadata": {},
   "source": [
    "We didnt fit the tf-idf vectorization on test data, as we should be predicting the sentiment value - by applying the model we trained on train data but not on test data."
   ]
  },
  {
   "cell_type": "markdown",
   "id": "93605979",
   "metadata": {},
   "source": [
    "5. Train a logistic regression using the training data."
   ]
  },
  {
   "cell_type": "code",
   "execution_count": 21,
   "id": "6bc44ed0",
   "metadata": {},
   "outputs": [
    {
     "data": {
      "text/plain": [
       "LogisticRegression(multi_class='multinomial', random_state=0)"
      ]
     },
     "execution_count": 21,
     "metadata": {},
     "output_type": "execute_result"
    }
   ],
   "source": [
    "# Import the logistic regression model from sklearn \n",
    "from sklearn.linear_model import LogisticRegression\n",
    "\n",
    "# Define the model\n",
    "model = LogisticRegression(random_state=0, solver='lbfgs',\n",
    "                            multi_class='multinomial')\n",
    "# Train model\n",
    "model.fit(train_data_features, y_train)"
   ]
  },
  {
   "cell_type": "markdown",
   "id": "efb5b468",
   "metadata": {},
   "source": [
    "6. Find the model accuracy on the test set."
   ]
  },
  {
   "cell_type": "code",
   "execution_count": 22,
   "id": "87a69514",
   "metadata": {},
   "outputs": [
    {
     "name": "stdout",
     "output_type": "stream",
     "text": [
      "(5000, 2)\n"
     ]
    },
    {
     "data": {
      "text/html": [
       "<div>\n",
       "<style scoped>\n",
       "    .dataframe tbody tr th:only-of-type {\n",
       "        vertical-align: middle;\n",
       "    }\n",
       "\n",
       "    .dataframe tbody tr th {\n",
       "        vertical-align: top;\n",
       "    }\n",
       "\n",
       "    .dataframe thead th {\n",
       "        text-align: right;\n",
       "    }\n",
       "</style>\n",
       "<table border=\"1\" class=\"dataframe\">\n",
       "  <thead>\n",
       "    <tr style=\"text-align: right;\">\n",
       "      <th></th>\n",
       "      <th>id</th>\n",
       "      <th>sentiment_calc</th>\n",
       "      <th>train_sentiment</th>\n",
       "    </tr>\n",
       "  </thead>\n",
       "  <tbody>\n",
       "    <tr>\n",
       "      <th>18054</th>\n",
       "      <td>5942_7</td>\n",
       "      <td>0</td>\n",
       "      <td>1</td>\n",
       "    </tr>\n",
       "    <tr>\n",
       "      <th>22903</th>\n",
       "      <td>5462_3</td>\n",
       "      <td>1</td>\n",
       "      <td>0</td>\n",
       "    </tr>\n",
       "    <tr>\n",
       "      <th>19510</th>\n",
       "      <td>12360_4</td>\n",
       "      <td>1</td>\n",
       "      <td>0</td>\n",
       "    </tr>\n",
       "    <tr>\n",
       "      <th>4842</th>\n",
       "      <td>2561_7</td>\n",
       "      <td>1</td>\n",
       "      <td>1</td>\n",
       "    </tr>\n",
       "    <tr>\n",
       "      <th>20604</th>\n",
       "      <td>10736_10</td>\n",
       "      <td>1</td>\n",
       "      <td>1</td>\n",
       "    </tr>\n",
       "  </tbody>\n",
       "</table>\n",
       "</div>"
      ],
      "text/plain": [
       "             id  sentiment_calc  train_sentiment\n",
       "18054    5942_7               0                1\n",
       "22903    5462_3               1                0\n",
       "19510   12360_4               1                0\n",
       "4842     2561_7               1                1\n",
       "20604  10736_10               1                1"
      ]
     },
     "execution_count": 22,
     "metadata": {},
     "output_type": "execute_result"
    }
   ],
   "source": [
    "# Read the test data\n",
    "\n",
    "print(X_test.shape)\n",
    "\n",
    "\n",
    "# Create the test set with the words encoded as features of the reviews\n",
    "test_data_features_test = vectorizer.transform(X_test['clean_review'])\n",
    "\n",
    "\n",
    "# Use the logistic regression model to make sentiment label predictions\n",
    "result_lr = model.predict(test_data_features_test)\n",
    "\n",
    "# Copy the results to a pandas dataframe with an \"id\" column and a \"sentiment\" column\n",
    "output = pd.DataFrame( data={\"id\":X_test[\"id\"],\"sentiment_calc\":result_lr,\"train_sentiment\":y_test})\n",
    "output.head()"
   ]
  },
  {
   "cell_type": "code",
   "execution_count": 23,
   "id": "a6e17cec",
   "metadata": {},
   "outputs": [
    {
     "name": "stdout",
     "output_type": "stream",
     "text": [
      "Number of rows in the data set with positive reviews in dataset per Logistics Regression model : 2616\n",
      "Number of rows in the data set with Negative reviews in dataset per Logistics Regression model : 2384\n"
     ]
    }
   ],
   "source": [
    "# Calculating positive and negative review sentiment analysis count by Logistics Regression\n",
    "print(\"Number of rows in the data set with positive reviews in dataset per Logistics Regression model :\", sum(output['sentiment_calc'] > 0))\n",
    "print(\"Number of rows in the data set with Negative reviews in dataset per Logistics Regression model :\", sum(output['sentiment_calc'] == 0))"
   ]
  },
  {
   "cell_type": "code",
   "execution_count": 24,
   "id": "4d5f34eb",
   "metadata": {},
   "outputs": [
    {
     "name": "stdout",
     "output_type": "stream",
     "text": [
      "Number of rows in the data set with positive reviews in dataset per Logistics Regression model : 2616\n",
      "Number of rows in the data set with Negative reviews in dataset per Logistics Regression model : 2384\n"
     ]
    }
   ],
   "source": [
    "# Calculating positive and negative review sentiment analysis count by Logistics Regression\n",
    "print(\"Number of rows in the data set with positive reviews in dataset per Logistics Regression model :\", sum(output['sentiment_calc'] > 0))\n",
    "print(\"Number of rows in the data set with Negative reviews in dataset per Logistics Regression model :\", sum(output['sentiment_calc'] <= 0))"
   ]
  },
  {
   "cell_type": "code",
   "execution_count": 25,
   "id": "c6d90b32",
   "metadata": {},
   "outputs": [
    {
     "name": "stdout",
     "output_type": "stream",
     "text": [
      "Accurate positive sentiment prediction by Logistics Regression model : 2330\n",
      "Accurate negative sentiment prediction by Logistics Regression model : 2155\n"
     ]
    }
   ],
   "source": [
    "# Calculating Accuracy of custom model where labelled test data and Logistics Regression prediction for sentiment are matching\n",
    "print(\"Accurate positive sentiment prediction by Logistics Regression model :\", sum((output['sentiment_calc'] == 1) & (output['train_sentiment'] == 1)))\n",
    "print(\"Accurate negative sentiment prediction by Logistics Regression model :\", sum((output['sentiment_calc'] == 0) & (output['train_sentiment'] == 0)))\n"
   ]
  },
  {
   "cell_type": "markdown",
   "id": "d16ab556",
   "metadata": {},
   "source": [
    "Total number of agreements by custom model: 2330+2155 = 4485.\n",
    "Total number of samples: 5000.\n",
    "Accuracy of Logistics regression = (4485/5000)*100 = 89.7%.\n",
    "Accuracy of Logistics regression is about 89.7%. This is definitely better than random guessing as it would be a 50% accurate model with either yes or no."
   ]
  },
  {
   "cell_type": "markdown",
   "id": "3e73a52a",
   "metadata": {},
   "source": [
    "7. Create a confusion matrix for the test set predictions."
   ]
  },
  {
   "cell_type": "code",
   "execution_count": 26,
   "id": "ad29b889",
   "metadata": {},
   "outputs": [
    {
     "name": "stdout",
     "output_type": "stream",
     "text": [
      "Predicted     0     1\n",
      "Actual               \n",
      "0          2155   286\n",
      "1           229  2330\n"
     ]
    }
   ],
   "source": [
    "# confusion matrix\n",
    "confusion_matrix = pd.crosstab(output['train_sentiment'], output['sentiment_calc'] , rownames=['Actual'], colnames=['Predicted'])\n",
    "print (confusion_matrix)"
   ]
  },
  {
   "cell_type": "markdown",
   "id": "83e065a8",
   "metadata": {},
   "source": [
    "8. Get the precision, recall, and F1-score for the test set predictions."
   ]
  },
  {
   "cell_type": "markdown",
   "id": "14d513dd",
   "metadata": {},
   "source": [
    "Precision = (True Positive)/(True Positive + False Positive) = 2330/(2330+286) = 2330/2616= 0.89\n",
    "Recall = (True Positive)/(True Positive + False Negative) = 2330/(2330+229) = 2330/2559 = 0.91\n",
    "F1-Score = 2((Precison*Recall)/(Precision + Recall)) = 2 ((0.89 * 0.91)/(0.89 + 0.91)) = 2 (0.809/1.80) = 0.898"
   ]
  },
  {
   "cell_type": "markdown",
   "id": "c5628ded",
   "metadata": {},
   "source": [
    "9. Create a ROC curve for the test set."
   ]
  },
  {
   "cell_type": "code",
   "execution_count": 27,
   "id": "1e2cc580",
   "metadata": {},
   "outputs": [],
   "source": [
    "from sklearn.metrics import roc_curve\n",
    "import matplotlib.pyplot as plt\n",
    "%matplotlib inline"
   ]
  },
  {
   "cell_type": "code",
   "execution_count": 28,
   "id": "7398058d",
   "metadata": {},
   "outputs": [
    {
     "data": {
      "image/png": "[encoded data removed]",
      "text/plain": [
       "<Figure size 432x288 with 1 Axes>"
      ]
     },
     "metadata": {
      "needs_background": "light"
     },
     "output_type": "display_data"
    }
   ],
   "source": [
    "y_pred_list = [result_lr]\n",
    "label_list = [\"LR\"]\n",
    "pred_label = zip(y_pred_list, label_list)\n",
    "for y_pred, lbl in pred_label:\n",
    "    fpr, tpr, _ = roc_curve(y_test, y_pred)\n",
    "    plt.plot(fpr, tpr, label = lbl)\n",
    "\n",
    "plt.xlabel(\"True Postive Rate\")\n",
    "plt.ylabel(\"False Positive Rate\")\n",
    "plt.title(\"ROC Curve For Logistics Regression Models\")\n",
    "plt.legend()\n",
    "plt.show()"
   ]
  },
  {
   "cell_type": "markdown",
   "id": "b0cf1c6d",
   "metadata": {},
   "source": [
    "10. Pick another classification model you learned about this week and repeat steps (5) – (9)."
   ]
  },
  {
   "cell_type": "code",
   "execution_count": 29,
   "id": "5b3f8507",
   "metadata": {},
   "outputs": [],
   "source": [
    "# Random Forest : Selected Random Forest Model.\n",
    "# Load required libraries\n",
    "from sklearn.ensemble import RandomForestClassifier\n",
    "# Param Grid\n",
    "param_grid = {'n_estimators':[x for x in range(100,1000)],'criterion':['gini', 'entropy'],'min_samples_split':[2,5,10],'min_samples_leaf':[2,5,10] }"
   ]
  },
  {
   "cell_type": "code",
   "execution_count": 30,
   "id": "e644421a",
   "metadata": {},
   "outputs": [],
   "source": [
    "# Vectorize Test data for new model\n",
    "train_data_features_rf = vectorizer.fit_transform(X_train['clean_review'])"
   ]
  },
  {
   "cell_type": "code",
   "execution_count": 31,
   "id": "3ada0101",
   "metadata": {},
   "outputs": [
    {
     "name": "stdout",
     "output_type": "stream",
     "text": [
      "1.0\n"
     ]
    }
   ],
   "source": [
    "# Train a radius neighbors classifier\n",
    "clf = RandomForestClassifier(n_estimators= 500)\n",
    "clf.fit(train_data_features_rf,y_train)\n",
    "print(clf.score(train_data_features_rf,y_train))"
   ]
  },
  {
   "cell_type": "code",
   "execution_count": 32,
   "id": "c4179d5e",
   "metadata": {},
   "outputs": [
    {
     "name": "stdout",
     "output_type": "stream",
     "text": [
      "(5000, 2)\n"
     ]
    },
    {
     "data": {
      "text/html": [
       "<div>\n",
       "<style scoped>\n",
       "    .dataframe tbody tr th:only-of-type {\n",
       "        vertical-align: middle;\n",
       "    }\n",
       "\n",
       "    .dataframe tbody tr th {\n",
       "        vertical-align: top;\n",
       "    }\n",
       "\n",
       "    .dataframe thead th {\n",
       "        text-align: right;\n",
       "    }\n",
       "</style>\n",
       "<table border=\"1\" class=\"dataframe\">\n",
       "  <thead>\n",
       "    <tr style=\"text-align: right;\">\n",
       "      <th></th>\n",
       "      <th>id</th>\n",
       "      <th>sentiment_calc</th>\n",
       "      <th>train_sentiment</th>\n",
       "    </tr>\n",
       "  </thead>\n",
       "  <tbody>\n",
       "    <tr>\n",
       "      <th>18054</th>\n",
       "      <td>5942_7</td>\n",
       "      <td>0</td>\n",
       "      <td>1</td>\n",
       "    </tr>\n",
       "    <tr>\n",
       "      <th>22903</th>\n",
       "      <td>5462_3</td>\n",
       "      <td>1</td>\n",
       "      <td>0</td>\n",
       "    </tr>\n",
       "    <tr>\n",
       "      <th>19510</th>\n",
       "      <td>12360_4</td>\n",
       "      <td>1</td>\n",
       "      <td>0</td>\n",
       "    </tr>\n",
       "    <tr>\n",
       "      <th>4842</th>\n",
       "      <td>2561_7</td>\n",
       "      <td>1</td>\n",
       "      <td>1</td>\n",
       "    </tr>\n",
       "    <tr>\n",
       "      <th>20604</th>\n",
       "      <td>10736_10</td>\n",
       "      <td>1</td>\n",
       "      <td>1</td>\n",
       "    </tr>\n",
       "  </tbody>\n",
       "</table>\n",
       "</div>"
      ],
      "text/plain": [
       "             id  sentiment_calc  train_sentiment\n",
       "18054    5942_7               0                1\n",
       "22903    5462_3               1                0\n",
       "19510   12360_4               1                0\n",
       "4842     2561_7               1                1\n",
       "20604  10736_10               1                1"
      ]
     },
     "execution_count": 32,
     "metadata": {},
     "output_type": "execute_result"
    }
   ],
   "source": [
    "# Test Random Forest Model\n",
    "# Read the test data\n",
    "print(X_test.shape)\n",
    "# Create the test set with the words encoded as features of the reviews\n",
    "test_data_features_test_rf = vectorizer.transform(X_test['clean_review'])\n",
    "\n",
    "\n",
    "# Use the logistic regression model to make sentiment label predictions\n",
    "result_rf = clf.predict(test_data_features_test_rf)\n",
    "\n",
    "# Copy the results to a pandas dataframe with an \"id\" column and a \"sentiment\" column\n",
    "output_rf = pd.DataFrame( data={\"id\":X_test[\"id\"],\"sentiment_calc\":result_rf,\"train_sentiment\":y_test})\n",
    "output_rf.head()"
   ]
  },
  {
   "cell_type": "code",
   "execution_count": 33,
   "id": "a0d9e61a",
   "metadata": {},
   "outputs": [
    {
     "name": "stdout",
     "output_type": "stream",
     "text": [
      "Number of rows in the data set with positive reviews in dataset per RF model : 2540\n",
      "Number of rows in the data set with Negative reviews in dataset per RF model : 2460\n"
     ]
    }
   ],
   "source": [
    "#Calculating positive and negative review sentiment analysis count by RF\n",
    "print(\"Number of rows in the data set with positive reviews in dataset per RF model :\", sum(output_rf['sentiment_calc'] > 0))\n",
    "print(\"Number of rows in the data set with Negative reviews in dataset per RF model :\", sum(output_rf['sentiment_calc'] == 0))"
   ]
  },
  {
   "cell_type": "code",
   "execution_count": 34,
   "id": "a43ad48f",
   "metadata": {},
   "outputs": [
    {
     "name": "stdout",
     "output_type": "stream",
     "text": [
      "Accurate positive sentiment prediction by RF model : 2200\n",
      "Accurate negative sentiment prediction by RF model : 2101\n"
     ]
    }
   ],
   "source": [
    "# Calculating Accuracy of custom model where labelled test data and RF prediction for sentiment are matching\n",
    "print(\"Accurate positive sentiment prediction by RF model :\", sum((output_rf['sentiment_calc'] == 1) & (output_rf['train_sentiment'] == 1)))\n",
    "print(\"Accurate negative sentiment prediction by RF model :\", sum((output_rf['sentiment_calc'] == 0) & (output_rf['train_sentiment'] == 0)))\n"
   ]
  },
  {
   "cell_type": "markdown",
   "id": "c1a28629",
   "metadata": {},
   "source": [
    "Total number of agreements by custom model: 2200+2101 = 4301.\n",
    "Total number of samples: 5000.\n",
    "Accuracy of Logistics regression = (4301/5000)*100 = 86.02%.\n",
    "Accuracy of Logistics regression is about 86.02%. This is definitely better than random guessing as it would be a 50% accurate model with either yes or no."
   ]
  },
  {
   "cell_type": "code",
   "execution_count": 35,
   "id": "84ec5008",
   "metadata": {},
   "outputs": [
    {
     "name": "stdout",
     "output_type": "stream",
     "text": [
      "Predicted     0     1\n",
      "Actual               \n",
      "0          2101   340\n",
      "1           359  2200\n"
     ]
    }
   ],
   "source": [
    "# Confusion Matrix for Random Forest model\n",
    "confusion_matrix_rf = pd.crosstab(output_rf['train_sentiment'], output_rf['sentiment_calc'] , rownames=['Actual'], colnames=['Predicted'])\n",
    "print (confusion_matrix_rf)"
   ]
  },
  {
   "cell_type": "markdown",
   "id": "1f977491",
   "metadata": {},
   "source": [
    "Precision = (True Positive)/(True Positive + False Positive) = 2200/(2200+340) = 2200/2540= 0.866\n",
    "Recall = (True Positive)/(True Positive + False Negative) = 2200/(2200+359) = 2200/2559 = 0.859\n",
    "F1-Score = 2((Precison * Recall)/(Precision + Recall)) = 2 ((0.866 * 0.859)/(0.866 + 0.859)) = 2 (0.743/1.725) = 0.861"
   ]
  },
  {
   "cell_type": "code",
   "execution_count": 36,
   "id": "ec526c42",
   "metadata": {},
   "outputs": [
    {
     "data": {
      "image/png": "[encoded data removed]",
      "text/plain": [
       "<Figure size 432x288 with 1 Axes>"
      ]
     },
     "metadata": {
      "needs_background": "light"
     },
     "output_type": "display_data"
    }
   ],
   "source": [
    "# ROC Curve for Random Forest\n",
    "y_pred_list = [result_rf]\n",
    "label_list = [\"RF\"]\n",
    "pred_label = zip(y_pred_list, label_list)\n",
    "for y_pred, lbl in pred_label:\n",
    "    fpr, tpr, _ = roc_curve(y_test, y_pred)\n",
    "    plt.plot(fpr, tpr, label = lbl)\n",
    "\n",
    "plt.xlabel(\"True Postive Rate\")\n",
    "plt.ylabel(\"False Positive Rate\")\n",
    "plt.title(\"ROC Curve for Random Forest Model\")\n",
    "plt.legend()\n",
    "plt.show()"
   ]
  }
 ],
 "metadata": {
  "kernelspec": {
   "display_name": "Python 3 (ipykernel)",
   "language": "python",
   "name": "python3"
  },
  "language_info": {
   "codemirror_mode": {
    "name": "ipython",
    "version": 3
   },
   "file_extension": ".py",
   "mimetype": "text/x-python",
   "name": "python",
   "nbconvert_exporter": "python",
   "pygments_lexer": "ipython3",
   "version": "3.9.7"
  }
 },
 "nbformat": 4,
 "nbformat_minor": 5
}
