{
 "cells": [
  {
   "cell_type": "code",
   "execution_count": 1,
   "id": "2beaa228",
   "metadata": {},
   "outputs": [
    {
     "name": "stdout",
     "output_type": "stream",
     "text": [
      "Hello World! I wonder why that is always the default coding text to start with\n"
     ]
    }
   ],
   "source": [
    "print(\"Hello World! I wonder why that is always the default coding text to start with\")"
   ]
  },
  {
   "cell_type": "code",
   "execution_count": 2,
   "id": "0bd77397",
   "metadata": {},
   "outputs": [
    {
     "name": "stdout",
     "output_type": "stream",
     "text": [
      "Result of adding 100 and 200:  300\n"
     ]
    }
   ],
   "source": [
    "addition_result = 100 + 200\n",
    "print(\"Result of adding 100 and 200: \", addition_result)"
   ]
  },
  {
   "cell_type": "code",
   "execution_count": 3,
   "id": "cc018d1d",
   "metadata": {},
   "outputs": [
    {
     "name": "stdout",
     "output_type": "stream",
     "text": [
      "Result of subtracting 201 from 100:  101\n"
     ]
    }
   ],
   "source": [
    "subtract_result = 201 - 100\n",
    "print(\"Result of subtracting 201 from 100: \", subtract_result)"
   ]
  },
  {
   "cell_type": "code",
   "execution_count": 4,
   "id": "d270fb4c",
   "metadata": {},
   "outputs": [
    {
     "name": "stdout",
     "output_type": "stream",
     "text": [
      "Result of multiplying 101 and 201:  20301\n"
     ]
    }
   ],
   "source": [
    "multiply_result = 101 * 201\n",
    "print(\"Result of multiplying 101 and 201: \", multiply_result)"
   ]
  },
  {
   "cell_type": "code",
   "execution_count": 5,
   "id": "4fcc7960",
   "metadata": {},
   "outputs": [
    {
     "name": "stdout",
     "output_type": "stream",
     "text": [
      "Result of division of 201 and 10:  20.0\n"
     ]
    }
   ],
   "source": [
    "division_result = 200 / 10\n",
    "print(\"Result of division of 201 and 10: \", division_result)"
   ]
  },
  {
   "cell_type": "code",
   "execution_count": 6,
   "id": "cb697026",
   "metadata": {},
   "outputs": [
    {
     "name": "stdout",
     "output_type": "stream",
     "text": [
      "Result of concatenation of strings:  Data Science\n"
     ]
    }
   ],
   "source": [
    "concat_result = \"Data\" + \" Science\"\n",
    "print(\"Result of concatenation of strings: \", concat_result)"
   ]
  },
  {
   "cell_type": "code",
   "execution_count": 7,
   "id": "08276ebc",
   "metadata": {},
   "outputs": [
    {
     "name": "stdout",
     "output_type": "stream",
     "text": [
      "Elements of list_test:  ['Data', 10, 5.5, 'Data-530']\n"
     ]
    },
    {
     "data": {
      "text/plain": [
       "list"
      ]
     },
     "execution_count": 7,
     "metadata": {},
     "output_type": "execute_result"
    }
   ],
   "source": [
    "list_test1 = [\"Data\", 10, 5.5, \"Data-530\"]\n",
    "print(\"Elements of list_test: \", list_test1)\n",
    "type(list_test1)"
   ]
  },
  {
   "cell_type": "code",
   "execution_count": 8,
   "id": "4c8a8a08",
   "metadata": {},
   "outputs": [
    {
     "name": "stdout",
     "output_type": "stream",
     "text": [
      "Elements of list_test after appending an item:  ['Data', 10, 5.5, 'Data-530', 'Analysis', 550]\n"
     ]
    },
    {
     "data": {
      "text/plain": [
       "list"
      ]
     },
     "execution_count": 8,
     "metadata": {},
     "output_type": "execute_result"
    }
   ],
   "source": [
    "list_test1.append('Analysis')\n",
    "list_test1.append(550)\n",
    "print(\"Elements of list_test after appending an item: \", list_test1)\n",
    "type(list_test1)"
   ]
  },
  {
   "cell_type": "code",
   "execution_count": 9,
   "id": "143619d3",
   "metadata": {},
   "outputs": [
    {
     "name": "stdout",
     "output_type": "stream",
     "text": [
      "Elements of tuple_test:  (10, 5.5, 'Data', 'Data-530')\n"
     ]
    },
    {
     "data": {
      "text/plain": [
       "tuple"
      ]
     },
     "execution_count": 9,
     "metadata": {},
     "output_type": "execute_result"
    }
   ],
   "source": [
    "tuple_test = (10, 5.5, \"Data\", \"Data-530\")\n",
    "print(\"Elements of tuple_test: \", tuple_test)\n",
    "type(tuple_test)"
   ]
  }
 ],
 "metadata": {
  "kernelspec": {
   "display_name": "Python 3 (ipykernel)",
   "language": "python",
   "name": "python3"
  },
  "language_info": {
   "codemirror_mode": {
    "name": "ipython",
    "version": 3
   },
   "file_extension": ".py",
   "mimetype": "text/x-python",
   "name": "python",
   "nbconvert_exporter": "python",
   "pygments_lexer": "ipython3",
   "version": "3.9.7"
  }
 },
 "nbformat": 4,
 "nbformat_minor": 5
}
